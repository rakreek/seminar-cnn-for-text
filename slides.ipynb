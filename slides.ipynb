{
 "cells": [
  {
   "cell_type": "markdown",
   "metadata": {
    "slideshow": {
     "slide_type": "slide"
    }
   },
   "source": [
    "# Convolutional Neural Networks for Text Classification\n",
    "## Andy Kreek\n",
    "## July 11, 2017"
   ]
  },
  {
   "cell_type": "markdown",
   "metadata": {
    "slideshow": {
     "slide_type": "slide"
    }
   },
   "source": [
    "# What will we cover?\n",
    "\n",
    "* Setup and Notation (barf)\n",
    "* Example data: IMDB movie reviews\n",
    "* Word vectors\n",
    "* 1D convolutions\n",
    "* Max pooling\n",
    "* A convolutional neural network for text classification\n",
    "* Visualizing our results"
   ]
  },
  {
   "cell_type": "markdown",
   "metadata": {
    "slideshow": {
     "slide_type": "slide"
    }
   },
   "source": [
    "# The General Setup\n",
    "\n",
    "Our data set consists of $N$ pairs $\\{(s_i, y_i)\\}_{i=1,\\ldots,N}$.\n",
    "\n",
    "* $s_i$ are sequences of tokens: $s_i=[s_{i1}, s_{i2}, ..., s_{il_i}]$ where $l_i$ is the length of the $i$-th sequence.\n",
    "* $y_i$ are labels."
   ]
  },
  {
   "cell_type": "markdown",
   "metadata": {
    "slideshow": {
     "slide_type": "fragment"
    }
   },
   "source": [
    "For example, $s_{2533}$ could be `[\"the\", \"cat\", \"went\", \"outside\"]`.\n",
    "\n",
    "Sometimes, the sequences are padded with a special `<UNK>` token or truncated so that they all have the same length.\n",
    "\n",
    "__Example__\n",
    "\n",
    "* Pad to length 7: `[\"<UNK>\", \"<UNK>\", \"<UNK>\", \"the\", \"cat\", \"went\", \"outside\"]`\n",
    "* Truncate to length 3: `[\"the\", \"cat\", \"went\"]`"
   ]
  },
  {
   "cell_type": "markdown",
   "metadata": {
    "slideshow": {
     "slide_type": "subslide"
    }
   },
   "source": [
    "## Vocabulary\n",
    "\n",
    "The set of unique tokens is $V = \\{t_j\\}$, aka the vocabulary. The size of the vocabulary is $|V|$.\n",
    "\n",
    "By convention, index $j$ corresponds to the $j$-th most frequent token.\n",
    "\n",
    "Index $0$ is typically reserved for the `<UNK>` token."
   ]
  },
  {
   "cell_type": "markdown",
   "metadata": {
    "slideshow": {
     "slide_type": "slide"
    }
   },
   "source": [
    "# The Data\n",
    "\n",
    "![imdb logo](http://ia.media-imdb.com/images/M/MV5BMTk3ODA4Mjc0NF5BMl5BcG5nXkFtZTgwNDc1MzQ2OTE@._V1_.png)\n",
    "\n",
    "* 50000 highly polarized movie reviews, compiled in 2011 at Stanford.\n",
    "* 25000 train / 25000 test.\n",
    "* In each set, 12500 positive (7/10 rating or better) and 12500 negative (4/10 or worse).\n",
    "\n",
    "[Maas, et al. (2011)](http://www.aclweb.org/anthology/P11-1015)"
   ]
  },
  {
   "cell_type": "markdown",
   "metadata": {
    "slideshow": {
     "slide_type": "subslide"
    }
   },
   "source": [
    "### Positive Example\n",
    "\n",
    "(Emphasis added)\n",
    "\n",
    ">This is a __really interesting movie__. It is an action movie with comedy mixed in. Foxx teams up with comedian Epps in this movie to give it a comedic spin. It will keep you wondering whats going to happen to Foxx next. It was a __well shot movie__, the director __used the right colors__ in this movie(dark blue colors) to give it the right kind of feel. Kimberly Elise also starred in this movie and it is __always a pleasure__ to see her on the big screen. She __plays her role well__. Even Jamie Kennedy is in this movie. __It's worth seeing it__ you haven't seen it. [...]"
   ]
  },
  {
   "cell_type": "markdown",
   "metadata": {
    "slideshow": {
     "slide_type": "subslide"
    }
   },
   "source": [
    "### Negative Example\n",
    "\n",
    "(Emphasis added)\n",
    "\n",
    ">This had to be one of the __worst films ever__. When Kate shows up and Jed is with a bunch of guys and they all start clapping...so Hollywood. __Another bad scene__ was when Kate was running her hands over the pavement it appeared that she was examining the texture of the pavement. Andie's acting is so bad in this film - __I could not connect with them__ or feel there love for each other. The other 2 women however were very good and overshadowed Andie. Anyway this was __such a campy movie__. [...]"
   ]
  },
  {
   "cell_type": "markdown",
   "metadata": {
    "slideshow": {
     "slide_type": "slide"
    }
   },
   "source": [
    "# Word Vectors\n"
   ]
  },
  {
   "cell_type": "markdown",
   "metadata": {
    "slideshow": {
     "slide_type": "subslide"
    }
   },
   "source": [
    "## 1-Hot Encoding\n",
    "\n",
    "Let $x_{t_j} = (0,\\ldots,0,1,0,\\ldots,0) \\in \\mathbf{R}^{|V|}$. (The $j$-th entry of $x_{t_j}$ is 1, and the rest are 0)\n",
    "\n",
    "![one-hot example](img/one_hot_vectors.svg)"
   ]
  },
  {
   "cell_type": "markdown",
   "metadata": {
    "slideshow": {
     "slide_type": "subslide"
    }
   },
   "source": [
    "### Is this actually useful?\n",
    "\n",
    "* 1-hot vectors are sparse and high dimensional\n",
    "* Semantic/syntactic relationships are lost.\n",
    "\n",
    "![issues with one-hot encoding](img/equidistant_word_vectors.svg)"
   ]
  },
  {
   "cell_type": "markdown",
   "metadata": {
    "slideshow": {
     "slide_type": "subslide"
    }
   },
   "source": [
    "## Dense Word Embeddings\n",
    "\n",
    "Can we create a more useful representation of the words in our vocabulary?\n",
    "\n",
    "Ideally, we want:\n",
    "\n",
    "* Low dimenstional vectors.\n",
    "* Semantic/syntactic relationships between words are preserved.\n",
    "\n",
    "Word2Vec, developed by [Mikolov et al. (2013a)](https://papers.nips.cc/paper/5021-distributed-representations-of-words-and-phrases-and-their-compositionality.pdf), is a popoular neural network model that uses word adjacency to achieve these goals.\n",
    "\n",
    "GloVe, developed by [Pennington et al. (2014)](https://nlp.stanford.edu/pubs/glove.pdf) at Stanford, is another."
   ]
  },
  {
   "cell_type": "markdown",
   "metadata": {
    "slideshow": {
     "slide_type": "subslide"
    }
   },
   "source": [
    "So, instead of this...\n",
    "\n",
    "![one-hot vectors](img/one_hot_vectors.svg)"
   ]
  },
  {
   "cell_type": "markdown",
   "metadata": {
    "slideshow": {
     "slide_type": "subslide"
    }
   },
   "source": [
    "We have this!\n",
    "\n",
    "![dense word vectors](img/dense_embedding.svg)\n",
    "\n",
    "\n"
   ]
  },
  {
   "cell_type": "markdown",
   "metadata": {
    "slideshow": {
     "slide_type": "subslide"
    }
   },
   "source": [
    "And, relationships between words are encoded in their vector-space embeddings!\n",
    "\n",
    "![queen king](img/mikolov_2013b.png)\n",
    "\n",
    "[Mikolov et al (2013b)](https://www.aclweb.org/anthology/N/N13/N13-1090.pdf)"
   ]
  },
  {
   "cell_type": "markdown",
   "metadata": {
    "slideshow": {
     "slide_type": "subslide"
    }
   },
   "source": [
    "## Code Time!\n",
    "\n",
    "We'll be using [Keras](https://keras.io) to build our CNN.\n",
    "\n",
    "Here's how to add word embeddings to a Keras model."
   ]
  },
  {
   "cell_type": "code",
   "execution_count": 7,
   "metadata": {
    "collapsed": false
   },
   "outputs": [],
   "source": [
    "# This model \"stub\" is nothing more than a word-embedding layer\n",
    "# with randomly initialized weights.\n",
    "\n",
    "import numpy as np\n",
    "from keras.models import Sequential\n",
    "from keras.layers import Embedding\n",
    "\n",
    "embedding_example = Sequential()\n",
    "embedding_example.add(\n",
    "    Embedding(input_length=6,\n",
    "              input_dim=15,\n",
    "              output_dim=5))\n",
    "    \n",
    "# There is also a `weights` kwarg for pretrained word vectors."
   ]
  },
  {
   "cell_type": "code",
   "execution_count": 8,
   "metadata": {
    "collapsed": false,
    "slideshow": {
     "slide_type": "subslide"
    }
   },
   "outputs": [
    {
     "data": {
      "text/plain": [
       "array([[[-0.0168216 , -0.02629953, -0.04406124,  0.0296027 ,  0.02183444],\n",
       "        [-0.03417917,  0.01199464, -0.01235622, -0.02431607, -0.02335169],\n",
       "        [ 0.01407507, -0.03061602, -0.01962676,  0.01174899, -0.0052474 ],\n",
       "        [ 0.02606836, -0.0067421 , -0.00047936,  0.01490219, -0.01871777],\n",
       "        [-0.04216436,  0.04351366, -0.00182826, -0.0266427 , -0.0264061 ],\n",
       "        [-0.0361799 , -0.03256632,  0.02672929, -0.00998612,  0.04182993]]], dtype=float32)"
      ]
     },
     "execution_count": 8,
     "metadata": {},
     "output_type": "execute_result"
    }
   ],
   "source": [
    "# Instead of sequences of tokens to our model,\n",
    "# we just pass the indices in our vocabulary.\n",
    "\n",
    "# One record is one sequence of token indices.\n",
    "x = np.array([[0,1,2,3,4,5]])\n",
    "embedding_example.predict(x)"
   ]
  },
  {
   "cell_type": "markdown",
   "metadata": {
    "slideshow": {
     "slide_type": "slide"
    }
   },
   "source": [
    "# 1D Convolutions"
   ]
  },
  {
   "cell_type": "markdown",
   "metadata": {
    "slideshow": {
     "slide_type": "fragment"
    }
   },
   "source": [
    "#### con·vo·lu·tion\n",
    "/ˌkänvəˈlo͞oSHən/ _noun_\n",
    "1. a coil or twist, especially one of many.\n",
    "2. __MATHEMATICS__ a function derived from two given functions by integration that expresses how the shape of one is modified by the other."
   ]
  },
  {
   "cell_type": "markdown",
   "metadata": {
    "slideshow": {
     "slide_type": "subslide"
    }
   },
   "source": [
    "## Filters\n",
    "\n",
    "a.k.a filter maps, kernels"
   ]
  },
  {
   "cell_type": "markdown",
   "metadata": {
    "slideshow": {
     "slide_type": "fragment"
    }
   },
   "source": [
    "(Since there is a 1-to-1 correspondence of tokens to embedding vectors, with dimension $d$, we'll use $s_{ij}$ to refer to the embedding vector of the $j$-th word of the $i$-th sequence in our data set, not its token.)\n",
    "\n",
    "A convolutional filter $W$ is an $k \\times d$ set of weights ($k$ is called the width of the filter).\n",
    "\n",
    "$$ W = \n",
    "\\begin{pmatrix}\n",
    "| & \\ldots & | \\\\\n",
    "w_1 & \\ldots & w_k \\\\ \n",
    "| & \\ldots & | \\\\\n",
    "\\end{pmatrix}\n",
    "= \n",
    "\\begin{pmatrix}\n",
    "w_{11} & \\ldots & w_{1k} \\\\\n",
    "\\vdots & \\ddots & \\vdots \\\\\n",
    "w_{d1} & \\ldots & w_{dk} \\\\\n",
    "\\end{pmatrix}\n",
    "$$"
   ]
  },
  {
   "cell_type": "markdown",
   "metadata": {
    "slideshow": {
     "slide_type": "subslide"
    }
   },
   "source": [
    "## Filters\n",
    "\n",
    "![convolution](img/convolution.svg)"
   ]
  },
  {
   "cell_type": "markdown",
   "metadata": {
    "slideshow": {
     "slide_type": "fragment"
    }
   },
   "source": [
    "Now, just imagine each cell represents a vector, and that's all there is to it..."
   ]
  },
  {
   "cell_type": "markdown",
   "metadata": {
    "slideshow": {
     "slide_type": "fragment"
    }
   },
   "source": [
    "Oh, and add a bias term and pass the convolution through an activation function, tyically non-linear."
   ]
  },
  {
   "cell_type": "markdown",
   "metadata": {
    "slideshow": {
     "slide_type": "subslide"
    }
   },
   "source": [
    "## Code Time!"
   ]
  },
  {
   "cell_type": "code",
   "execution_count": 9,
   "metadata": {
    "collapsed": true,
    "slideshow": {
     "slide_type": "-"
    }
   },
   "outputs": [],
   "source": [
    "from keras.layers import Conv1D\n",
    "\n",
    "# Initialize our hard-coded convolutional filter\n",
    "conv_weights = np.zeros((3,5,1))\n",
    "conv_weights[0,:,0] = 1\n",
    "conv_bias = np.zeros(1)\n",
    "\n",
    "# A keras stub, just like before\n",
    "conv_example = Sequential()\n",
    "conv_example.add(\n",
    "    Conv1D(input_shape=(6,5),\n",
    "           activation='relu',\n",
    "           filters=1, # typically, you have many of these\n",
    "           kernel_size=3,\n",
    "           weights=[conv_weights, conv_bias]))"
   ]
  },
  {
   "cell_type": "code",
   "execution_count": 10,
   "metadata": {
    "collapsed": false,
    "slideshow": {
     "slide_type": "subslide"
    }
   },
   "outputs": [
    {
     "data": {
      "text/plain": [
       "array([[[ 2.10000014],\n",
       "        [ 3.20000029],\n",
       "        [ 3.00000024],\n",
       "        [ 2.20000005]]], dtype=float32)"
      ]
     },
     "execution_count": 10,
     "metadata": {},
     "output_type": "execute_result"
    }
   ],
   "source": [
    "# Remember, this represents a single record.\n",
    "# Each innermost vector is a word embedding\n",
    "x=np.array(\n",
    "    [[[ 0.1, 0.8, 0.3, 0.6, 0.3],\n",
    "      [ 0.9, 0.1, 0.8, 0.6, 0.8],\n",
    "      [ 0.6, 0.9, 0.1, 0.6, 0.8],\n",
    "      [ 0.4, 0.1, 0.4, 0.8, 0.5],\n",
    "      [ 0.7, 0.3, 0.0, 0.1, 0.3],\n",
    "      [ 0.7, 0.6, 0.8, 0.9, 0.1]]])\n",
    "conv_example.predict(x)"
   ]
  },
  {
   "cell_type": "markdown",
   "metadata": {
    "slideshow": {
     "slide_type": "slide"
    }
   },
   "source": [
    "# Max Pooling"
   ]
  },
  {
   "cell_type": "markdown",
   "metadata": {
    "slideshow": {
     "slide_type": "fragment"
    }
   },
   "source": [
    "![max pool](img/max_pool.svg)"
   ]
  },
  {
   "cell_type": "markdown",
   "metadata": {
    "slideshow": {
     "slide_type": "fragment"
    }
   },
   "source": [
    "Really, that's it.\n",
    "\n",
    "If there is more than one convolutional filter, take the max over each one."
   ]
  },
  {
   "cell_type": "markdown",
   "metadata": {
    "slideshow": {
     "slide_type": "subslide"
    }
   },
   "source": [
    "## Code Time!"
   ]
  },
  {
   "cell_type": "code",
   "execution_count": 14,
   "metadata": {
    "collapsed": false
   },
   "outputs": [],
   "source": [
    "from keras.layers import GlobalMaxPooling1D\n",
    "\n",
    "# The simplest one yet. No weights!\n",
    "max_pool_example = Sequential()\n",
    "max_pool_example.add(GlobalMaxPooling1D(input_shape=(10,4)))"
   ]
  },
  {
   "cell_type": "code",
   "execution_count": 16,
   "metadata": {
    "collapsed": false,
    "slideshow": {
     "slide_type": "subslide"
    }
   },
   "outputs": [
    {
     "name": "stdout",
     "output_type": "stream",
     "text": [
      "x = [[[ 0.02805121  0.56714374  0.68598691  0.91093192]\n",
      "  [ 0.30906004  0.51941898  0.24748326  0.27194739]\n",
      "  [ 0.66433485  0.35545886  0.14589052  0.50848656]\n",
      "  [ 0.88815581  0.14820827  0.37789361  0.09558142]\n",
      "  [ 0.97695208  0.55932136  0.29546261  0.91124264]\n",
      "  [ 0.61772018  0.20485886  0.46668867  0.55264841]\n",
      "  [ 0.51788783  0.88604824  0.97008294  0.12199895]\n",
      "  [ 0.48131472  0.59174507  0.26781702  0.22640531]\n",
      "  [ 0.94715823  0.53648895  0.16410375  0.81017351]\n",
      "  [ 0.37258971  0.50133634  0.66927668  0.64511177]]]\n"
     ]
    },
    {
     "data": {
      "text/plain": [
       "array([[ 0.97695208,  0.88604826,  0.97008294,  0.91124266]], dtype=float32)"
      ]
     },
     "execution_count": 16,
     "metadata": {},
     "output_type": "execute_result"
    }
   ],
   "source": [
    "x = np.random.random((1,10,4))\n",
    "print(\"x =\", x)\n",
    "max_pool_example.predict(x)"
   ]
  },
  {
   "cell_type": "markdown",
   "metadata": {
    "slideshow": {
     "slide_type": "slide"
    }
   },
   "source": [
    "# Bonus: Fully Connected Feed-Forward Network"
   ]
  },
  {
   "cell_type": "markdown",
   "metadata": {
    "slideshow": {
     "slide_type": "subslide"
    }
   },
   "source": [
    "#### Enough said\n",
    "\n",
    "![fully connected](img/fully_connected.png)\n",
    "\n",
    "From [stats.stackexchange](https://stats.stackexchange.com/questions/234891/difference-between-convolution-neural-network-and-deep-learning/234894)"
   ]
  },
  {
   "cell_type": "markdown",
   "metadata": {
    "slideshow": {
     "slide_type": "slide"
    }
   },
   "source": [
    "# CNN for Text Classification"
   ]
  },
  {
   "cell_type": "markdown",
   "metadata": {
    "slideshow": {
     "slide_type": "fragment"
    }
   },
   "source": [
    "We are now ready to assemble our building blocks."
   ]
  },
  {
   "cell_type": "markdown",
   "metadata": {
    "slideshow": {
     "slide_type": "subslide"
    }
   },
   "source": [
    "## Network Architecture\n",
    "\n",
    "![1-layer cnn](img/1_layer_cnn.svg)\n",
    "\n",
    "(Inspired by [Kim 2014](http://www.aclweb.org/anthology/D14-1181))"
   ]
  },
  {
   "cell_type": "markdown",
   "metadata": {
    "slideshow": {
     "slide_type": "subslide"
    }
   },
   "source": [
    "## Hyperparameters\n",
    "\n",
    "* Embedding Layer\n",
    "    - Embedding dimension\n",
    "    - Pre-trained weights\n",
    "* Convolutional Layer\n",
    "    - Number of filters\n",
    "    - Filter width(s)\n",
    "    - Activation function\n",
    "* Fully-Connected Layer(s)\n",
    "    - Number of layers\n",
    "    - Number of nodes per layer\n",
    "    - Activation function\n",
    "* General\n",
    "    - Regularization\n",
    "    - Dropout"
   ]
  },
  {
   "cell_type": "markdown",
   "metadata": {
    "slideshow": {
     "slide_type": "subslide"
    }
   },
   "source": [
    "## Code Time!"
   ]
  },
  {
   "cell_type": "code",
   "execution_count": 21,
   "metadata": {
    "collapsed": false,
    "slideshow": {
     "slide_type": "skip"
    }
   },
   "outputs": [
    {
     "name": "stdout",
     "output_type": "stream",
     "text": [
      "Loading data...\n",
      "25000 train sequences\n",
      "25000 test sequences\n",
      "Pad sequences (samples x time)\n",
      "x_train shape: (25000, 150)\n",
      "x_test shape: (25000, 150)\n"
     ]
    }
   ],
   "source": [
    "from keras.datasets import imdb\n",
    "from keras.preprocessing import sequence\n",
    "\n",
    "max_features = 25000\n",
    "maxlen = 150 # cut texts after this number of words (among top max_features most common words)\n",
    "batch_size = 32\n",
    "\n",
    "print('Loading data...')\n",
    "(x_train, y_train), (x_test, y_test) = imdb.load_data(num_words=max_features)\n",
    "print(len(x_train), 'train sequences')\n",
    "print(len(x_test), 'test sequences')\n",
    "\n",
    "print('Pad sequences (samples x time)')\n",
    "x_train = sequence.pad_sequences(x_train, maxlen=maxlen)#[:5000, :]\n",
    "x_test = sequence.pad_sequences(x_test, maxlen=maxlen)#[:5000, :]\n",
    "y_train = y_train#[:5000]\n",
    "y_test = y_test#[:5000]\n",
    "print('x_train shape:', x_train.shape)\n",
    "print('x_test shape:', x_test.shape)"
   ]
  },
  {
   "cell_type": "code",
   "execution_count": 47,
   "metadata": {
    "collapsed": false
   },
   "outputs": [],
   "source": [
    "from keras.layers import Dropout, Dense, Flatten\n",
    "from keras.regularizers import l2\n",
    "\n",
    "cnn = Sequential()\n",
    "\n",
    "cnn.add(Embedding(input_length=150,\n",
    "              input_dim=25000,\n",
    "              output_dim=50))\n",
    "cnn.add(Dropout(0.2))\n",
    "\n",
    "cnn.add(Conv1D(activation='relu',\n",
    "               filters=15,\n",
    "               kernel_size=5,\n",
    "               kernel_regularizer=l2(0.0003),\n",
    "               bias_regularizer=l2(0.0003),\n",
    "               name='conv_layer'))\n",
    "\n",
    "cnn.add(GlobalMaxPooling1D(name='flat_max_pool'))\n",
    "cnn.add(Dropout(0.2))"
   ]
  },
  {
   "cell_type": "code",
   "execution_count": 48,
   "metadata": {
    "collapsed": true,
    "slideshow": {
     "slide_type": "subslide"
    }
   },
   "outputs": [],
   "source": [
    "cnn.add(Dense(units=15,\n",
    "              kernel_regularizer=l2(0.0003),\n",
    "              bias_regularizer=l2(0.0003),\n",
    "              activation='relu'))\n",
    "cnn.add(Dropout(0.2))\n",
    "\n",
    "cnn.add(Dense(units=1,\n",
    "              kernel_regularizer=l2(0.0003),\n",
    "              bias_regularizer=l2(0.0003),\n",
    "              activation='sigmoid'))\n",
    "\n",
    "cnn.compile(loss='binary_crossentropy',\n",
    "            optimizer='adam',\n",
    "            metrics=['accuracy'])"
   ]
  },
  {
   "cell_type": "code",
   "execution_count": 49,
   "metadata": {
    "collapsed": false,
    "slideshow": {
     "slide_type": "subslide"
    }
   },
   "outputs": [
    {
     "name": "stdout",
     "output_type": "stream",
     "text": [
      "Train on 25000 samples, validate on 25000 samples\n",
      "Epoch 1/2\n",
      "25000/25000 [==============================] - 18s - loss: 0.6107 - acc: 0.6536 - val_loss: 0.4394 - val_acc: 0.8086\b\b\b\b\b\b\b\b\b\b\b\b\b\b\b\b\b\b\b\b\b\b\b\b\b\b\b\b\b\b\b\b\b\b\b\b\b\b\b\b\b\b\b\b\b\b\b\b\b\b\b\b\b\b\b\b\b\b\b\b\b\b\b\b\b\b\b\b\b\b\b\b\b\b\b\b\b\b\b\b\b\b\b\b\b\b\b\b\b\b\b\b\b\b\b\b\b\b\b\b\b\b\b\b\b\b\b\b\b\b\b\b\b\b\b\b\b\b\b\b\b\b\b\b\b\b\b\b\b\b\b\b\b\b\b\b\b\b\b\b\b\b\b\b\b\b\b\b\b\b\b\b\b\b\b\b\b\b\b\b\b\b\b\b\b\b\b\b\b\b\b\b\b\b\b\b\b\b\b\b\b\b\b\b\b\b\b\b\b\b\b\b\b\b\b\b\b\b\b\b\b\b\b\b\b\b\b\b\b\b\b\b\b\b\b\b\b\b\b\b\b\b\b\b\b\b\b\b\b\b\b\b\b\b\b\b\b\b\b\b\b\b\b\b\b\b\b\b\b\b\b\b\b\b\b\b\b\b\b\b\b\b\b\b\b\b\b\b\b\b\b\b\b\b\b\b\b\b\b\b\b\b\b\b\b\b\b\b\b\b\b\b\b\b\b\b\b\b\b\b\b\b\b\b\b\b\b\b\b\b\b\b\b\b\b\b\b\b\b\b\b\b\b\b\b\b\b\b\b\b\b\b\b\b\b\b\b\b\b\b\b\b\b\b\b\b\b\b\b\b\b\b\b\b\b\b\b\b\b\b\b\b\b\b\b\b\b\b\b\b\b\b\b\b\b\b\b\b\b\b\b\b\b\b\b\b\b\b\b\b\b\b\b\b\b\b\b\b\b\b\b\b\b\b\b\b\b\b\b\b\b\b\b\b\b\b\b\b\b\b\b\b\b\b\b\b\b\b\b\b\b\b\b\b\b\b\b\b\b\b\b\b\b\b\b\b\b\b\b\b\b\b\b\b\b\b\b\b\b\b\b\b\b\b\b\b\b\b\b\b\b\b\b\b\b\b\b\b\b\b\b\b\b\b\b\b\b\b\b\b\b\b\b\b\b\b\b\b\b\b\b\b\b\b\b\b\b\b\b\b\b\b\b\b\b\b\b\b\b\b\b\b\b\b\b\b\b\b\b\b\b\b\b\b\b\b\b\b\b\b\b\b\b\b\b\b\b\b\b\b\b\b\b\b\b\b\b\b\b\b\b\b\b\b\b\b\b\b\b\b\b\b\b\b\b\b\b\b\b\b\b\b\b\b\b\b\b\b\b\b\b\b\b\b\b\b\b\b\b\b\b\b\b\b\b\b\b\b\b\b\b\b\b\b\b\b\b\b\b\b\b\b\b\b\b\b\b\b\b\b\b\b\b\b\b\b\b\b\b\b\b\b\b\b\b\b\b\b\b\b\b\b\b\b\b\b\b\b\b\b\b\b\b\b\b\b\b\b\b\b\b\b\b\b\b\b\b\b\b\b\b\b\b\b\b\b\b\b\b\b\b\b\b\b\b\b\b\b\b\b\b\b\b\b\b\b\b\b\b\b\b\b\b\b\b\b\b\b\b\b\b\b\b\b\b\b\b\b\b\b\b\b\b\b\b\b\b\b\b\b\b\b\b\b\b\b\b\b\b\b\b\b\b\b\b\b\b\b\b\b\b\b\b\b\b\b\b\b\b\b\b\b\b\b\b\b\b\b\b\b\b\b\b\b\b\b\b\b\b\b\b\b\b\b\b\b\b\b\b\b\b\b\b\b\b\b\b\b\b\b\b\b\b\b\b\b\b\b\b\b\b\b\b\b\b\b\b\b\b\b\b\b\b\b\b\b\b\b\b\b\b\b\b\b\b\b\b\b\b\b\b\b\b\b\b\b\b\b\b\b\b\b\b\b\b\b\b\b\b\b\b\b\b\b\b\b\b\b\b\b\b\b\b\b\b\b\b\b\b\b\b\b\b\b\b\b\b\b\b\b\b\b\b\b\b\b\b\b\b\b\b\b\b\b\b\b\b\b\b\b\b\b\b\b\b\b\b\b\b\b\b\b\b\b\b\b\b\b\b\b\b\b\b\b\b\b\b\b\b\b\b\b\b\b\b\b\b\b\b\b\b\b\b\b\b\b\b\b\b\b\b\b\b\b\b\b\b\b\b\b\b\b\b\b\b\b\b\b\b\b\b\b\b\b\b\b\b\b\b\b\b\b\b\b\b\b\b\b\b\b\b\b\b\b\b\b\b\b\b\b\b\b\b\b\b\b\b\b\b\b\b\b\b\b\b\b\b\b\b\b\b\b\b\b\b\b\b\b\b\b\b\b\b\b\b\b\b\b\b\b\b\b\b\b\b\b\b\b\b\b\b\b\b\b\b\b\b\b\b\b\b\b\b\b\b\b\b\b\b\b\b\b\b\b\b\b\b\b\b\b\b\b\b\b\b\b\b\b\b\b\b\b\b\b\b\b\b\b\b\b\b\b\b\b\b\b\b\b\b\b\b\b\b\b\b\b\b\b\b\b\b\b\b\b\b\b\b\b\b\b\b\b\b\b\b\b\b\b\b\b\b\b\b\b\b\b\b\b\b\b\b\b\b\b\b\b\b\b\b\b\b\b\b\b\b\b\b\b\b\b\b\b\b\b\b\b\b\b\b\b\b\b\b\b\b\b\b\b\b\b\b\b\b\b\b\b\b\b\b\b\b\b\b\b\b\b\b\b\b\b\b\b\b\b\b\b\b\b\b\b\b\b\b\b\b\b\b\b\b\b\b\b\b\b\b\b\b\b\b\b\b\b\b\b\b\b\b\b\b\b\b\b\b\b\b\b\b\b\b\b\b\b\b\b\b\b\b\b\b\b\b\b\b\b\b\b\b\b\b\b\b\b\b\b\b\b\b\b\b\b\b\b\b\b\b\b\b\b\b\b\b\b\b\b\b\b\b\b\b\b\b\b\b\b\b\b\b\b\b\b\b\b\b\b\b\b\b\b\b\b\b\b\b\b\b\b\b\b\b\b\b\b\b\b\b\b\b\b\b\b\b\b\b\b\b\b\b\b\b\b\b\b\b\b\b\b\b\b\b\b\b\b\b\b\b\b\b\b\b\b\b\b\b\b\b\b\b\b\b\b\b\b\b\b\b\b\b\b\b\b\b\b\b\b\b\b\b\b\b\b\b\b\b\b\b\b\b\b\b\b\b\b\b\b\b\b\b\b\b\b\b\b\b\b\b\b\b\b\b\b\b\b\b\b\b\b\b\b\b\b\b\b\b\b\b\b\b\b\b\b\b\b\b\b\b\b\b\b\b\b\b\b\b\b\b\b\b\b\b\b\b\b\b\b\b\b\b\b\b\b\b\b\b\b\b\b\b\b\b\b\b\b\b\b\b\b\b\b\b\b\b\b\b\b\b\b\b\b\b\b\b\b\b\b\b\b\b\b\b\b\b\b\b\b\b\b\b\b\b\b\b\b\b\b\b\b\b\b\b\b\b\b\b\b\b\b\b\b\b\b\b\b\b\b\b\b\b\b\b\b\b\b\b\b\b\b\b\b\b\b\b\b\b\b\b\b\b\b\b\b\b\b\b\b\b\b\b\b\b\b\b\b\b\b\b\b\b\b\b\b\b\b\b\b\b\b\b\b\b\b\b\b\b\b\b\b\b\b\b\b\b\b\b\b\b\b\b\b\b\b\b\b\b\b\b\b\b\b\b\b\b\b\b\b\b\b\b\b\b\b\b\b\b\b\b\b\b\b\b\b\b\b\b\b\b\b\b\b\b\b\b\b\b\b\b\b\b\b\b\b\b\b\b\b\b\b\b\b\b\b\b\b\b\b\b\b\b\b\b\b\b\b\b\b\b\b\b\b\b\b\b\b\b\b\b\b\b\b\b\b\b\b\b\b\b\b\b\b\b\b\b\b\b\b\b\b\b\b\b\b\b\b\b\b\b\b\b\b\b\b\b\b\b\b\b\b\b\b\b\b\b\b\b\b\b\b\b\b\b\b\b\b\b\b\b\b\b\b\b\b\b\b\b\b\b\b\b\b\b\b\b\b\b\b\b\b\b\b\b\b\b\b\b\b\b\b\b\b\b\b\b\b\b\b\b\b\b\b\b\b\b\b\b\b\b\b\b\b\b\b\b\b\b\b\b\b\b\b\b\b\b\b\b\b\b\b\b\b\b\b\b\b\b\b\b\b\b\b\b\b\b\b\b\b\b\b\b\b\b\b\b\b\b\b\b\b\b\b\b\b\b\b\b\b\b\b\b\b\b\b\b\b\b\b\b\b\b\b\b\b\b\b\b\b\b\b\b\b\b\b\b\b\b\b\b\b\b\b\b\b\b\b\b\b\b\b\b\b\b\b\b\b\b\b\b\b\b\b\b\b\b\b\b\b\b\b\b\b\b\b\b\b\b\b\b\b\b\b\b\b\b\b\b\b\b\b\b\b\b\b\b\b\b\b\b\b\b\b\b\b\b\b\b\b\b\b\b\b\b\b\b\b\b\b\b\b\b\b\b\b\b\b\b\b\b\b\b\b\b\b\b\b\b\b\b\b\b\b\b\b\b\b\b\b\b\b\b\b\b\b\b\b\b\b\b\b\b\b\b\b\b\b\b\b\b\b\b\b\b\b\b\b\b\b\b\b\b\b\b\b\b\b\b\b\b\b\b\b\b\b\b\b\b\b\b\b\b\b\b\b\b\b\b\b\b\b\b\b\b\b\b\b\b\b\b\b\b\b\b\b\b\b\b\b\b\b\b\b\b\b\b\b\b\b\b\b\b\b\b\b\b\b\b\b\b\b\b\b\b\b\b\b\b\b\b\b\b\b\b\b\b\b\b\b\b\b\b\b\b\b\b\b\b\b\b\b\b\b\b\b\b\b\b\b\b\b\b\b\b\b\b\b\b\b\b\b\b\b\b\b\b\b\b\b\b\b\b\b\b\b\b\b\b\b\b\b\b\b\b\b\b\b\b\b\b\b\b\b\b\b\b\b\b\b\b\b\b\b\b\b\b\b\b\b\b\b\b\b\b\b\b\b\b\b\b\b\b\b\b\b\b\b\b\b\b\b\b\b\b\b\b\b\b\b\b\b\b\b\b\b\b\b\b\b\b\b\b\b\b\b\b\b\b\b\b\b\b\b\b\b\b\b\b\b\b\b\b\b\b\b\b\b\b\b\b\b\b\b\b\b\b\b\b\b\b\b\b\b\b\b\b\b\b\b\b\b\b\b\b\b\b\b\b\b\b\b\b\b\b\b\b\b\b\b\b\b\b\b\b\b\b\b\b\b\b\b\b\b\b\b\b\b\b\b\b\b\b\b\b\b\b\b\b\b\b\b\b\b\b\b\b\b\b\b\b\b\b\b\b\b\b\b\b\b\b\b\b\b\b\b\b\b\b\b\b\b\b\b\b\b\b\b\b\b\b\b\b\b\b\b\b\b\b\b\b\b\b\b\b\b\b\b\b\b\b\b\b\b\b\b\b\b\b\b\b\b\b\b\b\b\b\b\b\b\b\b\b\b\b\b\b\b\b\b\b\b\b\b\b\b\b\b\b\b\b\b\b\b\b\b\b\b\b\b\b\b\b\b\b\b\b\b\b\b\b\b\b\b\b\b\b\b\b\b\b\b\b\b\b\b\b\b\b\b\b\b\b\b\b\b\b\b\b\b\b\b\b\b\b\b\b\b\b\b\b\b\b\b\b\b\b\b\b\b\b\b\b\b\b\b\b\b\b\b\b\b\b\b\b\b\b\b\b\b\b\b\b\b\b\b\b\b\b\b\b\b\b\b\b\b\b\b\b\b\b\b\b\b\b\b\b\b\b\b\b\b\b\b\b\b\b\b\b\b\b\b\b\b\b\b\b\b\b\b\b\b\b\b\b\b\b\b\b\b\b\b\b\b\b\b\b\b\b\b\b\b\b\b\b\b\b\b\b\b\b\b\b\b\b\b\b\b\b\b\b\b\b\b\b\b\b\b\b\b\b\b\b\b\b\b\b\b\b\b\b\b\b\b\b\b\b\b\b\b\b\b\b\b\b\b\b\b\b\b\b\b\b\b\b\b\b\b\b\b\b\b\b\b\b\b\b\b\b\b\b\b\b\b\b\b\b\b\b\b\b\b\b\b\b\b\b\b\b\b\b\b\b\b\b\b\b\b\b\b\b\b\b\b\b\b\b\b\b\b\b\b\b\b\b\b\b\b\b\b\b\b\b\b\b\b\b\b\b\b\b\b\b\b\b\b\b\b\b\b\b\b\b\b\b\b\b\b\b\b\b\b\b\b\b\b\b\b\b\b\b\b\b\b\b\b\b\b\b\b\b\b\b\b\b\b\b\b\b\b\b\b\b\b\b\b\b\b\b\b\b\b\b\b\b\b\b\b\b\b\b\b\b\b\b\b\b\b\b\b\b\b\b\b\b\b\b\b\b\b\b\b\b\b\b\b\b\b\b\b\b\b\b\b\b\b\b\b\b\b\b\b\b\b\b\b\b\b\b\b\b\b\b\b\b\b\b\b\b\b\b\b\b\b\b\b\b\b\b\b\b\b\b\b\b\b\b\b\b\b\b\b\b\b\b\b\b\b\b\b\b\b\b\b\b\b\b\b\b\b\b\b\b\b\b\b\b\b\b\b\b\b\b\b\b\b\b\b\b\b\b\b\b\b\b\b\b\b\b\b\b\b\b\b\b\b\b\b\b\b\b\b\b\b\b\b\b\b\b\b\b\b\b\b\b\b\b\b\b\b\b\b\b\b\b\b\b\b\b\b\b\b\b\b\b\b\b\b\b\b\b\b\b\b\b\b\b\b\b\b\b\b\b\b\b\b\b\b\b\b\b\b\b\b\b\b\b\b\b\b\b\b\b\b\b\b\b\b\b\b\b\b\b\b\b\b\b\b\b\b\b\b\b\b\b\b\b\b\b\b\b\b\b\b\b\b\b\b\b\b\b\b\b\b\b\b\b\b\b\b\b\b\b\b\b\b\b\b\b\b\b\b\b\b\b\b\b\b\b\b\b\b\b\b\b\b\b\b\b\b\b\b\b\b\b\b\b\b\b\b\b\b\b\b\b\b\b\b\b\b\b\b\b\b\b\b\b\b\b\b\b\b\b\b\b\b\b\b\b\b\b\b\b\b\b\b\b\b\b\b\b\b\b\b\b\b\b\b\b\b\b\b\b\b\b\b\b\b\b\b\b\b\b\b\b\b\b\b\b\b\b\b\b\b\b\b\b\b\b\b\b\b\b\b\b\b\b\b\b\b\b\b\b\b\b\b\b\b\b\b\b\b\b\b\b\b\b\b\b\b\b\b\b\b\b\b\b\b\b\b\b\b\b\b\b\b\b\b\b\b\b\b\b\b\b\b\b\b\b\b\b\b\b\b\b\b\b\b\b\b\b\b\b\b\b\b\b\b\b\b\b\b\b\b\b\b\b\b\b\b\b\b\b\b\b\b\b\b\b\b\b\b\b\b\b\b\b\b\b\b\b\b\b\b\b\b\b\b\b\b\b\b\b\b\b\b\b\b\b\b\b\b\b\b\b\b\b\b\b\b\b\b\b\b\b\b\b\b\b\b\b\b\b\b\b\b\b\b\b\b\b\b\b\b\b\b\b\b\b\b\b\b\b\b\b\b\b\b\b\b\b\b\b\b\b\b\b\b\b\b\b\b\b\b\b\b\b\b\b\b\b\b\b\b\b\b\b\b\b\b\b\b\b\b\b\b\b\b\b\b\b\b\b\b\b\b\b\b\b\b\b\b\b\b\b\b\b\b\b\b\b\b\b\b\b\b\b\b\b\b\b\b\b\b\b\b\b\b\b\b\b\b\b\b\b\b\b\b\b\b\b\b\b\b\b\b\b\b\b\b\b\b\b\b\b\b\b\b\b\b\b\b\b\b\b\b\b\b\b\b\b\b\b\b\b\b\b\b\b\b\b\b\b\b\b\b\b\b\b\b\b\b\b\b\b\b\b\b\b\b\b\b\b\b\b\b\b\b\b\b\b\b\b\b\b\b\b\b\b\b\b\b\b\b\b\b\b\b\b\b\b\b\b\b\b\b\b\b\b\b\b\b\b\b\b\b\b\b\b\b\b\b\b\b\b\b\b\b\b\b\b\b\b\b\b\b\b\b\b\b\b\b\b\b\b\b\b\b\b\b\b\b\b\b\b\b\b\b\b\b\b\b\b\b\b\b\b\b\b\b\b\b\b\b\b\b\b\b\b\b\b\b\b\b\b\b\b\b\b\b\b\b\b\b\b\b\b\b\b\b\b\b\b\b\b\b\b\b\b\b\b\b\b\b\b\b\b\b\b\b\b\b\b\b\b\b\b\b\b\b\b\b\b\b\b\b\b\b\b\b\b\b\b\b\b\b\b\b\b\b\b\b\b\b\b\b\b\b\b\b\b\b\b\b\b\b\b\b\b\b\b\b\b\b\b\b\b\b\b\b\b\b\b\b\b\b\b\b\b\b\b\b\b\b\b\b\b\b\b\b\b\b\b\b\b\b\b\b\b\b\b\b\b\b\b\b\b\b\b\b\b\b\b\b\b\b\b\b\b\b\b\b\b\b\b\b\b\b\b\b\b\b\b\b\b\b\b\b\b\b\b\b\b\b\b\b\b\b\b\b\b\b\b\b\b\b\b\b\b\b\b\b\b\b\b\b\b\b\b\b\b\b\b\b\b\b\b\b\b\b\b\b\b\b\b\b\b\b\b\b\b\b\b\b\b\b\b\b\b\b\b\b\b\b\b\b\b\b\b\b\b\b\b\b\b\b\b\b\b\b\b\b\b\b\b\b\b\b\b\b\b\b\b\b\b\b\b\b\b\b\b\b\b\b\b\b\b\b\b\b\b\b\b\b\b\b\b\b\b\b\b\b\b\b\b\b\b\b\b\b\b\b\b\b\b\b\b\b\b\b\b\b\b\b\b\b\b\b\b\b\b\b\b\b\b\b\b\b\b\b\b\b\b\b\b\b\b\b\b\b\b\b\b\b\b\b\b\b\b\b\b\b\b\b\b\b\b\b\b\b\b\b\b\b\b\b\b\b\b\b\b\b\b\b\b\b\b\b\b\b\b\b\b\b\b\b\b\b\b\b\b\b\b\b\b\b\b\b\b\b\b\b\b\b\b\b\b\b\b\b\b\b\b\b\b\b\b\b\b\b\b\b\b\b\b\b\b\b\b\b\b\b\b\b\b\b\b\b\b\b\b\b\b\b\b\b\b\b\b\b\b\b\b\b\b\b\b\b\b\b\b\b\b\b\b\b\b\b\b\b\b\b\b\b\b\b\b\b\b\b\b\b\b\b\b\b\b\b\b\b\b\b\b\b\b\b\b\b\b\b\b\b\b\b\b\b\b\b\b\b\b\b\b\b\b\b\b\b\b\b\b\b\b\b\b\b\b\b\b\b\b\b\b\b\b\b\b\b\b\b\b\b\b\b\b\b\b\b\b\b\b\b\b\b\b\b\b\b\b\b\b\b\b\b\b\b\b\b\b\b\b\b\b\b\b\b\b\b\b\b\b\b\b\b\b\b\b\b\b\b\b\b\b\b\b\b\b\b\b\b\b\b\b\b\b\b\b\b\b\b\b\b\b\b\b\b\b\b\b\b\b\b\b\b\b\b\b\b\b\b\b\b\b\b\b\b\b\b\b\b\b\b\b\b\b\b\b\b\b\b\b\b\b\b\b\b\b\b\b\b\b\b\b\b\b\b\b\b\b\b\b\b\b\b\b\b\b\b\b\b\b\b\b\b\b\b\b\b\b\b\b\b\b\b\b\b\b\b\b\b\b\b\b\b\b\b\b\b\b\b\b\b\b\b\b\b\b\b\b\b\b\b\b\b\b\b\b\b\b\b\b\b\b\b\b\b\b\b\b\b\b\b\b\b\b\b\b\b\b\b\b\b\b\b\b\b\b\b\b\b\b\b\b\b\b\b\b\b\b\b\b\b\b\b\b\b\b\b\b\b\b\b\b\b\b\b\b\b\b\b\b\b\b\b\b\b\b\b\b\b\b\b\b\b\b\b\b\b\b\b\b\b\b\b\b\b\b\b\b\b\b\b\b\b\b\b\b\b\b\b\b\b\b\b\b\b\b\b\b\b\b\b\b\b\b\b\b\b\b\b\b\b\b\b\b\b\b\b\b\b\b\b\b\b\b\b\b\b\b\b\b\b\b\b\b\b\b\b\b\b\b\b\b\b\b\b\b\b\b\b\b\b\b\b\b\b\b\b\b\b\b\b\b\b\b\b\b\b\b\b\b\b\b\b\b\b\b\b\b\b\b\b\b\b\b\b\b\b\b\b\b\b\b\b\b\b\b\b\b\b\b\b\b\b\b\b\b\b\b\b\b\b\b\b\b\b\b\b\b\b\b\b\b\b\b\b\b\b\b\b\b\b\b\b\b\b\b\b\b\b\b\b\b\b\b\b\b\b\b\b\b\b\b\b\b\b\b\b\b\b\b\b\b\b\b\b\b\b\b\b\b\b\b\b\b\b\b\b\b\b\b\b\b\b\b\b\b\b\b\b\b\b\b\b\b\b\b\b\b\b\b\b\b\b\b\b\b\b\b\b\b\b\b\b\b\b\b\b\b\b\b\b\b\b\b\b\b\b\b\b\b\b\b\b\b\b\b\b\b\b\b\b\b\b\b\b\b\b\b\b\b\b\b\b\b\b\b\b\b\b\b\b\b\b\b\b\b\b\b\b\b\b\b\b\b\b\b\b\b\b\b\b\b\b\b\b\b\b\b\b\b\b\b\b\b\b\b\b\b\b\b\b\b\b\b\b\b\b\b\b\b\b\b\b\b\b\b\b\b\b\b\b\b\b\b\b\b\b\b\b\b\b\b\b\b\b\b\b\b\b\b\b\b\b\b\b\b\b\b\b\b\b\b\b\b\b\b\b\b\b\b\b\b\b\b\b\b\b\b\b\b\b\b\b\b\b\b\b\b\b\b\b\b\b\b\b\b\b\b\b\b\b\b\b\b\b\b\b\b\b\b\b\b\b\b\b\b\b\b\b\b\b\b\b\b\b\b\b\b\b\b\b\b\b\b\b\b\b\b\b\b\b\b\b\b\b\b\b\b\b\b\b\b\b\b\b\b\b\b\b\b\b\b\b\b\b\b\b\b\b\b\b\b\b\b\b\b\b\b\b\b\b\b\b\b\b\b\b\b\b\b\b\b\b\b\b\b\b\b\b\b\b\b\b\b\b\b\b\b\b\b\b\b\b\b\b\b\b\b\b\b\b\b\b\b\b\b\b\b\b\b\b\b\b\b\b\b\b\b\b\b\b\b\b\b\b\b\b\b\b\b\b\b\b\b\b\b\b\b\b\b\b\b\b\b\b\b\b\b\b\b\b\b\b\b\b\b\b\b\b\b\b\b\b\b\b\b\b\b\b\b\b\b\b\b\b\b\b\b\b\b\b\b\b\b\b\b\b\b\b\b\b\b\b\b\b\b\b\b\b\b\b\b\b\b\b\b\b\b\b\b\b\b\b\b\b\b\b\b\b\b\b\b\b\b\b\b\b\b\b\b\b\b\b\b\b\b\b\b\b\b\b\b\b\b\b\b\b\b\b\b\b\b\b\b\b\b\b\b\b\b\b\b\b\b\b\b\b\b\b\b\b\b\b\b\b\b\b\b\b\b\b\b\b\b\b\b\b\b\b\b\b\b\b\b\b\b\b\b\b\b\b\b\b\b\b\b\b\b\b\b\b\b\b\b\b\b\b\b\b\b\b\b\b\b\b\b\b\b\b\b\b\b\b\b\b\b\b\b\b\b\b\b\b\b\b\b\b\b\b\b\b\b\b\b\b\b\b\b\b\b\b\b\b\b\b\b\b\b\b\b\b\b\b\b\b\b\b\b\b\b\b\b\b\b\b\b\b\b\b\b\b\b\b\b\b\b\b\b\b\b\b\b\b\b\b\b\b\b\b\b\b\b\b\b\b\b\b\b\b\b\b\b\b\b\b\b\b\b\b\b\b\b\b\b\b\b\b\b\b\b\b\b\b\b\b\b\b\b\b\b\b\b\b\b\b\b\b\b\b\b\b\b\b\b\b\b\b\b\b\b\b\b\b\b\b\b\b\b\b\b\b\b\b\b\b\b\b\b\b\b\b\b\b\b\b\b\b\b\b\b\b\b\b\b\b\b\b\b\b\b\b\b\b\b\b\b\b\b\b\b\b\b\b\b\b\b\b\b\b\b\b\b\b\b\b\b\b\b\b\b\b\b\b\b\b\b\b\b\b\b\b\b\b\b\b\b\b\b\b\b\b\b\b\b\b\b\b\b\b\b\b\b\b\b\b\b\b\b\b\b\b\b\b\b\b\b\b\b\b\b\b\b\b\b\b\b\b\b\b\b\b\b\b\b\b\b\b\b\b\b\b\b\b\b\b\b\b\b\b\b\b\b\b\b\b\b\b\b\b\b\b\b\b\b\b\b\b\b\b\b\b\b\b\b\b\b\b\b\b\b\b\b\b\b\b\b\b\b\b\b\b\b\b\b\b\b\b\b\b\b\b\b\b\b\b\b\b\b\b\b\b\b\b\b\b\b\b\b\b\b\b\b\b\b\b\b\b\b\b\b\b\b\b\b\b\b\b\b\b\b\b\b\b\b\b\b\b\b\b\b\b\b\b\b\b\b\b\b\b\b\b\b\b\b\b\b\b\b\b\b\b\b\b\b\b\b\b\b\b\b\b\b\b\b\b\b\b\b\b\b\b\b\b\b\b\b\b\b\b\b\b\b\b\b\b\b\b\b\b\b\b\b\b\b\b\b\b\b\b\b\b\b\b\b\b\b\b\b\b\b\b\b\b\b\b\b\b\b\b\b\b\b\b\b\b\b\b\b\b\b\b\b\b\b\b\b\b\b\b\b\b\b\b\b\b\b\b\b\b\b\b\b\b\b\b\b\b\b\b\b\b\b\b\b\b\b\b\b\b\b\b\b\b\b\b\b\b\b\b\b\b\b\b\b\b\b\b\b\b\b\b\b\b\b\b\b\b\b\b\b\b\b\b\b\b\b\b\b\b\b\b\b\b\b\b\b\b\b\b\b\b\b\b\b\b\b\b\b\b\b\b\b\b\b\b\b\b\b\b\b\b\b\b\b\b\b\b\b\b\b\b\b\b\b\b\b\b\b\b\b\b\b\b\b\b\b\b\b\b\b\b\b\b\b\b\b\b\b\b\b\b\b\b\b\b\b\b\b\b\b\b\b\b\b\b\b\b\b\b\b\b\b\b\b\b\b\b\b\b\b\b\b\b\b\b\b\b\b\b\b\b\b\b\b\b\b\b\b\b\b\b\b\b\b\b\b\b\b\b\b\b\b\b\b\b\b\b\b\b\b\b\b\b\b\b\b\b\b\b\b\b\b\b\b\b\b\b\b\b\b\b\b\b\b\b\b\b\b\b\b\b\b\b\b\b\b\b\b\b\b\b\b\b\b\b\b\b\b\b\b\b\b\b\b\b\b\b\b\b\b\b\b\b\b\b\b\b\b\b\b\b\b\b\b\b\b\b\b\b\b\b\b\b\b\b\b\b\b\b\b\b\b\b\b\b\b\b\b\b\b\b\b\b\b\b\b\b\b\b\b\b\b\b\b\b\b\b\b\b\b\b\b\b\b\b\b\b\b\b\b\b\b\b\b\b\b\b\b\b\b\b\b\b\b\b\b\b\b\b\b\b\b\b\b\b\b\b\b\b\b\b\b\b\b\b\b\b\b\b\b\b\b\b\b\b\b\b\b\b\b\b\b\b\b\b\b\b\b\b\b\b\b\b\b\b\b\b\b\b\b\b\b\b\b\b\b\b\b\b\b\b\b\b\b\b\b\b\b\b\b\b\b\b\b\b\b\b\b\b\b\b\b\b\b\b\b\b\b\b\b\b\b\b\b\b\b\b\b\b\b\b\b\b\b\b\b\b\b\b\b\b\b\b\b\b\b\b\b\b\b\b\b\b\b\b\b\b\b\b\b\b\b\b\b\b\b\b\b\b\b\b\b\b\b\b\b\b\b\b\b\b\b\b\b\b\b\b\b\b\b\b\b\b\b\b\b\b\b\b\b\b\b\b\b\b\b\b\b\b\b\b\b\b\b\b\b\b\b\b\b\b\b\b\b\b\b\b\b\b\b\b\b\b\b\b\b\b\b\b\b\b\b\b\b\b\b\b\b\b\b\b\b\b\b\b\b\b\b\b\b\b\b\b\b\b\b\b\b\b\b\b\b\b\b\b\b\b\b\b\b\b\b\b\b\b\b\b\b\b\b\b\b\b\b\b\b\b\b\b\b\b\b\b\b\b\b\b\b\b\b\b\b\b\b\b\b\b\b\b\b\b\b\b\b\b\b\b\b\b\b\b\b\b\b\b\b\b\b\b\b\b\b\b\b\b\b\b\b\b\b\b\b\b\b\b\b\b\b\b\b\b\b\b\b\b\b\b\b\b\b\b\b\b\b\b\b\b\b\b\b\b\b\b\b\b\b\b\b\b\b\b\b\b\b\b\b\b\b\b\b\b\b\b\b\b\b\b\b\b\b\b\b\b\b\b\b\b\b\b\b\b\b\b\b\b\b\b\b\b\b\b\b\b\b\b\b\b\b\b\b\b\b\b\b\b\b\b\b\b\b\b\b\b\b\b\b\b\b\b\b\b\b\b\b\b\b\b\b\b\b\b\b\b\b\b\b\b\b\b\b\b\b\b\b\b\b\b\b\b\b\b\b\b\b\b\b\b\b\b\b\b\b\b\b\b\b\b\b\b\b\b\b\b\b\b\b\b\b\b\b\b\b\b\b\b\b\b\b\b\b\b\b\b\b\b\b\b\b\b\b\b\b\b\b\b\b\b\b\b\b\b\b\b\b\b\b\b\b\b\b\b\b\b\b\b\b\b\b\b\b\b\b\b\b\b\b\b\b\b\b\b\b\b\b\b\b\b\b\b\b\b\b\b\b\b\b\b\b\b\b\b\b\b\b\b\b\b\b\b\b\b\b\b\b\b\b\b\b\b\b\b\b\b\b\b\b\b\b\b\b\b\b\b\b\b\b\b\b\b\b\b\b\b\b\b\b\b\b\b\b\b\b\b\b\b\b\b\b\b\b\b\b\b\b\b\b\b\b\b\b\b\b\b\b\b\b\b\b\b\b\b\b\b\b\b\b\b\b\b\b\b\b\b\b\b\b\b\b\b\b\b\b\b\b\b\b\b\b\b\b\b\b\b\b\b\b\b\b\b\b\b\b\b\b\b\b\b\b\b\b\b\b\b\b\b\b\b\b\b\b\b\b\b\b\b\b\b\b\b\b\b\b\b\b\b\b\b\b\b\b\b\b\b\b\b\b\b\b\b\b\b\b\b\b\b\b\b\b\b\b\b\b\b\b\b\b\b\b\b\b\b\b\b\b\b\b\b\b\b\b\b\b\b\b\b\b\b\b\b\b\b\b\b\b\b\b\b\b\b\b\b\b\b\b\b\b\b\b\b\b\b\b\b\b\b\b\b\b\b\b\b\b\b\b\b\b\b\b\b\b\b\b\b\b\b\b\b\b\b\b\b\b\b\b\b\b\b\b\b\b\b\b\b\b\b\b\b\b\b\b\b\b\b\b\b\b\b\b\b\b\b\b\b\b\b\b\b\b\b\b\b\b\b\b\b\b\b\b\b\b\b\b\b\b\b\b\b\b\b\b\b\b\b\b\b\b\b\b\b\b\b\b\b\b\b\b\b\b\b\b\b\b\b\b\b\b\b\b\b\b\b\b\b\b\b\b\b\b\b\b\b\b\b\b\b\b\b\b\b\b\b\b\b\b\b\b\b\b\b\b\b\b\b\b\b\b\b\b\b\b\b\b\b\b\b\b\b\b\b\b\b\b\b\b\b\b\b\b\b\b\b\b\b\b\b\b\b\b\b\b\b\b\b\b\b\b\b\b\b\b\b\b\b\b\b\b\b\b\b\b\b\b\b\b\b\b\b\b\b\b\b\b\b\b\b\b\b\b\b\b\b\b\b\b\b\b\b\b\b\b\b\b\b\b\b\b\b\b\b\b\b\b\b\b\b\b\b\b\b\b\b\b\b\b\b\b\b\b\b\b\b\b\b\b\b\b\b\b\b\b\b\b\b\b\b\b\b\b\b\b\b\b\b\b\b\b\b\b\b\b\b\b\b\b\b\b\b\b\b\b\b\b\b\b\b\b\b\b\b\b\b\b\b\b\b\b\b\b\b\b\b\b\b\b\b\b\b\b\b\b\b\b\b\b\b\b\b\b\b\b\b\b\b\b\b\b\b\b\b\b\b\b\b\b\b\b\b\b\b\b\b\b\b\b\b\b\b\b\b\b\b\b\b\b\b\b\b\b\b\b\b\b\b\b\b\b\b\b\b\b\b\b\b\b\b\b\b\b\b\b\b\b\b\b\b\b\b\b\b\b\b\b\b\b\b\b\b\b\b\b\b\b\b\b\b\b\b\b\b\b\b\b\b\b\b\b\b\b\b\b\b\b\b\b\b\b\b\b\b\b\b\b\b\b\b\b\b\b\b\b\b\b\b\b\b\b\b\b\b\b\b\b\b\b\b\b\b\b\b\b\b\b\b\b\b\b\b\b\b\b\b\b\b\b\b\b\b\b\b\b\b\b\b\b\b\b\b\b\b\b\b\b\b\b\b\b\b\b\b\b\b\b\b\b\b\b\b\b\b\b\b\b\b\b\b\b\b\b\b\b\b\b\b\b\b\b\b\b\b\b\b\b\b\b\b\b\b\b\b\b\b\b\b\b\b\b\b\b\b\b\b\b\b\b\b\b\b\b\b\b\b\b\b\b\b\b\b\b\b\b\b\b\b\b\b\b\b\b\b\b\b\b\b\b\b\b\b\b\b\b\b\b\b\b\b\b\b\b\b\b\b\b\b\b\b\b\b\b\b\b\b\b\b\b\b\b\b\b\b\b\b\b\b\b\b\b\b\b\b\b\b\b\b\b\b\b\b\b\b\b\b\b\b\b\b\b\b\b\b\b\b\b\b\b\b\b\b\b\b\b\b\b\b\b\b\b\b\b\b\b\b\b\b\b\b\b\b\b\b\b\b\b\b\b\b\b\b\b\b\b\b\b\b\b\b\b\b\b\b\b\b\b\b\b\b\b\b\b\b\b\b\b\b\b\b\b\b\b\b\b\b\b\b\b\b\b\b\b\b\b\b\b\b\b\b\b\b\b\b\b\b\b\b\b\b\b\b\b\b\b\b\b\b\b\b\b\b\b\b\b\b\b\b\b\b\b\b\b\b\b\b\b\b\b\b\b\b\b\b\b\b\b\b\b\b\b\b\b\b\b\b\b\b\b\b\b\b\b\b\b\b\b\b\b\b\b\b\b\b\b\b\b\b\b\b\b\b\b\b\b\b\b\b\b\b\b\b\b\b\b\b\b\b\b\b\b\b\b\b\b\b\b\b\b\b\b\b\b\b\b\b\b\b\b\b\b\b\b\b\b\b\b\b\b\b\b\b\b\b\b\b\b\b\b\b\b\b\b\b\b\b\b\b\b\b\b\b\b\b\b\b\b\b\b\b\b\b\b\b\b\b\b\b\b\b\b\b\b\b\b\b\b\b\b\b\b\b\b\b\b\b\b\b\b\b\b\b\b\b\b\b\b\b\b\b\b\b\b\b\b\b\b\b\b\b\b\b\b\b\b\b\b\b\b\b\b\b\b\b\b\b\b\b\b\b\b\b\b\b\b\b\b\b\b\b\b\b\b\b\b\b\b\b\b\b\b\b\b\b\b\b\b\b\b\b\b\b\b\b\b\b\b\b\b\b\b\b\b\b\b\b\b\b\b\b\b\b\b\b\b\b\b\b\b\b\b\b\b\b\b\b\b\b\b\b\b\b\b\b\b\b\b\b\b\b\b\b\b\b\b\b\b\b\b\b\b\b\b\b\b\b\b\b\b\b\b\b\b\b\b\b\b\b\b\b\b\b\b\b\b\b\b\b\b\b\b\b\b\b\b\b\b\b\b\b\b\b\b\b\b\b\b\b\b\b\b\b\b\b\b\b\b\b\b\b\b\b\b\b\b\b\b\b\b\b\b\b\b\b\b\b\b\b\b\b\b\b\b\b\b\b\b\b\b\b\b\b\b\b\b\b\b\b\b\b\b\b\b\b\b\b\b\b\b\b\b\b\b\b\b\b\b\b\b\b\b\b\b\b\b\b\b\b\b\b\b\b\b\b\b\b\b\b\b\b\b\b\b\b\b\b\b\b\b\b\b\b\b\b\b\b\b\b\b\b\b\b\b\b\b\b\b\b\b\b\b\b\b\b\b\b\b\b\b\b\b\b\b\b\b\b\b\b\b\b\b\b\b\b\b\b\b\b\b\b\b\b\b\b\b\b\b\b\b\b\b\b\b\b\b\b\b\b\b\b\b\b\b\b\b\b\b\b\b\b\b\b\b\b\b\b\b\b\b\b\b\b\b\b\b\b\b\b\b\b\b\b\b\b\b\b\b\b\b\b\b\b\b\b\b\b\b\b\b\b\b\b\b\b\b\b\b\b\b\b\b\b\b\b\b\b\b\b\b\b\b\b\b\b\b\b\b\b\b\b\b\b\b\b\b\b\b\b\b\b\b\b\b\b\b\b\b\b\b\b\b\b\b\b\b\b\b\b\b\b\b\b\b\b\b\b\b\b\b\b\b\b\b\b\b\b\b\b\b\b\b\b\b\b\b\b\b\b\b\b\b\b\b\b\b\b\b\b\b\b\b\b\b\b\b\b\b\b\b\b\b\b\b\b\b\b\b\b\b\b\b\b\b\b\b\b\b\b\b\b\b\b\b\b\b\b\b\b\b\b\b\b\b\b\b\b\b\b\b\b\b\b\b\b\b\b\b\b\b\b\b\b\b\b\b\b\b\b\b\b\b\b\b\b\b\b\b\b\b\b\b\b\b\b\b\b\b\b\b\b\b\b\b\b\b\b\b\b\b\b\b\b\b\b\b\b\b\b\b\b\b\b\b\b\b\b\b\b\b\b\b\b\b\b\b\b\b\b\b\b\b\b\b\b\b\b\b\b\b\b\b\b\b\b\b\b\b\b\b\b\b\b\b\b\b\b\b\b\b\b\b\b\b\b\b\b\b\b\b\b\b\b\b\b\b\b\b\b\b\b\b\b\b\b\b\b\b\b\b\b\b\b\b\b\b\b\b\b\b\b\b\b\b\b\b\b\b\b\b\b\b\b\b\b\b\b\b\b\b\b\b\b\b\b\b\b\b\b\b\b\b\b\b\b\b\b\b\b\b\b\b\b\b\b\b\b\b\b\b\b\b\b\b\b\b\b\b\b\b\b\b\b\b\b\b\b\b\b\b\b\b\b\b\b\b\b\b\b\b\b\b\b\b\b\b\b\b\b\b\b\b\b\b\b\b\b\b\b\b\b\b\b\b\b\b\b\b\b\b\b\b\b\b\b\b\b\b\b\b\b\b\b\b\b\b\b\b\b\b\b\b\b\b\b\b\b\b\b\b\b\b\b\b\b\b\b\b\b\b\b\b\b\b\b\b\b\b\b\b\b\b\b\b\b\b\b\b\b\b\b\b\b\b\b\b\b\b\b\b\b\b\b\b\b\b\b\b\b\b\b\b\b\b\b\b\b\b\b\b\b\b\b\b\b\b\b\b\b\b\b\b\b\b\b\b\b\b\b\b\b\b\b\b\b\b\b\b\b\b\b\b\b\b\b\b\b\b\b\b\b\b\b\b\b\b\b\b\b\b\b\b\b\b\b\b\b\b\b\b\b\b\b\b\b\b\b\b\b\b\b\b\b\b\b\b\b\b\b\b\b\b\b\b\b\b\b\b\b\b\b\b\b\b\b\b\b\b\b\b\b\b\b\b\b\b\b\b\b\b\b\b\b\b\b\b\b\b\b\b\b\b\b\b\b\b\b\b\b\b\b\b\b\b\b\b\b\b\b\b\b\b\b\b\b\b\b\b\b\b\b\b\b\b\b\b\b\b\b\b\b\b\b\b\b\b\b\b\b\b\b\b\b\b\b\b\b\b\b\b\b\b\b\b\b\b\b\b\b\b\b\b\b\b\b\b\b\b\b\b\b\b\b\b\b\b\b\b\b\b\b\b\b\b\b\b\b\b\b\b\b\b\b\b\b\b\b\b\b\b\b\b\b\b\b\b\b\b\b\b\b\b\b\b\b\b\b\b\b\b\b\b\b\b\b\b\b\b\b\b\b\b\b\b\b\b\b\b\b\b\b\b\b\b\b\b\b\b\b\b\b\b\b\b\b\b\b\b\b\b\b\b\b\b\b\b\b\b\b\b\b\b\b\b\b\b\b\b\b\b\b\b\b\b\b\b\b\b\b\b\b\b\b\b\b\b\b\b\b\b\b\b\b\b\b\b\b\b\b\b\b\b\b\b\b\b\b\b\b\b\b\b\b\b\b\b\b\b\b\b\b\b\b\b\b\b\b\b\b\b\b\b\b\b\b\b\b\b\b\b\b\b\b\b\b\b\b\b\b\b\b\b\b\b\b\b\b\b\b\b\b\b\b\b\b\b\b\b\b\b\b\b\b\b\b\b\b\b\b\b\b\b\b\b\b\b\b\b\b\b\b\b\b\b\b\b\b\b\b\b\b\b\b\b\b\b\b\b\b\b\b\b\b\b\b\b\b\b\b\b\b\b\b\b\b\b\b\b\b\b\b\b\b\b\b\b\b\b\b\b\b\b\b\b\b\b\b\b\b\b\b\b\b\b\b\b\b\b\b\b\b\b\b\b\b\b\b\b\b\b\b\b\b\b\b\b\b\b\b\b\b\b\b\b\b\b\b\b\b\b\b\b\b\b\b\b\b\b\b\b\b\b\b\b\b\b\b\b\b\b\b\b\b\b\b\b\b\b\b\b\b\b\b\b\b\b\b\b\b\b\b\b\b\b\b\b\b\b\b\b\b\b\b\b\b\b\b\b\b\b\b\b\b\b\b\b\b\b\b\b\b\b\b\b\b\b\b\b\b\b\b\b\b\b\b\b\b\b\b\b\b\b\b\b\b\b\b\b\b\b\b\b\b\b\b\b\b\b\b\b\b\b\b\b\b\b\b\b\b\b\b\b\b\b\b\b\b\b\b\b\b\b\b\b\b\b\b\b\b\b\b\b\b\b\b\b\b\b\b\b\b\b\b\b\b\b\b\b\b\b\b\b\b\b\b\b\b\b\b\b\b\b\b\b\b\b\b\b\b\b\b\b\b\b\b\b\b\b\b\b\b\b\b\b\b\b\b\b\b\b\b\b\b\b\b\b\b\b\b\b\b\b\b\b\b\b\b\b\b\b\b\b\b\b\b\b\b\b\b\b\b\b\b\b\b\b\b\b\b\b\b\b\b\b\b\b\b\b\b\b\b\b\b\b\b\b\b\b\b\b\b\b\b\b\b\b\b\b\b\b\b\b\b\b\b\b\b\b\b\b\b\b\b\b\b\b\b\b\b\b\b\b\b\b\b\b\b\b\b\b\b\b\b\b\b\b\b\b\b\b\b\b\b\b\b\b\b\b\b\b\b\b\b\b\b\b\b\b\b\b\b\b\b\b\b\b\b\b\b\b\b\b\b\b\b\b\b\b\b\b\b\b\b\b\b\b\b\b\b\b\b\b\b\b\b\b\b\b\b\b\b\b\b\b\b\b\b\b\b\b\b\b\b\b\b\b\b\b\b\b\b\b\b\b\b\b\b\b\b\b\b\b\b\b\b\b\b\b\b\b\b\b\b\b\b\b\b\b\b\b\b\b\b\b\b\b\b\b\b\b\b\b\b\b\b\b\b\b\b\b\b\b\b\b\b\b\b\b\b\b\b\b\b\b\b\b\b\b\b\b\b\b\b\b\b\b\b\b\b\b\b\b\b\b\b\b\b\b\b\b\b\b\b\b\b\b\b\b\b\b\b\b\b\b\b\b\b\b\b\b\b\b\b\b\b\b\b\b\b\b\b\b\b\b\b\b\b\b\b\b\b\b\b\b\b\b\b\b\b\b\b\b\b\b\b\b\b\b\b\b\b\b\b\b\b\b\b\b\b\b\b\b\b\b\b\b\b\b\b\b\b\b\b\b\b\b\b\b\b\b\b\b\b\b\b\b\b\b\b\b\b\b\b\b\b\b\b\b\b\b\b\b\b\b\b\b\b\b\b\b\b\b\b\b\b\b\b\b\b\b\b\b\b\b\b\b\b\b\b\b\b\b\b\b\b\b\b\b\b\b\b\b\b\b\b\b\b\b\b\b\b\b\b\b\b\b\b\b\b\b\b\b\b\b\b\b\b\b\b\b\b\b\b\b\b\b\b\b\b\b\b\b\b\b\b\b\b\b\b\b\b\b\b\b\b\b\b\b\b\b\b\b\b\b\b\b\b\b\b\b\b\b\b\b\b\b\b\b\b\b\b\b\b\b\b\b\b\b\b\b\b\b\b\b\b\b\b\b\b\b\b\b\b\b\b\b\b\b\b\b\b\b\b\b\b\b\b\b\b\b\b\b\b\b\b\b\b\b\b\b\b\b\b\b\b\b\b\b\b\b\b\b\b\b\b\b\b\b\b\b\b\b\b\b\b\b\b\b\b\b\b\b\b\b\b\b\b\b\b\b\b\b\b\b\b\b\b\b\b\b\b\b\b\b\b\b\b\b\b\b\b\b\b\b\b\b\b\b\b\b\b\b\b\b\b\b\b\b\b\b\b\b\b\b\b\b\b\b\b\b\b\b\b\b\b\b\b\b\b\b\b\b\b\b\b\b\b\b\b\b\b\b\b\b\b\b\b\b\b\b\b\b\b\b\b\b\b\b\b\b\b\b\b\b\b\b\b\b\b\b\b\b\b\b\b\b\b\b\b\b\b\b\b\b\b\b\b\b\b\b\b\b\b\b\b\b\b\b\b\b\b\b\b\b\b\b\b\b\b\b\b\b\b\b\b\b\b\b\b\b\b\b\b\b\b\b\b\b\b\b\b\b\b\b\b\b\b\b\b\b\b\b\b\b\b\b\b\b\b\b\b\b\b\b\b\b\b\b\b\b\b\b\b\b\b\b\b\b\b\b\b\b\b\b\b\b\b\b\b\b\b\b\b\b\b\b\b\b\b\b\b\b\b\b\b\b\b\b\b\b\b\b\b\b\b\b\b\b\b\b\b\b\b\b\b\b\b\b\b\b\b\b\b\b\b\b\b\b\b\b\b\b\b\b\b\b\b\b\b\b\b\b\b\b\b\b\b\b\b\b\b\b\b\b\b\b\b\b\b\b\b\b\b\b\b\b\b\b\b\b\b\b\b\b\b\b\b\b\b\b\b\b\b\b\b\b\b\b\b\b\b\b\b\b\b\b\b\b\b\b\b\b\b\b\b\b\b\b\b\b\b\b\b\b\b\b\b\b\b\b\b\b\b\b\b\b\b\b\b\b\b\b\b\b\b\b\b\b\b\b\b\b\b\b\b\b\b\b\b\b\b\b\b\b\b\b\b\b\b\b\b\b\b\b\b\b\b\b\b\b\b\b\b\b\b\b\b\b\b\b\b\b\b\b\b\b\b\b\b\b\b\b\b\b\b\b\b\b\b\b\b\b\b\b\b\b\b\b\b\b\b\b\b\b\b\b\b\b\b\b\b\b\b\b\b\b\b\b\b\b\b\b\b\b\b\b\b\b\b\b\b\b\b\b\b\b\b\b\b\b\b\b\b\b\b\b\b\b\b\b\b\b\b\b\b\b\b\b\b\b\b\b\b\b\b\b\b\b\b\b\b\b\b\b\b\b\b\b\b\b\b\b\b\b\b\b\b\b\b\b\b\b\b\b\b\b\b\b\b\b\b\b\b\b\b\b\b\b\b\b\b\b\b\b\b\b\b\b\b\b\b\b\b\b\b\b\b\b\b\b\b\b\b\b\b\b\b\b\b\b\b\b\b\b\b\b\b\b\b\b\b\b\b\b\b\b\b\b\b\b\b\b\b\b\b\b\b\b\b\b\b\b\b\b\b\b\b\b\b\b\b\b\b\b\b\b\b\b\b\b\b\b\b\b\b\b\b\b\b\b\b\b\b\b\b\b\b\b\b\b\b\b\b\b\b\b\b\b\b\b\b\b\b\b\b\b\b\b\b\b\b\b\b\b\b\b\b\b\b\b\b\b\b\b\b\b\b\b\b\b\b\b\b\b\b\b\b\b\b\b\b\b\b\b\b\b\b\b\b\b\b\b\b\b\b\b\b\b\b\b\b\b\b\b\b\b\b\b\b\b\b\b\b\b\b\b\b\b\b\b\b\b\b\b\b\b\b\b\b\b\b\b\b\b\b\b\b\b\b\b\b\b\b\b\b\b\b\b\b\b\b\b\b\b\b\b\b\b\b\b\b\b\b\b\b\b\b\b\b\b\b\b\b\b\b\b\b\b\b\b\b\b\b\b\b\b\b\b\b\b\b\b\b\b\b\b\b\b\b\b\b\b\b\b\b\b\b\b\b\b\b\b\b\b\b\b\b\b\b\b\b\b\b\b\b\b\b\b\b\b\b\b\b\b\b\b\b\b\b\b\b\b\b\b\b\b\b\b\b\b\b\b\b\b\b\b\b\b\b\b\b\b\b\b\b\b\b\b\b\b\b\b\b\b\b\b\b\b\b\b\b\b\b\b\b\b\b\b\b\b\b\b\b\b\b\b\b\b\b\b\b\b\b\b\b\b\b\b\b\b\b\b\b\b\b\b\b\b\b\b\b\b\b\b\b\b\b\b\b\b\b\b\b\b\b\b\b\b\b\b\b\b\b\b\b\b\b\b\b\b\b\b\b\b\b\b\b\b\b\b\b\b\b\b\b\b\b\b\b\b\b\b\b\b\b\b\b\b\b\b\b\b\b\b\b\b\b\b\b\b\b\b\b\b\b\b\b\b\b\b\b\b\b\b\b\b\b\b\b\b\b\b\b\b\b\b\b\b\b\b\b\b\b\b\b\b\b\b\b\b\b\b\b\b\b\b\b\b\b\b\b\b\b\b\b\b\b\b\b\b\b\b\b\b\b\b\b\b\b\b\b\b\b\b\b\b\b\b\b\b\b\b\b\b\b\b\b\b\b\b\b\b\b\b\b\b\b\b\b\b\b\b\b\b\b\b\b\b\b\b\b\b\b\b\b\b\b\b\b\b\b\b\b\b\b\b\b\b\b\b\b\b\b\b\b\b\b\b\b\b\b\b\b\b\b\b\b\b\b\b\b\b\b\b\b\b\b\b\b\b\b\b\b\b\b\b\b\b\b\b\b\b\b\b\b\b\b\b\b\b\b\b\b\b\b\b\b\b\b\b\b\b\b\b\b\b\b\b\b\b\b\b\b\b\b\b\b\b\b\b\b\b\b\b\b\b\b\b\b\b\b\b\b\b\b\b\b\b\b\b\b\b\b\b\b\b\b\b\b\b\b\b\b\b\b\b\b\b\b\b\b\b\b\b\b\b\b\b\b\b\b\b\b\b\b\b\b\b\b\b\b\b\b\b\b\b\b\b\b\b\b\b\b\b\b\b\b\b\b\b\b\b\b\b\b\b\b\b\b\b\b\b\b\b\b\b\b\b\b\b\b\b\b\b\b\b\b\b\b\b\b\b\b\b\b\b\b\b\b\b\b\b\b\b\b\b\b\b\b\b\b\b\b\b\b\b\b\b\b\b\b\b\b\b\b\b\b\b\b\b\b\b\b\b\b\b\b\b\b\b\b\b\b\b\b\b\b\b\b\b\b\b\b\b\b\b\b\b\b\b\b\b\b\b\b\b\b\b\b\b\b\b\b\b\b\b\b\b\b\b\b\b\b\b\b\b\b\b\b\b\b\b\b\b\b\b\b\b\b\b\b\b\b\b\b\b\b\b\b\b\b\b\b\b\b\b\b\b\b\b\b\b\b\b\b\b\b\b\b\b\b\b\b\b\b\b\b\b\b\b\b\b\b\b\b\b\b\b\b\b\b\b\b\b\b\b\b\b\b\b\b\b\b\b\b\b\b\b\b\b\b\b\b\b\b\b\b\b\b\b\b\b\b\b\b\b\b\b\b\b\b\b\b\b\b\b\b\b\b\b\b\b\b\b\b\b\b\b\b\b\b\b\b\b\b\b\b\b\b\b\b\b\b\b\b\b\b\b\b\b\b\b\b\b\b\b\b\b\b\b\b\b\b\b\b\b\b\b\b\b\b\b\b\b\b\b\b\b\b\b\b\b\b\b\b\b\b\b\b\b\b\b\b\b\b\b\b\b\b\b\b\b\b\b\b\b\b\b\b\b\b\b\b\b\b\b\b\b\b\b\b\b\b\b\b\b\b\b\b\b\b\b\b\b\b\b\b\b\b\b\b\b\b\b\b\b\b\b\b\b\b\b\b\b\b\b\b\b\b\b\b\b\b\b\b\b\b\b\b\b\b\b\b\b\b\b\b\b\b\b\b\b\b\b\b\b\b\b\b\b\b\b\b\b\b\b\b\b\b\b\b\b\b\b\b\b\b\b\b\b\b\b\b\b\b\b\b\b\b\b\b\b\b\b\b\b\b\b\b\b\b\b\b\b\b\b\b\b\b\b\b\b\b\b\b\b\b\b\b\b\b\b\b\b\b\b\b\b\b\b\b\b\b\b\b\b\b\b\b\b\b\b\b\b\b\b\b\b\b\b\b\b\b\b\b\b\b\b\b\b\b\b\b\b\b\b\b\b\b\b\b\b\b\b\b\b\b\b\b\b\b\b\b\b\b\b\b\b\b\b\b\b\b\b\b\b\b\b\b\b\b\b\b\b\b\b\b\b\b\b\b\b\b\b\b\b\b\b\b\b\b\b\b\b\b\b\b\b\b\b\b\b\b\b\b\b\b\b\b\b\b\b\b\b\b\b\b\b\b\b\b\b\b\b\b\b\b\b\b\b\b\b\b\b\b\b\b\b\b\b\b\b\b\b\b\b\b\b\b\b\b\b\b\b\b\b\b\b\b\b\b\b\b\b\b\b\b\b\b\b\b\b\b\b\b\b\b\b\b\b\b\b\b\b\b\b\b\b\b\b\b\b\b\b\b\b\b\b\b\b\b\b\b\b\b\b\b\b\b\b\b\b\b\b\b\b\b\b\b\b\b\b\b\b\b\b\b\b\b\b\b\b\b\b\b\b\b\b\b\b\b\b\b\b\b\b\b\b\b\b\b\b\b\b\b\b\b\b\b\b\b\b\b\b\b\b\b\b\b\b\b\b\b\b\b\b\b\b\b\b\b\b\b\b\b\b\b\b\b\b\b\b\b\b\b\b\b\b\b\b\b\b\b\b\b\b\b\b\b\b\b\b\b\b\b\b\b\b\b\b\b\b\b\b\b\b\b\b\b\b\b\b\b\b\b\b\b\b\b\b\b\b\b\b\b\b\b\b\b\b\b\b\b\b\b\b\b\b\b\b\b\b\b\b\b\b\b\b\b\b\b\b\b\b\b\b\b\b\b\b\b\b\b\b\b\b\b\b\b\b\b\b\b\b\b\b\b\b\b\b\b\b\b\b\b\b\b\b\b\b\b\b\b\b\b\b\b\b\b\b\b\b\b\b\b\b\b\b\b\b\b\b\b\b\b\b\b\b\b\b\b\b\b\b\b\b\b\b\b\b\b\b\b\b\b\b\b\b\b\b\b\b\b\b\b\b\b\b\b\b\b\b\b\b\b\b\b\b\b\b\b\b\b\b\b\b\b\b\b\b\b\b\b\b\b\b\b\b\b\b\b\b\b\b\b\b\b\b\b\b\b\b\b\b\b\b\b\b\b\b\b\b\b\b\b\b\b\b\b\b\b\b\b\b\b\b\b\b\b\b\b\b\b\b\b\b\b\b\b\b\b\b\b\b\b\b\b\b\b\b\b\b\b\b\b\b\b\b\b\b\b\b\b\b\b\b\b\b\b\b\b\b\b\b\b\b\b\b\b\b\b\b\b\b\b\b\b\b\b\b\b\b\b\b\b\b\b\b\b\b\b\b\b\b\b\b\b\b\b\b\b\b\b\b\b\b\b\b\b\b\b\b\b\b\b\b\b\b\b\b\b\b\b\b\b\b\b\b\b\b\b\b\b\b\b\b\b\b\b\b\b\b\b\b\b\b\b\b\b\b\b\b\b\b\b\b\b\b\b\b\b\b\b\b\b\b\b\b\b\b\b\b\b\b\b\b\b\b\b\b\b\b\b\b\b\b\b\b\b\b\b\b\b\b\b\b\b\b\b\b\b\b\b\b\b\b\b\b\b\b\b\b\b\b\b\b\b\b\b\b\b\b\b\b\b\b\b\b\b\b\b\b\b\b\b\b\b\b\b\b\b\b\b\b\b\b\b\b\b\b\b\b\b\b\b\b\b\b\b\b\b\b\b\b\b\b\b\b\b\b\b\b\b\b\b\b\b\b\b\b\b\b\b\b\b\b\b\b\b\b\b\b\b\b\b\b\b\b\b\b\b\b\b\b\b\b\b\b\b\b\b\b\b\b\b\b\b\b\b\b\b\b\b\b\b\b\b\b\b\b\b\b\b\b\b\b\b\b\b\b\b\b\b\b\b\b\b\b\b\b\b\b\b\b\b\b\b\b\b\b\b\b\b\b\b\b\b\b\b\b\b\b\b\b\b\b\b\b\b\b\b\b\b\b\b\b\b\b\b\b\b\b\b\b\b\b\b\b\b\b\b\b\b\b\b\b\b\b\b\b\b\b\b\b\b\b\b\b\b\b\b\b\b\b\b\b\b\b\b\b\b\b\b\b\b\b\b\b\b\b\b\b\b\b\b\b\b\b\b\b\b\b\b\b\b\b\b\b\b\b\b\b\b\b\b\b\b\b\b\b\b\b\b\b\b\b\b\b\b\b\b\b\b\b\b\b\b\b\b\b\b\b\b\b\b\b\b\b\b\b\b\b\b\b\b\b\b\b\b\b\b\b\b\b\b\b\b\b\b\b\b\b\b\b\b\b\b\b\b\b\b\b\b\b\b\b\b\b\b\b\b\b\b\b\b\b\b\b\b\b\b\b\b\b\b\b\b\b\b\b\b\b\b\b\b\b\b\b\b\b\b\b\b\b\b\b\b\b\b\b\b\b\b\b\b\b\b\b\b\b\b\b\b\b\b\b\b\b\b\b\b\b\b\b\b\b\b\b\b\b\b\b\b\b\b\b\b\b\b\b\b\b\b\b\b\b\b\b\b\b\b\b\b\b\b\b\b\b\b\b\b\b\b\b\b\b\b\b\b\b\b\b\b\b\b\b\b\b\b\b\b\b\b\b\b\b\b\b\b\b\b\b\b\b\b\b\b\b\b\b\b\b\b\b\b\b\b\b\b\b\b\b\b\b\b\b\b\b\b\b\b\b\b\b\b\b\b\b\b\b\b\b\b\b\b\b\b\b\b\b\b\b\b\b\b\b\b\b\b\b\b\b\b\b\b\b\b\b\b\b\b\b\b\b\b\b\b\b\b\b\b\b\b\b\b\b\b\b\b\b\b\b\b\b\b\b\b\b\b\b\b\b\b\b\b\b\b\b\b\b\b\b\b\b\b\b\b\b\b\b\b\b\b\b\b\b\b\b\b\b\b\b\b\b\b\b\b\b\b\b\b\b\b\b\b\b\b\b\b\b\b\b\b\b\b\b\b\b\b\b\b\b\b\b\b\b\b\b\b\b\b\b\b\b\b\b\b\b\b\b\b\b\b\b\b\b\b\b\b\b\b\b\b\b\b\b\b\b\b\b\b\b\b\b\b\b\b\b\b\b\b\b\b\b\b\b\b\b\b\b\b\b\b\b\b\b\b\b\b\b\b\b\b\b\b\b\b\b\b\b\b\b\b\b\b\b\b\b\b\b\b\b\b\b\b\b\b\b\b\b\b\b\b\b\b\b\b\b\b\b\b\b\b\b\b\b\b\b\b\b\b\b\b\b\b\b\b\b\b\b\b\b\b\b\b\b\b\b\b\b\b\b\b\b\b\b\b\b\b\b\b\b\b\b\b\b\b\b\b\b\b\b\b\b\b\b\b\b\b\b\b\b\b\b\b\b\b\b\b\b\b\b\b\b\b\b\b\b\b\b\b\b\b\b\b\b\b\b\b\b\b\b\b\b\b\b\b\b\b\b\b\b\b\b\b\b\b\b\b\b\b\b\b\b\b\b\b\b\b\b\b\b\b\b\b\b\b\b\b\b\b\b\b\b\b\b\b\b\b\b\b\b\b\b\b\b\b\b\b\b\b\b\b\b\b\b\b\b\b\b\b\b\b\b\b\b\b\b\b\b\b\b\b\b\b\b\b\b\b\b\b\b\b\b\b\b\b\b\b\b\b\b\b\b\b\b\b\b\b\b\b\b\b\b\b\b\b\b\b\b\b\b\b\b\b\b\b\b\b\b\b\b\b\b\b\b\b\b\b\b\b\b\b\b\b\b\b\b\b\b\b\b\b\b\b\b\b\b\b\b\b\b\b\b\b\b\b\b\b\b\b\b\b\b\b\b\b\b\b\b\b\b\b\b\b\b\b\b\b\b\b\b\b\b\b\b\b\b\b\b\b\b\b\b\b\b\b\b\b\b\b\b\b\b\b\b\b\b\b\b\b\b\b\b\b\b\b\b\b\b\b\b\b\b\b\b\b\b\b\b\b\b\b\b\b\b\b\b\b\b\b\b\b\b\b\b\b\b\b\b\b\b\b\b\b\b\b\b\b\b\b\b\b\b\b\b\b\b\b\b\b\b\b\b\b\b\b\b\b\b\b\b\b\b\b\b\b\b\b\b\b\b\b\b\b\b\b\b\b\b\b\b\b\b\b\b\b\b\b\b\b\b\b\b\b\b\b\b\b\b\b\b\b\b\b\b\b\b\b\b\b\b\b\b\b\b\b\b\b\b\b\b\b\b\b\b\b\b\b\b\b\b\b\b\b\b\b\b\b\b\b\b\b\b\b\b\b\b\b\b\b\b\b\b\b\b\b\b\b\b\b\b\b\b\b\b\b\b\b\b\b\b\b\b\b\b\b\b\b\b\b\b\b\b\b\b\b\b\b\b\b\b\b\b\b\b\b\b\b\b\b\b\b\b\b\b\b\b\b\b\b\b\b\b\b\b\b\b\b\b\b\b\b\b\b\b\b\b\b\b\b\b\b\b\b\b\b\b\b\b\b\b\b\b\b\b\b\b\b\b\b\b\b\b\b\b\b\b\b\b\b\b\b\b\b\b\b\b\b\b\b\b\b\b\b\b\b\b\b\b\b\b\b\b\b\b\b\b\b\b\b\b\b\b\b\b\b\b\b\b\b\b\b\b\b\b\b\b\b\b\b\b\b\b\b\b\b\b\b\b\b\b\b\b\b\b\b\b\b\b\b\b\b\b\b\b\b\b\b\b\b\b\b\b\b\b\b\b\b\b\b\b\b\b\b\b\b\b\b\b\b\b\b\b\b\b\b\b\b\b\b\b\b\b\b\b\b\b\b\b\b\b\b\b\b\b\b\b\b\b\b\b\b\b\b\b\b\b\b\b\b\b\b\b\b\b\b\b\b\b\b\b\b\b\b\b\b\b\b\b\b\b\b\b\b\b\b\b\b\b\b\b\b\b\b\b\b\b\b\b\b\b\b\b\b\b\b\b\b\b\b\b\b\b\b\b\b\b\b\b\b\b\b\b\b\b\b\b\b\b\b\b\b\b\b\b\b\b\b\b\b\b\b\b\b\b\b\b\b\b\b\b\b\b\b\b\b\b\b\b\b\b\b\b\b\b\b\b\b\b\b\b\b\b\b\b\b\b\b\b\b\b\b\b\b\b\b\b\b\b\b\b\b\b\b\b\b\b\b\b\b\b\b\b\b\b\b\b\b\b\b\b\b\b\b\b\b\b\b\b\b\b\b\b\b\b\b\b\b\b\b\b\b\b\b\b\b\b\b\b\b\b\b\b\b\b\b\b\b\b\b\b\b\b\b\b\b\b\b\b\b\b\b\b\b\b\b\b\b\b\b\b\b\b\b\b\b\b\b\b\b\b\b\b\b\b\b\b\b\b\b\b\b\b\b\b\b\b\b\b\b\b\b\b\b\b\b\b\b\b\b\b\b\b\b\b\b\b\b\b\b\b\b\b\b\b\b\b\b\b\b\b\b\b\b\b\b\b\b\b\b\b\b\b\b\b\b\b\b\b\b\b\b\b\b\b\b\b\b\b\b\b\b\b\b\b\b\b\b\b\b\b\b\b\b\b\b\b\b\b\b\b\b\b\b\b\b\b\b\b\b\b\b\b\b\b\b\b\b\b\b\b\b\b\b\b\b\b\b\b\b\b\b\b\b\b\b\b\b\b\b\b\b\b\b\b\b\b\b\b\b\b\b\b\b\b\b\b\b\b\b\b\b\b\b\b\b\b\b\b\b\b\b\b\b\b\b\b\b\b\b\b\b\b\b\b\b\b\b\b\b\b\b\b\b\b\b\b\b\b\b\b\b\b\b\b\b\b\b\b\b\b\b\b\b\b\b\b\b\b\b\b\b\b\b\b\b\b\b\b\b\b\b\b\b\b\b\b\b\b\b\b\b\b\b\b\b\b\b\b\b\b\b\b\b\b\b\b\b\b\b\b\b\b\b\b\b\b\b\b\b\b\b\b\b\b\b\b\b\b\b\b\b\b\b\b\b\b\b\b\b\b\b\b\b\b\b\b\b\b\b\b\b\b\b\b\b\b\b\b\b\b\b\b\b\b\b\b\b\b\b\b\b\b\b\b\b\b\b\b\b\b\b\b\b\b\b\b\b\b\b\b\b\b\b\b\b\b\b\b\b\b\b\b\b\b\b\b\b\b\b\b\b\b\b\b\b\b\b\b\b\b\b\b\b\b\b\b\b\b\b\b\b\b\b\b\b\b\b\b\b\b\b\b\b\b\b\b\b\b\b\b\b\b\b\b\b\b\b\b\b\b\b\b\b\b\b\b\b\b\b\b\b\b\b\b\b\b\b\b\b\b\b\b\b\b\b\b\b\b\b\b\b\b\b\b\b\b\b\b\b\b\b\b\b\b\b\b\b\b\b\b\b\b\b\b\b\b\b\b\b\b\b\b\b\b\b\b\b\b\b\b\b\b\b\b\b\b\b\b\b\b\b\b\b\b\b\b\b\b\b\b\b\b\b\b\b\b\b\b\b\b\b\b\b\b\b\b\b\b\b\b\b\b\b\b\b\b\b\b\b\b\b\b\b\b\b\b\b\b\b\b\b\b\b\b\b\b\b\b\b\b\b\b\b\b\b\b\b\b\b\b\b\b\b\b\b\b\b\b\b\b\b\b\b\b\b\b\b\b\b\b\b\b\b\b\b\b\b\b\b\b\b\b\b\b\b\b\b\b\b\b\b\b\b\b\b\b\b\b\b\b\b\b\b\b\b\b\b\b\b\b\b\b\b\b\b\b\b\b\b\b\b\b\b\b\b\b\b\b\b\b\b\b\b\b\b\b\b\b\b\b\b\b\b\b\b\b\b\b\b\b\b\b\b\b\b\b\b\b\b\b\b\b\b\b\b\b\b\b\b\b\b\b\b\b\b\b\b\b\b\b\b\b\b\b\b\b\b\b\b\b\b\b\b\b\b\b\b\b\b\b\b\b\b\b\b\b\b\b\b\b\b\b\b\b\b\b\b\b\b\b\b\b\b\b\b\b\b\b\b\b\b\b\b\b\b\b\b\b\b\b\b\b\b\b\b\b\b\b\b\b\b\b\b\b\b\b\b\b\b\b\b\b\b\b\b\b\b\b\b\b\b\b\b\b\b\b\b\b\b\b\b\b\b\b\b\b\b\b\b\b\b\b\b\b\b\b\b\b\b\b\b\b\b\b\b\b\b\b\b\b\b\b\b\b\b\b\b\b\b\b\b\b\b\b\b\b\b\b\b\b\b\b\b\b\b\b\b\b\b\b\b\b\b\b\b\b\b\b\b\b\b\b\b\b\b\b\b\b\b\b\b\b\b\b\b\b\b\b\b\b\b\b\b\b\b\b\b\b\b\b\b\b\b\b\b\b\b\b\b\b\b\b\b\b\b\b\b\b\b\b\b\b\b\b\b\b\b\b\b\b\b\b\b\b\b\b\b\b\b\b\b\b\b\b\b\b\b\b\b\b\b\b\b\b\b\b\b\b\b\b\b\b\b\b\b\b\b\b\b\b\b\b\b\b\b\b\b\b\b\b\b\b\b\b\b\b\b\b\b\b\b\b\b\b\b\b\b\b\b\b\b\b\b\b\b\b\b\b\b\b\b\b\b\b\b\b\b\b\b\b\b\b\b\b\b\b\b\b\b\b\b\b\b\b\b\b\b\b\b\b\b\b\b\b\b\b\b\b\b\b\b\b\b\b\b\b\b\b\b\b\b\b\b\b\b\b\b\b\b\b\b\b\b\b\b\b\b\b\b\b\b\b\b\b\b\b\b\b\b\b\b\b\b\b\b\b\b\b\b\b\b\b\b\b\b\b\b\b\b\b\b\b\b\b\b\b\b\b\b\b\b\b\b\b\b\b\b\b\b\b\b\b\b\b\b\b\b\b\b\b\b\b\b\b\b\b\b\b\b\b\b\b\b\b\b\b\b\b\b\b\b\b\b\b\b\b\b\b\b\b\b\b\b\b\b\b\b\b\b\b\b\b\b\b\b\b\b\b\b\b\b\b\b\b\b\b\b\b\b\b\b\b\b\b\b\b\b\b\b\b\b\b\b\b\b\b\b\b\b\b\b\b\b\b\b\b\b\b\b\b\b\b\b\b\b\b\b\b\b\b\b\b\b\b\b\b\b\b\b\b\b\b\b\b\b\b\b\b\b\b\b\b\b\b\b\b\b\b\b\b\b\b\b\b\b\b\b\b\b\b\b\b\b\b\b\b\b\b\b\b\b\b\b\b\b\b\b\b\b\b\b\b\b\b\b\b\b\b\b\b\b\b\b\b\b\b\b\b\b\b\b\b\b\b\b\b\b\b\b\b\b\b\b\b\b\b\b\b\b\b\b\b\b\b\b\b\b\b\b\b\b\b\b\b\b\b\b\b\b\b\b\b\b\b\b\b\b\b\b\b\b\b\b\b\b\b\b\b\b\b\b\b\b\b\b\b\b\b\b\b\b\b\b\b\b\b\b\b\b\b\b\b\b\b\b\b\b\b\b\b\b\b\b\b\b\b\b\b\b\b\b\b\b\b\b\b\b\b\b\b\b\b\b\b\b\b\b\b\b\b\b\b\b\b\b\b\b\b\b\b\b\b\b\b\b\b\b\b\b\b\b\b\b\b\b\b\b\b\b\b\b\b\b\b\b\b\b\b\b\b\b\b\b\b\b\b\b\b\b\b\b\b\b\b\b\b\b\b\b\b\b\b\b\b\b\b\b\b\b\b\b\b\b\b\b\b\b\b\b\b\b\b\b\b\b\b\b\b\b\b\b\b\b\b\b\b\b\b\b\b\b\b\b\b\b\b\b\b\b\b\b\b\b\b\b\b\b\b\b\b\b\b\b\b\b\b\b\b\b\b\b\b\b\b\b\b\b\b\b\b\b\b\b\b\b\b\b\b\b\b\b\b\b\b\b\b\b\b\b\b\b\b\b\b\b\b\b\b\b\b\b\b\b\b\b\b\b\b\b\b\b\b\b\b\b\b\b\b\b\b\b\b\b\b\b\b\b\b\b\b\b\b\b\b\b\b\b\b\b\b\b\b\b\b\b\b\b\b\b\b\b\b\b\b\b\b\b\b\b\b\b\b\b\b\b\b\b\b\b\b\b\b\b\b\b\b\b\b\b\b\b\b\b\b\b\b\b\b\b\b\b\b\b\b\b\b\b\b\b\b\b\b\b\b\b\b\b\b\b\b\b\b\b\b\b\b\b\b\b\b\b\b\b\b\b\b\b\b\b\b\b\b\b\b\b\b\b\b\b\b\b\b\b\b\b\b\b\b\b\b\b\b\b\b\b\b\b\b\b\b\b\b\b\b\b\b\b\b\b\b\b\b\b\b\b\b\b\b\b\b\b\b\b\b\b\b\b\b\b\b\b\b\b\b\b\b\b\b\b\b\b\b\b\b\b\b\b\b\b\b\b\b\b\b\b\b\b\b\b\b\b\b\b\b\b\b\b\b\b\b\b\b\b\b\b\b\b\b\b\b\b\b\b\b\b\b\b\b\b\b\b\b\b\b\b\b\b\b\b\b\b\b\b\b\b\b\b\b\b\b\b\b\b\b\b\b\b\b\b\b\b\b\b\b\b\b\b\b\b\b\b\b\b\b\b\b\b\b\b\b\b\b\b\b\b\b\b\b\b\b\b\b\b\b\b\b\b\b\b\b\b\b\b\b\b\b\b\b\b\b\b\b\b\b\b\b\b\b\b\b\b\b\b\b\b\b\b\b\b\b\b\b\b\b\b\b\b\b\b\b\b\b\b\b\b\b\b\b\b\b\b\b\b\b\b\b\b\b\b\b\b\b\b\b\b\b\b\b\b\b\b\b\b\b\b\b\b\b\b\b\b\b\b\b\b\b\b\b\b\b\b\b\b\b\b\b\b\b\b\b\b\b\b\b\b\b\b\b\b\b\b\b\b\b\b\b\b\b\b\b\b\b\b\b\b\b\b\b\b\b\b\b\b\b\b\b\b\b\b\b\b\b\b\b\b\b\b\b\b\b\b\b\b\b\b\b\b\b\b\b\b\b\b\b\b\b\b\b\b\b\b\b\b\b\b\b\b\b\b\b\b\b\b\b\b\b\b\b\b\b\b\b\b\b\b\b\b\b\b\b\b\b\b\b\b\b\b\b\b\b\b\b\b\b\b\b\b\b\b\b\b\b\b\b\b\b\b\b\b\b\b\b\b\b\b\b\b\b\b\b\b\b\b\b\b\b\b\b\b\b\b\b\b\b\b\b\b\b\b\b\b\b\b\b\b\b\b\b\b\b\b\b\b\b\b\b\b\b\b\b\b\b\b\b\b\b\b\b\b\b\b\b\b\b\b\b\b\b\b\b\b\b\b\b\b\b\b\b\b\b\b\b\b\b\b\b\b\b\b\b\b\b\b\b\b\b\b\b\b\b\b\b\b\b\b\b\b\b\b\b\b\b\b\b\b\b\b\b\b\b\b\b\b\b\b\b\b\b\b\b\b\b\b\b\b\b\b\b\b\b\b\b\b\b\b\b\b\b\b\b\b\b\b\b\b\b\b\b\b\b\b\b\b\b\b\b\b\b\b\b\b\b\b\b\b\b\b\b\b\b\b\b\b\b\b\b\b\b\b\b\b\b\b\b\b\b\b\b\b\b\b\b\b\b\b\b\b\b\b\b\b\b\b\b\b\b\b\b\b\b\b\b\b\b\b\b\b\b\b\b\b\b\b\b\b\b\b\b\b\b\b\b\b\b\b\b\b\b\b\b\b\b\b\b\b\b\b\b\b\b\b\b\b\b\b\b\b\b\b\b\b\b\b\b\b\b\b\b\b\b\b\b\b\b\b\b\b\b\b\b\b\b\b\b\b\b\b\b\b\b\b\b\b\b\b\b\b\b\b\b\b\b\b\b\b\b\b\b\b\b\b\b\b\b\b\b\b\b\b\b\b\b\b\b\b\b\b\b\b\b\b\b\b\b\b\b\b\b\b\b\b\b\b\b\b\b\b\b\b\b\b\b\b\b\b\b\b\b\b\b\b\b\b\b\b\b\b\b\b\b\b\b\b\b\b\b\b\b\b\b\b\b\b\b\b\b\b\b\b\b\b\b\b\b\b\b\b\b\b\b\b\b\b\b\b\b\b\b\b\b\b\b\b\b\b\b\b\b\b\b\b\b\b\b\b\b\b\b\b\b\b\b\b\b\b\b\b\b\b\b\b\b\b\b\b\b\b\b\b\b\b\b\b\b\b\b\b\b\b\b\b\b\b\b\b\b\b\b\b\b\b\b\b\b\b\b\b\b\b\b\b\b\b\b\b\b\b\b\b\b\b\b\b\b\b\b\b\b\b\b\b\b\b\b\b\b\b\b\b\b\b\b\b\b\b\b\b\b\b\b\b\b\b\b\b\b\b\b\b\b\b\b\b\b\b\b\b\b\b\b\b\b\b\b\b\b\b\b\b\b\b\b\b\b\b\b\b\b\b\b\b\b\b\b\b\b\b\b\b\b\b\b\b\b\b\b\b\b\b\b\b\b\b\b\b\b\b\b\b\b\b\b\b\b\b\b\b\b\b\b\b\b\b\b\b\b\b\b\b\b\b\b\b\b\b\b\b\b\b\b\b\b\b\b\b\b\b\b\b\b\b\b\b\b\b\b\b\b\b\b\b\b\b\b\b\b\b\b\b\b\b\b\b\b\b\b\b\b\b\b\b\b\b\b\b\b\b\b\b\b\b\b\b\b\b\b\b\b\b\b\b\b\b\b\b\b\b\b\b\b\b\b\b\b\b\b\b\b\b\b\b\b\b\b\b\b\b\b\b\b\b\b\b\b\b\b\b\b\b\b\b\b\b\b\b\b\b\b\b\b\b\b\b\b\b\b\b\b\b\b\b\b\b\b\b\b\b\b\b\b\b\b\b\b\b\b\b\b\b\b\b\b\b\b\b\b\b\b\b\b\b\b\b\b\b\b\b\b\b\b\b\b\b\b\b\b\b\b\b\b\b\b\b\b\b\b\b\b\b\b\b\b\b\b\b\b\b\b\b\b\b\b\b\b\b\b\b\b\b\b\b\b\b\b\b\b\b\b\b\b\b\b\b\b\b\b\b\b\b\b\b\b\b\b\b\b\b\b\b\b\b\b\b\b\b\b\b\b\b\b\b\b\b\b\b\b\b\b\b\b\b\b\b\b\b\b\b\b\b\b\b\b\b\b\b\b\b\b\b\b\b\b\b\b\b\b\b\b\b\b\b\b\b\b\b\b\b\b\b\b\b\b\b\b\b\b\b\b\b\b\b\b\b\b\b\b\b\b\b\b\b\b\b\b\b\b\b\b\b\b\b\b\b\b\b\b\b\b\b\b\b\b\b\b\b\b\b\b\b\b\b\b\b\b\b\b\b\b\b\b\b\b\b\b\b\b\b\b\b\b\b\b\b\b\b\b\b\b\b\b\b\b\b\b\b\b\b\b\b\b\b\b\b\b\b\b\b\b\b\b\b\b\b\b\b\b\b\b\b\b\b\b\b\b\b\b\b\b\b\b\b\b\b\b\b\b\b\b\b\b\b\b\b\b\b\b\b\b\b\b\b\b\b\b\b\b\b\b\b\b\b\b\b\b\b\b\b\b\b\b\b\b\b\b\b\b\b\b\b\b\b\b\b\b\b\b\b\b\b\b\b\b\b\b\b\b\b\b\b\b\b\b\b\b\b\b\b\b\b\b\b\b\b\b\b\b\b\b\b\b\b\b\b\b\b\b\b\b\b\b\b\b\b\b\b\b\b\b\b\b\b\b\b\b\b\b\b\b\b\b\b\b\b\b\b\b\b\b\b\b\b\b\b\b\b\b\b\b\b\b\b\b\b\b\b\b\b\b\b\b\b\b\b\b\b\b\b\b\b\b\b\b\b\b\b\b\b\b\b\b\b\b\b\b\b\b\b\b\b\b\b\b\b\b\b\b\b\b\b\b\b\b\b\b\b\b\b\b\b\b\b\b\b\b\b\b\b\b\b\b\b\b\b\b\b\b\b\b\b\b\b\b\b\b\b\b\b\b\b\b\b\b\b\b\b\b\b\b\b\b\b\b\b\b\b\b\b\b\b\b\b\b\b\b\b\b\b\b\b\b\b\b\b\b\b\b\b\b\b\b\b\b\b\b\b\b\b\b\b\b\b\b\b\b\b\b\b\b\b\b\b\b\b\b\b\b\b\b\b\b\b\b\b\b\b\b\b\b\b\b\b\b\b\b\b\b\b\b\b\b\b\b\b\b\b\b\b\b\b\b\b\b\b\b\b\b\b\b\b\b\b\b\b\b\b\b\b\b\b\b\b\b\b\b\b\b\b\b\b\b\b\b\b\b\b\b\b\b\b\b\b\b\b\b\b\b\b\b\b\b\b\b\b\b\b\b\b\b\b\b\b\b\b\b\b\b\b\b\b\b\b\b\b\b\b\b\b\b\b\b\b\b\b\b\b\b\b\b\b\b\b\b\b\b\b\b\b\b\b\b\b\b\b\b\b\b\b\b\b\b\b\b\b\b\b\b\b\b\b\b\b\b\b\b\b\b\b\b\b\b\b\b\b\b\b\b\b\b\b\b\b\b\b\b\b\b\b\b\b\b\b\b\b\b\b\b\b\b\b\b\b\b\b\b\b\b\b\b\b\b\b\b\b\b\b\b\b\b\b\b\b\b\b\b\b\b\b\b\b\b\b\b\b\b\b\b\b\b\b\b\b\b\b\b\b\b\b\b\b\b\b\b\b\b\b\b\b\b\b\b\b\b\b\b\b\b\b\b\b\b\b\b\b\b\b\b\b\b\b\b\b\b\b\b\b\b\b\b\b\b\b\b\b\b\b\b\b\b\b\b\b\b\b\b\b\b\b\b\b\b\b\b\b\b\b\b\b\b\b\b\b\b\b\b\b\b\b\b\b\b\b\b\b\b\b\b\b\b\b\b\b\b\b\b\b\b\b\b\b\b\b\b\b\b\b\b\b\b\b\b\b\b\b\b\b\b\b\b\b\b\b\b\b\b\b\b\b\b\b\b\b\b\b\b\b\b\b\b\b\b\b\b\b\b\b\b\b\b\b\b\b\b\b\b\b\b\b\b\b\b\b\b\b\b\b\b\b\b\b\b\b\b\b\b\b\b\b\b\b\b\b\b\b\b\b\b\b\b\b\b\b\b\b\b\b\b\b\b\b\b\b\b\b\b\b\b\b\b\b\b\b\b\b\b\b\b\b\b\b\b\b\b\b\b\b\b\b\b\b\b\b\b\b\b\b\b\b\b\b\b\b\b\b\b\b\b\b\b\b\b\b\b\b\b\b\b\b\b\b\b\b\b\b\b\b\b\b\b\b\b\b\b\b\b\b\b\b\b\b\b\b\b\b\b\b\b\b\b\b\b\b\b\b\b\b\b\b\b\b\b\b\b\b\b\b\b\b\b\b\b\b\b\b\b\b\b\b\b\b\b\b\b\b\b\b\b\b\b\b\b\b\b\b\b\b\b\b\b\b\b\b\b\b\b\b\b\b\b\b\b\b\b\b\b\b\b\b\b\b\b\b\b\b\b\b\b\b\b\b\b\b\b\b\b\b\b\b\b\b\b\b\b\b\b\b\b\b\b\b\b\b\b\b\b\b\b\b\b\b\b\b\b\b\b\b\b\b\b\b\b\b\b\b\b\b\b\b\b\b\b\b\b\b\b\b\b\b\b\b\b\b\b\b\b\b\b\b\b\b\b\b\b\b\b\b\b\b\b\b\b\b\b\b\b\b\b\b\b\b\b\b\b\b\b\b\b\b\b\b\b\b\b\b\b\b\b\b\b\b\b\b\b\b\b\b\b\b\b\b\b\b\b\b\b\b\b\b\b\b\b\b\b\b\b\b\b\b\b\b\b\b\b\b\b\b\b\b\b\b\b\b\b\b\b\b\b\b\b\b\b\b\b\b\b\b\b\b\b\b\b\b\b\b\b\b\b\b\b\b\b\b\b\b\b\b\b\b\b\b\b\b\b\b\b\b\b\b\b\b\b\b\b\b\b\b\b\b\b\b\b\b\b\b\b\b\b\b\b\b\b\b\b\b\b\b\b\b\b\b\b\b\b\b\b\b\b\b\b\b\b\b\b\b\b\b\b\b\b\b\b\b\b\b\b\b\b\b\b\b\b\b\b\b\b\b\b\b\b\b\b\b\b\b\b\b\b\b\b\b\b\b\b\b\b\b\b\b\b\b\b\b\b\b\b\b\b\b\b\b\b\b\b\b\b\b\b\b\b\b\b\b\b\b\b\b\b\b\b\b\b\b\b\b\b\b\b\b\b\b\b\b\b\b\b\b\b\b\b\b\b\b\b\b\b\b\b\b\b\b\b\b\b\b\b\b\b\b\b\b\b\b\b\b\b\b\b\b\b\b\b\b\b\b\b\b\b\b\b\b\b\b\b\b\b\b\b\b\b\b\b\b\b\b\b\b\b\b\b\b\b\b\b\b\b\b\b\b\b\b\b\b\b\b\b\b\b\b\b\b\b\b\b\b\b\b\b\b\b\b\b\b\b\b\b\b\b\b\b\b\b\b\b\b\b\b\b\b\b\b\b\b\b\b\b\b\b\b\b\b\b\b\b\b\b\b\b\b\b\b\b\b\b\b\b\b\b\b\b\b\b\b\b\b\b\b\b\b\b\b\b\b\b\b\b\b\b\b\b\b\b\b\b\b\b\b\b\b\b\b\b\b\b\b\b\b\b\b\b\b\b\b\b\b\b\b\b\b\b\b\b\b\b\b\b\b\b\b\b\b\b\b\b\b\b\b\b\b\b\b\b\b\b\b\b\b\b\b\b\b\b\b\b\b\b\b\b\b\b\b\b\b\b\b\b\b\b\b\b\b\b\b\b\b\b\b\b\b\b\b\b\b\b\b\b\b\b\b\b\b\b\b\b\b\b\b\b\b\b\b\b\b\b\b\b\b\b\b\b\b\b\b\b\b\b\b\b\b\b\b\b\b\b\b\b\b\b\b\b\b\b\b\b\b\b\b\b\b\b\b\b\b\b\b\b\b\b\b\b\b\b\b\b\b\b\b\b\b\b\b\b\b\b\b\b\b\b\b\b\b\b\b\b\b\b\b\b\b\b\b\b\b\b\b\b\b\b\b\b\b\b\b\b\b\b\b\b\b\b\b\b\b\b\b\b\b\b\b\b\b\b\b\b\b\b\b\b\b\b\b\b\b\b\b\b\b\b\b\b\b\b\b\b\b\b\b\b\b\b\b\b\b\b\b\b\b\b\b\b\b\b\b\b\b\b\b\b\b\b\b\b\b\b\b\b\b\b\b\b\b\b\b\b\b\b\b\b\b\b\b\b\b\b\b\b\b\b\b\b\b\b\b\b\b\b\b\b\b\b\b\b\b\b\b\b\b\b\b\b\b\b\b\b\b\b\b\b\b\b\b\b\b\b\b\b\b\b\b\b\b\b\b\b\b\b\b\b\b\b\b\b\b\b\b\b\b\b\b\b\b\b\b\b\b\b\b\b\b\b\b\b\b\b\b\b\b\b\b\b\b\b\b\b\b\b\b\b\b\b\b\b\b\b\b\b\b\b\b\b\b\b\b\b\b\b\b\b\b\b\b\b\b\b\b\b\b\b\b\b\b\b\b\b\b\b\b\b\b\b\b\b\b\b\b\b\b\b\b\b\b\b\b\b\b\b\b\b\b\b\b\b\b\b\b\b\b\b\b\b\b\b\b\b\b\b\b\b\b\b\b\b\b\b\b\b\b\b\b\b\b\b\b\b\b\b\b\b\b\b\b\b\b\b\b\b\b\b\b\b\b\b\b\b\b\b\b\b\b\b\b\b\b\b\b\b\b\b\b\b\b\b\b\b\b\b\b\b\b\b\b\b\b\b\b\b\b\b\b\b\b\b\b\b\b\b\b\b\b\b\b\b\b\b\b\b\b\b\b\b\b\b\b\b\b\b\b\b\b\b\b\b\b\b\b\b\b\b\b\b\b\b\b\b\b\b\b\b\b\b\b\b\b\b\b\b\b\b\b\b\b\b\b\b\b\b\b\b\b\b\b\b\b\b\b\b\b\b\b\b\b\b\b\b\b\b\b\b\b\b\b\b\b\b\b\b\b\b\b\b\b\b\b\b\b\b\b\b\b\b\b\b\b\b\b\b\b\b\b\b\b\b\b\b\b\b\b\b\b\b\b\b\b\b\b\b\b\b\b\b\b\b\b\b\b\b\b\b\b\b\b\b\b\b\b\b\b\b\b\b\b\b\b\b\b\b\b\b\b\b\b\b\b\b\b\b\b\b\b\b\b\b\b\b\b\b\b\b\b\b\b\b\b\b\b\b\b\b\b\b\b\b\b\b\b\b\b\b\b\b\b\b\b\b\b\b\b\b\b\b\b\b\b\b\b\b\b\b\b\b\b\b\b\b\b\b\b\b\b\b\b\b\b\b\b\b\b\b\b\b\b\b\b\b\b\b\b\b\b\b\b\b\b\b\b\b\b\b\b\b\b\b\b\b\b\b\b\b\b\b\b\b\b\b\b\b\b\b\b\b\b\b\b\b\b\b\b\b\b\b\b\b\b\b\b\b\b\b\b\b\b\b\b\b\b\b\b\b\b\b\b\b\b\b\b\b\b\b\b\b\b\b\b\b\b\b\b\b\b\b\b\b\b\b\b\b\b\b\b\b\b\b\b\b\b\b\b\b\b\b\b\b\b\b\b\b\b\b\b\b\b\b\b\b\b\b\b\b\b\b\b\b\b\b\b\b\b\b\b\b\b\b\b\b\b\b\b\b\b\b\b\b\b\b\b\b\b\b\b\b\b\b\b\b\b\b\b\b\b\b\b\b\b\b\b\b\b\b\b\b\b\b\b\b\b\b\b\b\b\b\b\b\b\b\b\b\b\b\b\b\b\b\b\b\b\b\b\b\b\b\b\b\b\b\b\b\b\b\b\b\b\b\b\b\b\b\b\b\b\b\b\b\b\b\b\b\b\b\b\b\b\b\b\b\b\b\b\b\b\b\b\b\b\b\b\b\b\b\b\b\b\b\b\b\b\b\b\b\b\b\b\b\b\b\b\b\b\b\b\b\b\b\b\b\b\b\b\b\b\b\b\b\b\b\b\b\b\b\b\b\b\b\b\b\b\b\b\b\b\b\b\b\b\b\b\b\b\b\b\b\b\b\b\b\b\b\b\b\b\b\b\b\b\b\b\b\b\b\b\b\b\b\b\b\b\b\b\b\b\b\b\b\b\b\b\b\b\b\b\b\b\b\b\b\b\b\b\b\b\b\b\b\b\b\b\b\b\b\b\b\b\b\b\b\b\b\b\b\b\b\b\b\b\b\b\b\b\b\b\b\b\b\b\b\b\b\b\b\b\b\b\b\b\b\b\b\b\b\b\b\b\b\b\b\b\b\b\b\b\b\b\b\b\b\b\b\b\b\b\b\b\b\b\b\b\b\b\b\b\b\b\b\b\b\b\b\b\b\b\b\b\b\b\b\b\b\b\b\b\b\b\b\b\b\b\b\b\b\b\b\b\b\b\b\b\b\b\b\b\b\b\b\b\b\b\b\b\b\b\b\b\b\b\b\b\b\b\b\b\b\b\b\b\b\b\b\b\b\b\b\b\b\b\b\b\b\b\b\b\b\b\b\b\b\b\b\b\b\b\b\b\b\b\b\b\b\b\b\b\b\b\b\b\b\b\b\b\b\b\b\b\b\b\b\b\b\b\b\b\b\b\b\b\b\b\b\b\b\b\b\b\b\b\b\b\b\b\b\b\b\b\b\b\b\b\b\b\b\b\b\b\b\b\b\b\b\b\b\b\b\b\b\b\b\b\b\b\b\b\b\b\b\b\b\b\b\b\b\b\b\b\n",
      "Epoch 2/2\n",
      "25000/25000 [==============================] - 15s - loss: 0.4022 - acc: 0.8327 - val_loss: 0.3566 - val_acc: 0.8530\b\b\b\b\b\b\b\b\b\b\b\b\b\b\b\b\b\b\b\b\b\b\b\b\b\b\b\b\b\b\b\b\b\b\b\b\b\b\b\b\b\b\b\b\b\b\b\b\b\b\b\b\b\b\b\b\b\b\b\b\b\b\b\b\b\b\b\b\b\b\b\b\b\b\b\b\b\b\b\b\b\b\b\b\b\b\b\b\b\b\b\b\b\b\b\b\b\b\b\b\b\b\b\b\b\b\b\b\b\b\b\b\b\b\b\b\b\b\b\b\b\b\b\b\b\b\b\b\b\b\b\b\b\b\b\b\b\b\b\b\b\b\b\b\b\b\b\b\b\b\b\b\b\b\b\b\b\b\b\b\b\b\b\b\b\b\b\b\b\b\b\b\b\b\b\b\b\b\b\b\b\b\b\b\b\b\b\b\b\b\b\b\b\b\b\b\b\b\b\b\b\b\b\b\b\b\b\b\b\b\b\b\b\b\b\b\b\b\b\b\b\b\b\b\b\b\b\b\b\b\b\b\b\b\b\b\b\b\b\b\b\b\b\b\b\b\b\b\b\b\b\b\b\b\b\b\b\b\b\b\b\b\b\b\b\b\b\b\b\b\b\b\b\b\b\b\b\b\b\b\b\b\b\b\b\b\b\b\b\b\b\b\b\b\b\b\b\b\b\b\b\b\b\b\b\b\b\b\b\b\b\b\b\b\b\b\b\b\b\b\b\b\b\b\b\b\b\b\b\b\b\b\b\b\b\b\b\b\b\b\b\b\b\b\b\b\b\b\b\b\b\b\b\b\b\b\b\b\b\b\b\b\b\b\b\b\b\b\b\b\b\b\b\b\b\b\b\b\b\b\b\b\b\b\b\b\b\b\b\b\b\b\b\b\b\b\b\b\b\b\b\b\b\b\b\b\b\b\b\b\b\b\b\b\b\b\b\b\b\b\b\b\b\b\b\b\b\b\b\b\b\b\b\b\b\b\b\b\b\b\b\b\b\b\b\b\b\b\b\b\b\b\b\b\b\b\b\b\b\b\b\b\b\b\b\b\b\b\b\b\b\b\b\b\b\b\b\b\b\b\b\b\b\b\b\b\b\b\b\b\b\b\b\b\b\b\b\b\b\b\b\b\b\b\b\b\b\b\b\b\b\b\b\b\b\b\b\b\b\b\b\b\b\b\b\b\b\b\b\b\b\b\b\b\b\b\b\b\b\b\b\b\b\b\b\b\b\b\b\b\b\b\b\b\b\b\b\b\b\b\b\b\b\b\b\b\b\b\b\b\b\b\b\b\b\b\b\b\b\b\b\b\b\b\b\b\b\b\b\b\b\b\b\b\b\b\b\b\b\b\b\b\b\b\b\b\b\b\b\b\b\b\b\b\b\b\b\b\b\b\b\b\b\b\b\b\b\b\b\b\b\b\b\b\b\b\b\b\b\b\b\b\b\b\b\b\b\b\b\b\b\b\b\b\b\b\b\b\b\b\b\b\b\b\b\b\b\b\b\b\b\b\b\b\b\b\b\b\b\b\b\b\b\b\b\b\b\b\b\b\b\b\b\b\b\b\b\b\b\b\b\b\b\b\b\b\b\b\b\b\b\b\b\b\b\b\b\b\b\b\b\b\b\b\b\b\b\b\b\b\b\b\b\b\b\b\b\b\b\b\b\b\b\b\b\b\b\b\b\b\b\b\b\b\b\b\b\b\b\b\b\b\b\b\b\b\b\b\b\b\b\b\b\b\b\b\b\b\b\b\b\b\b\b\b\b\b\b\b\b\b\b\b\b\b\b\b\b\b\b\b\b\b\b\b\b\b\b\b\b\b\b\b\b\b\b\b\b\b\b\b\b\b\b\b\b\b\b\b\b\b\b\b\b\b\b\b\b\b\b\b\b\b\b\b\b\b\b\b\b\b\b\b\b\b\b\b\b\b\b\b\b\b\b\b\b\b\b\b\b\b\b\b\b\b\b\b\b\b\b\b\b\b\b\b\b\b\b\b\b\b\b\b\b\b\b\b\b\b\b\b\b\b\b\b\b\b\b\b\b\b\b\b\b\b\b\b\b\b\b\b\b\b\b\b\b\b\b\b\b\b\b\b\b\b\b\b\b\b\b\b\b\b\b\b\b\b\b\b\b\b\b\b\b\b\b\b\b\b\b\b\b\b\b\b\b\b\b\b\b\b\b\b\b\b\b\b\b\b\b\b\b\b\b\b\b\b\b\b\b\b\b\b\b\b\b\b\b\b\b\b\b\b\b\b\b\b\b\b\b\b\b\b\b\b\b\b\b\b\b\b\b\b\b\b\b\b\b\b\b\b\b\b\b\b\b\b\b\b\b\b\b\b\b\b\b\b\b\b\b\b\b\b\b\b\b\b\b\b\b\b\b\b\b\b\b\b\b\b\b\b\b\b\b\b\b\b\b\b\b\b\b\b\b\b\b\b\b\b\b\b\b\b\b\b\b\b\b\b\b\b\b\b\b\b\b\b\b\b\b\b\b\b\b\b\b\b\b\b\b\b\b\b\b\b\b\b\b\b\b\b\b\b\b\b\b\b\b\b\b\b\b\b\b\b\b\b\b\b\b\b\b\b\b\b\b\b\b\b\b\b\b\b\b\b\b\b\b\b\b\b\b\b\b\b\b\b\b\b\b\b\b\b\b\b\b\b\b\b\b\b\b\b\b\b\b\b\b\b\b\b\b\b\b\b\b\b\b\b\b\b\b\b\b\b\b\b\b\b\b\b\b\b\b\b\b\b\b\b\b\b\b\b\b\b\b\b\b\b\b\b\b\b\b\b\b\b\b\b\b\b\b\b\b\b\b\b\b\b\b\b\b\b\b\b\b\b\b\b\b\b\b\b\b\b\b\b\b\b\b\b\b\b\b\b\b\b\b\b\b\b\b\b\b\b\b\b\b\b\b\b\b\b\b\b\b\b\b\b\b\b\b\b\b\b\b\b\b\b\b\b\b\b\b\b\b\b\b\b\b\b\b\b\b\b\b\b\b\b\b\b\b\b\b\b\b\b\b\b\b\b\b\b\b\b\b\b\b\b\b\b\b\b\b\b\b\b\b\b\b\b\b\b\b\b\b\b\b\b\b\b\b\b\b\b\b\b\b\b\b\b\b\b\b\b\b\b\b\b\b\b\b\b\b\b\b\b\b\b\b\b\b\b\b\b\b\b\b\b\b\b\b\b\b\b\b\b\b\b\b\b\b\b\b\b\b\b\b\b\b\b\b\b\b\b\b\b\b\b\b\b\b\b\b\b\b\b\b\b\b\b\b\b\b\b\b\b\b\b\b\b\b\b\b\b\b\b\b\b\b\b\b\b\b\b\b\b\b\b\b\b\b\b\b\b\b\b\b\b\b\b\b\b\b\b\b\b\b\b\b\b\b\b\b\b\b\b\b\b\b\b\b\b\b\b\b\b\b\b\b\b\b\b\b\b\b\b\b\b\b\b\b\b\b\b\b\b\b\b\b\b\b\b\b\b\b\b\b\b\b\b\b\b\b\b\b\b\b\b\b\b\b\b\b\b\b\b\b\b\b\b\b\b\b\b\b\b\b\b\b\b\b\b\b\b\b\b\b\b\b\b\b\b\b\b\b\b\b\b\b\b\b\b\b\b\b\b\b\b\b\b\b\b\b\b\b\b\b\b\b\b\b\b\b\b\b\b\b\b\b\b\b\b\b\b\b\b\b\b\b\b\b\b\b\b\b\b\b\b\b\b\b\b\b\b\b\b\b\b\b\b\b\b\b\b\b\b\b\b\b\b\b\b\b\b\b\b\b\b\b\b\b\b\b\b\b\b\b\b\b\b\b\b\b\b\b\b\b\b\b\b\b\b\b\b\b\b\b\b\b\b\b\b\b\b\b\b\b\b\b\b\b\b\b\b\b\b\b\b\b\b\b\b\b\b\b\b\b\b\b\b\b\b\b\b\b\b\b\b\b\b\b\b\b\b\b\b\b\b\b\b\b\b\b\b\b\b\b\b\b\b\b\b\b\b\b\b\b\b\b\b\b\b\b\b\b\b\b\b\b\b\b\b\b\b\b\b\b\b\b\b\b\b\b\b\b\b\b\b\b\b\b\b\b\b\b\b\b\b\b\b\b\b\b\b\b\b\b\b\b\b\b\b\b\b\b\b\b\b\b\b\b\b\b\b\b\b\b\b\b\b\b\b\b\b\b\b\b\b\b\b\b\b\b\b\b\b\b\b\b\b\b\b\b\b\b\b\b\b\b\b\b\b\b\b\b\b\b\b\b\b\b\b\b\b\b\b\b\b\b\b\b\b\b\b\b\b\b\b\b\b\b\b\b\b\b\b\b\b\b\b\b\b\b\b\b\b\b\b\b\b\b\b\b\b\b\b\b\b\b\b\b\b\b\b\b\b\b\b\b\b\b\b\b\b\b\b\b\b\b\b\b\b\b\b\b\b\b\b\b\b\b\b\b\b\b\b\b\b\b\b\b\b\b\b\b\b\b\b\b\b\b\b\b\b\b\b\b\b\b\b\b\b\b\b\b\b\b\b\b\b\b\b\b\b\b\b\b\b\b\b\b\b\b\b\b\b\b\b\b\b\b\b\b\b\b\b\b\b\b\b\b\b\b\b\b\b\b\b\b\b\b\b\b\b\b\b\b\b\b\b\b\b\b\b\b\b\b\b\b\b\b\b\b\b\b\b\b\b\b\b\b\b\b\b\b\b\b\b\b\b\b\b\b\b\b\b\b\b\b\b\b\b\b\b\b\b\b\b\b\b\b\b\b\b\b\b\b\b\b\b\b\b\b\b\b\b\b\b\b\b\b\b\b\b\b\b\b\b\b\b\b\b\b\b\b\b\b\b\b\b\b\b\b\b\b\b\b\b\b\b\b\b\b\b\b\b\b\b\b\b\b\b\b\b\b\b\b\b\b\b\b\b\b\b\b\b\b\b\b\b\b\b\b\b\b\b\b\b\b\b\b\b\b\b\b\b\b\b\b\b\b\b\b\b\b\b\b\b\b\b\b\b\b\b\b\b\b\b\b\b\b\b\b\b\b\b\b\b\b\b\b\b\b\b\b\b\b\b\b\b\b\b\b\b\b\b\b\b\b\b\b\b\b\b\b\b\b\b\b\b\b\b\b\b\b\b\b\b\b\b\b\b\b\b\b\b\b\b\b\b\b\b\b\b\b\b\b\b\b\b\b\b\b\b\b\b\b\b\b\b\b\b\b\b\b\b\b\b\b\b\b\b\b\b\b\b\b\b\b\b\b\b\b\b\b\b\b\b\b\b\b\b\b\b\b\b\b\b\b\b\b\b\b\b\b\b\b\b\b\b\b\b\b\b\b\b\b\b\b\b\b\b\b\b\b\b\b\b\b\b\b\b\b\b\b\b\b\b\b\b\b\b\b\b\b\b\b\b\b\b\b\b\b\b\b\b\b\b\b\b\b\b\b\b\b\b\b\b\b\b\b\b\b\b\b\b\b\b\b\b\b\b\b\b\b\b\b\b\b\b\b\b\b\b\b\b\b\b\b\b\b\b\b\b\b\b\b\b\b\b\b\b\b\b\b\b\b\b\b\b\b\b\b\b\b\b\b\b\b\b\b\b\b\b\b\b\b\b\b\b\b\b\b\b\b\b\b\b\b\b\b\b\b\b\b\b\b\b\b\b\b\b\b\b\b\b\b\b\b\b\b\b\b\b\b\b\b\b\b\b\b\b\b\b\b\b\b\b\b\b\b\b\b\b\b\b\b\b\b\b\b\b\b\b\b\b\b\b\b\b\b\b\b\b\b\b\b\b\b\b\b\b\b\b\b\b\b\b\b\b\b\b\b\b\b\b\b\b\b\b\b\b\b\b\b\b\b\b\b\b\b\b\b\b\b\b\b\b\b\b\b\b\b\b\b\b\b\b\b\b\b\b\b\b\b\b\b\b\b\b\b\b\b\b\b\b\b\b\b\b\b\b\b\b\b\b\b\b\b\b\b\b\b\b\b\b\b\b\b\b\b\b\b\b\b\b\b\b\b\b\b\b\b\b\b\b\b\b\b\b\b\b\b\b\b\b\b\b\b\b\b\b\b\b\b\b\b\b\b\b\b\b\b\b\b\b\b\b\b\b\b\b\b\b\b\b\b\b\b\b\b\b\b\b\b\b\b\b\b\b\b\b\b\b\b\b\b\b\b\b\b\b\b\b\b\b\b\b\b\b\b\b\b\b\b\b\b\b\b\b\b\b\b\b\b\b\b\b\b\b\b\b\b\b\b\b\b\b\b\b\b\b\b\b\b\b\b\b\b\b\b\b\b\b\b\b\b\b\b\b\b\b\b\b\b\b\b\b\b\b\b\b\b\b\b\b\b\b\b\b\b\b\b\b\b\b\b\b\b\b\b\b\b\b\b\b\b\b\b\b\b\b\b\b\b\b\b\b\b\b\b\b\b\b\b\b\b\b\b\b\b\b\b\b\b\b\b\b\b\b\b\b\b\b\b\b\b\b\b\b\b\b\b\b\b\b\b\b\b\b\b\b\b\b\b\b\b\b\b\b\b\b\b\b\b\b\b\b\b\b\b\b\b\b\b\b\b\b\b\b\b\b\b\b\b\b\b\b\b\b\b\b\b\b\b\b\b\b\b\b\b\b\b\b\b\b\b\b\b\b\b\b\b\b\b\b\b\b\b\b\b\b\b\b\b\b\b\b\b\b\b\b\b\b\b\b\b\b\b\b\b\b\b\b\b\b\b\b\b\b\b\b\b\b\b\b\b\b\b\b\b\b\b\b\b\b\b\b\b\b\b\b\b\b\b\b\b\b\b\b\b\b\b\b\b\b\b\b\b\b\b\b\b\b\b\b\b\b\b\b\b\b\b\b\b\b\b\b\b\b\b\b\b\b\b\b\b\b\b\b\b\b\b\b\b\b\b\b\b\b\b\b\b\b\b\b\b\b\b\b\b\b\b\b\b\b\b\b\b\b\b\b\b\b\b\b\b\b\b\b\b\b\b\b\b\b\b\b\b\b\b\b\b\b\b\b\b\b\b\b\b\b\b\b\b\b\b\b\b\b\b\b\b\b\b\b\b\b\b\b\b\b\b\b\b\b\b\b\b\b\b\b\b\b\b\b\b\b\b\b\b\b\b\b\b\b\b\b\b\b\b\b\b\b\b\b\b\b\b\b\b\b\b\b\b\b\b\b\b\b\b\b\b\b\b\b\b\b\b\b\b\b\b\b\b\b\b\b\b\b\b\b\b\b\b\b\b\b\b\b\b\b\b\b\b\b\b\b\b\b\b\b\b\b\b\b\b\b\b\b\b\b\b\b\b\b\b\b\b\b\b\b\b\b\b\b\b\b\b\b\b\b\b\b\b\b\b\b\b\b\b\b\b\b\b\b\b\b\b\b\b\b\b\b\b\b\b\b\b\b\b\b\b\b\b\b\b\b\b\b\b\b\b\b\b\b\b\b\b\b\b\b\b\b\b\b\b\b\b\b\b\b\b\b\b\b\b\b\b\b\b\b\b\b\b\b\b\b\b\b\b\b\b\b\b\b\b\b\b\b\b\b\b\b\b\b\b\b\b\b\b\b\b\b\b\b\b\b\b\b\b\b\b\b\b\b\b\b\b\b\b\b\b\b\b\b\b\b\b\b\b\b\b\b\b\b\b\b\b\b\b\b\b\b\b\b\b\b\b\b\b\b\b\b\b\b\b\b\b\b\b\b\b\b\b\b\b\b\b\b\b\b\b\b\b\b\b\b\b\b\b\b\b\b\b\b\b\b\b\b\b\b\b\b\b\b\b\b\b\b\b\b\b\b\b\b\b\b\b\b\b\b\b\b\b\b\b\b\b\b\b\b\b\b\b\b\b\b\b\b\b\b\b\b\b\b\b\b\b\b\b\b\b\b\b\b\b\b\b\b\b\b\b\b\b\b\b\b\b\b\b\b\b\b\b\b\b\b\b\b\b\b\b\b\b\b\b\b\b\b\b\b\b\b\b\b\b\b\b\b\b\b\b\b\b\b\b\b\b\b\b\b\b\b\b\b\b\b\b\b\b\b\b\b\b\b\b\b\b\b\b\b\b\b\b\b\b\b\b\b\b\b\b\b\b\b\b\b\b\b\b\b\b\b\b\b\b\b\b\b\b\b\b\b\b\b\b\b\b\b\b\b\b\b\b\b\b\b\b\b\b\b\b\b\b\b\b\b\b\b\b\b\b\b\b\b\b\b\b\b\b\b\b\b\b\b\b\b\b\b\b\b\b\b\b\b\b\b\b\b\b\b\b\b\b\b\b\b\b\b\b\b\b\b\b\b\b\b\b\b\b\b\b\b\b\b\b\b\b\b\b\b\b\b\b\b\b\b\b\b\b\b\b\b\b\b\b\b\b\b\b\b\b\b\b\b\b\b\b\b\b\b\b\b\b\b\b\b\b\b\b\b\b\b\b\b\b\b\b\b\b\b\b\b\b\b\b\b\b\b\b\b\b\b\b\b\b\b\b\b\b\b\b\b\b\b\b\b\b\b\b\b\b\b\b\b\b\b\b\b\b\b\b\b\b\b\b\b\b\b\b\b\b\b\b\b\b\b\b\b\b\b\b\b\b\b\b\b\b\b\b\b\b\b\b\b\b\b\b\b\b\b\b\b\b\b\b\b\b\b\b\b\b\b\b\b\b\b\b\b\b\b\b\b\b\b\b\b\b\b\b\b\b\b\b\b\b\b\b\b\b\b\b\b\b\b\b\b\b\b\b\b\b\b\b\b\b\b\b\b\b\b\b\b\b\b\b\b\b\b\b\b\b\b\b\b\b\b\b\b\b\b\b\b\b\b\b\b\b\b\b\b\b\b\b\b\b\b\b\b\b\b\b\b\b\b\b\b\b\b\b\b\b\b\b\b\b\b\b\b\b\b\b\b\b\b\b\b\b\b\b\b\b\b\b\b\b\b\b\b\b\b\b\b\b\b\b\b\b\b\b\b\b\b\b\b\b\b\b\b\b\b\b\b\b\b\b\b\b\b\b\b\b\b\b\b\b\b\b\b\b\b\b\b\b\b\b\b\b\b\b\b\b\b\b\b\b\b\b\b\b\b\b\b\b\b\b\b\b\b\b\b\b\b\b\b\b\b\b\b\b\b\b\b\b\b\b\b\b\b\b\b\b\b\b\b\b\b\b\b\b\b\b\b\b\b\b\b\b\b\b\b\b\b\b\b\b\b\b\b\b\b\b\b\b\b\b\b\b\b\b\b\b\b\b\b\b\b\b\b\b\b\b\b\b\b\b\b\b\b\b\b\b\b\b\b\b\b\b\b\b\b\b\b\b\b\b\b\b\b\b\b\b\b\b\b\b\b\b\b\b\b\b\b\b\b\b\b\b\b\b\b\b\b\b\b\b\b\b\b\b\b\b\b\b\b\b\b\b\b\b\b\b\b\b\b\b\b\b\b\b\b\b\b\b\b\b\b\b\b\b\b\b\b\b\b\b\b\b\b\b\b\b\b\b\b\b\b\b\b\b\b\b\b\b\b\b\b\b\b\b\b\b\b\b\b\b\b\b\b\b\b\b\b\b\b\b\b\b\b\b\b\b\b\b\b\b\b\b\b\b\b\b\b\b\b\b\b\b\b\b\b\b\b\b\b\b\b\b\b\b\b\b\b\b\b\b\b\b\b\b\b\b\b\b\b\b\b\b\b\b\b\b\b\b\b\b\b\b\b\b\b\b\b\b\b\b\b\b\b\b\b\b\b\b\b\b\b\b\b\b\b\b\b\b\b\b\b\b\b\b\b\b\b\b\b\b\b\b\b\b\b\b\b\b\b\b\b\b\b\b\b\b\b\b\b\b\b\b\b\b\b\b\b\b\b\b\b\b\b\b\b\b\b\b\b\b\b\b\b\b\b\b\b\b\b\b\b\b\b\b\b\b\b\b\b\b\b\b\b\b\b\b\b\b\b\b\b\b\b\b\b\b\b\b\b\b\b\b\b\b\b\b\b\b\b\b\b\b\b\b\b\b\b\b\b\b\b\b\b\b\b\b\b\b\b\b\b\b\b\b\b\b\b\b\b\b\b\b\b\b\b\b\b\b\b\b\b\b\b\b\b\b\b\b\b\b\b\b\b\b\b\b\b\b\b\b\b\b\b\b\b\b\b\b\b\b\b\b\b\b\b\b\b\b\b\b\b\b\b\b\b\b\b\b\b\b\b\b\b\b\b\b\b\b\b\b\b\b\b\b\b\b\b\b\b\b\b\b\b\b\b\b\b\b\b\b\b\b\b\b\b\b\b\b\b\b\b\b\b\b\b\b\b\b\b\b\b\b\b\b\b\b\b\b\b\b\b\b\b\b\b\b\b\b\b\b\b\b\b\b\b\b\b\b\b\b\b\b\b\b\b\b\b\b\b\b\b\b\b\b\b\b\b\b\b\b\b\b\b\b\b\b\b\b\b\b\b\b\b\b\b\b\b\b\b\b\b\b\b\b\b\b\b\b\b\b\b\b\b\b\b\b\b\b\b\b\b\b\b\b\b\b\b\b\b\b\b\b\b\b\b\b\b\b\b\b\b\b\b\b\b\b\b\b\b\b\b\b\b\b\b\b\b\b\b\b\b\b\b\b\b\b\b\b\b\b\b\b\b\b\b\b\b\b\b\b\b\b\b\b\b\b\b\b\b\b\b\b\b\b\b\b\b\b\b\b\b\b\b\b\b\b\b\b\b\b\b\b\b\b\b\b\b\b\b\b\b\b\b\b\b\b\b\b\b\b\b\b\b\b\b\b\b\b\b\b\b\b\b\b\b\b\b\b\b\b\b\b\b\b\b\b\b\b\b\b\b\b\b\b\b\b\b\b\b\b\b\b\b\b\b\b\b\b\b\b\b\b\b\b\b\b\b\b\b\b\b\b\b\b\b\b\b\b\b\b\b\b\b\b\b\b\b\b\b\b\b\b\b\b\b\b\b\b\b\b\b\b\b\b\b\b\b\b\b\b\b\b\b\b\b\b\b\b\b\b\b\b\b\b\b\b\b\b\b\b\b\b\b\b\b\b\b\b\b\b\b\b\b\b\b\b\b\b\b\b\b\b\b\b\b\b\b\b\b\b\b\b\b\b\b\b\b\b\b\b\b\b\b\b\b\b\b\b\b\b\b\b\b\b\b\b\b\b\b\b\b\b\b\b\b\b\b\b\b\b\b\b\b\b\b\b\b\b\b\b\b\b\b\b\b\b\b\b\b\b\b\b\b\b\b\b\b\b\b\b\b\b\b\b\b\b\b\b\b\b\b\b\b\b\b\b\b\b\b\b\b\b\b\b\b\b\b\b\b\b\b\b\b\b\b\b\b\b\b\b\b\b\b\b\b\b\b\b\b\b\b\b\b\b\b\b\b\b\b\b\b\b\b\b\b\b\b\b\b\b\b\b\b\b\b\b\b\b\b\b\b\b\b\b\b\b\b\b\b\b\b\b\b\b\b\b\b\b\b\b\b\b\b\b\b\b\b\b\b\b\b\b\b\b\b\b\b\b\b\b\b\b\b\b\b\b\b\b\b\b\b\b\b\b\b\b\b\b\b\b\b\b\b\b\b\b\b\b\b\b\b\b\b\b\b\b\b\b\b\b\b\b\b\b\b\b\b\b\b\b\b\b\b\b\b\b\b\b\b\b\b\b\b\b\b\b\b\b\b\b\b\b\b\b\b\b\b\b\b\b\b\b\b\b\b\b\b\b\b\b\b\b\b\b\b\b\b\b\b\b\b\b\b\b\b\b\b\b\b\b\b\b\b\b\b\b\b\b\b\b\b\b\b\b\b\b\b\b\b\b\b\b\b\b\b\b\b\b\b\b\b\b\b\b\b\b\b\b\b\b\b\b\b\b\b\b\b\b\b\b\b\b\b\b\b\b\b\b\b\b\b\b\b\b\b\b\b\b\b\b\b\b\b\b\b\b\b\b\b\b\b\b\b\b\b\b\b\b\b\b\b\b\b\b\b\b\b\b\b\b\b\b\b\b\b\b\b\b\b\b\b\b\b\b\b\b\b\b\b\b\b\b\b\b\b\b\b\b\b\b\b\b\b\b\b\b\b\b\b\b\b\b\b\b\b\b\b\b\b\b\b\b\b\b\b\b\b\b\b\b\b\b\b\b\b\b\b\b\b\b\b\b\b\b\b\b\b\b\b\b\b\b\b\b\b\b\b\b\b\b\b\b\b\b\b\b\b\b\b\b\b\b\b\b\b\b\b\b\b\b\b\b\b\b\b\b\b\b\b\b\b\b\b\b\b\b\b\b\b\b\b\b\b\b\b\b\b\b\b\b\b\b\b\b\b\b\b\b\b\b\b\b\b\b\b\b\b\b\b\b\b\b\b\b\b\b\b\b\b\b\b\b\b\b\b\b\b\b\b\b\b\b\b\b\b\b\b\b\b\b\b\b\b\b\b\b\b\b\b\b\b\b\b\b\b\b\b\b\b\b\b\b\b\b\b\b\b\b\b\b\b\b\b\b\b\b\b\b\b\b\b\b\b\b\b\b\b\b\b\b\b\b\b\b\b\b\b\b\b\b\b\b\b\b\b\b\b\b\b\b\b\b\b\b\b\b\b\b\b\b\b\b\b\b\b\b\b\b\b\b\b\b\b\b\b\b\b\b\b\b\b\b\b\b\b\b\b\b\b\b\b\b\b\b\b\b\b\b\b\b\b\b\b\b\b\b\b\b\b\b\b\b\b\b\b\b\b\b\b\b\b\b\b\b\b\b\b\b\b\b\b\b\b\b\b\b\b\b\b\b\b\b\b\b\b\b\b\b\b\b\b\b\b\b\b\b\b\b\b\b\b\b\b\b\b\b\b\b\b\b\b\b\b\b\b\b\b\b\b\b\b\b\b\b\b\b\b\b\b\b\b\b\b\b\b\b\b\b\b\b\b\b\b\b\b\b\b\b\b\b\b\b\b\b\b\b\b\b\b\b\b\b\b\b\b\b\b\b\b\b\b\b\b\b\b\b\b\b\b\b\b\b\b\b\b\b\b\b\b\b\b\b\b\b\b\b\b\b\b\b\b\b\b\b\b\b\b\b\b\b\b\b\b\b\b\b\b\b\b\b\b\b\b\b\b\b\b\b\b\b\b\b\b\b\b\b\b\b\b\b\b\b\b\b\b\b\b\b\b\b\b\b\b\b\b\b\b\b\b\b\b\b\b\b\b\b\b\b\b\b\b\b\b\b\b\b\b\b\b\b\b\b\b\b\b\b\b\b\b\b\b\b\b\b\b\b\b\b\b\b\b\b\b\b\b\b\b\b\b\b\b\b\b\b\b\b\b\b\b\b\b\b\b\b\b\b\b\b\b\b\b\b\b\b\b\b\b\b\b\b\b\b\b\b\b\b\b\b\b\b\b\b\b\b\b\b\b\b\b\b\b\b\b\b\b\b\b\b\b\b\b\b\b\b\b\b\b\b\b\b\b\b\b\b\b\b\b\b\b\b\b\b\b\b\b\b\b\b\b\b\b\b\b\b\b\b\b\b\b\b\b\b\b\b\b\b\b\b\b\b\b\b\b\b\b\b\b\b\b\b\b\b\b\b\b\b\b\b\b\b\b\b\b\b\b\b\b\b\b\b\b\b\b\b\b\b\b\b\b\b\b\b\b\b\b\b\b\b\b\b\b\b\b\b\b\b\b\b\b\b\b\b\b\b\b\b\b\b\b\b\b\b\b\b\b\b\b\b\b\b\b\b\b\b\b\b\b\b\b\b\b\b\b\b\b\b\b\b\b\b\b\b\b\b\b\b\b\b\b\b\b\b\b\b\b\b\b\b\b\b\b\b\b\b\b\b\b\b\b\b\b\b\b\b\b\b\b\b\b\b\b\b\b\b\b\b\b\b\b\b\b\b\b\b\b\b\b\b\b\b\b\b\b\b\b\b\b\b\b\b\b\b\b\b\b\b\b\b\b\b\b\b\b\b\b\b\b\b\b\b\b\b\b\b\b\b\b\b\b\b\b\b\b\b\b\b\b\b\b\b\b\b\b\b\b\b\b\b\b\b\b\b\b\b\b\b\b\b\b\b\b\b\b\b\b\b\b\b\b\b\b\b\b\b\b\b\b\b\b\b\b\b\b\b\b\b\b\b\b\b\b\b\b\b\b\b\b\b\b\b\b\b\b\b\b\b\b\b\b\b\b\b\b\b\b\b\b\b\b\b\b\b\b\b\b\b\b\b\b\b\b\b\b\b\b\b\b\b\b\b\b\b\b\b\b\b\b\b\b\b\b\b\b\b\b\b\b\b\b\b\b\b\b\b\b\b\b\b\b\b\b\b\b\b\b\b\b\b\b\b\b\b\b\b\b\b\b\b\b\b\b\b\b\b\b\b\b\b\b\b\b\b\b\b\b\b\b\b\b\b\b\b\b\b\b\b\b\b\b\b\b\b\b\b\b\b\b\b\b\b\b\b\b\b\b\b\b\b\b\b\b\b\b\b\b\b\b\b\b\b\b\b\b\b\b\b\b\b\b\b\b\b\b\b\b\b\b\b\b\b\b\b\b\b\b\b\b\b\b\b\b\b\b\b\b\b\b\b\b\b\b\b\b\b\b\b\b\b\b\b\b\b\b\b\b\b\b\b\b\b\b\b\b\b\b\b\b\b\b\b\b\b\b\b\b\b\b\b\b\b\b\b\b\b\b\b\b\b\b\b\b\b\b\b\b\b\b\b\b\b\b\b\b\b\b\b\b\b\b\b\b\b\b\b\b\b\b\b\b\b\b\b\b\b\b\b\b\b\b\b\b\b\b\b\b\b\b\b\b\b\b\b\b\b\b\b\b\b\b\b\b\b\b\b\b\b\b\b\b\b\b\b\b\b\b\b\b\b\b\b\b\b\b\b\b\b\b\b\b\b\b\b\b\b\b\b\b\b\b\b\b\b\b\b\b\b\b\b\b\b\b\b\b\b\b\b\b\b\b\b\b\b\b\b\b\b\b\b\b\b\b\b\b\b\b\b\b\b\b\b\b\b\b\b\b\b\b\b\b\b\b\b\b\b\b\b\b\b\b\b\b\b\b\b\b\b\b\b\b\b\b\b\b\b\b\b\b\b\b\b\b\b\b\b\b\b\b\b\b\b\b\b\b\b\b\b\b\b\b\b\b\b\b\b\b\b\b\b\b\b\b\b\b\b\b\b\b\b\b\b\b\b\b\b\b\b\b\b\b\b\b\b\b\b\b\b\b\b\b\b\b\b\b\b\b\b\b\b\b\b\b\b\b\b\b\b\b\b\b\b\b\b\b\b\b\b\b\b\b\b\b\b\b\b\b\b\b\b\b\b\b\b\b\b\b\b\b\b\b\b\b\b\b\b\b\b\b\b\b\b\b\b\b\b\b\b\b\b\b\b\b\b\b\b\b\b\b\b\b\b\b\b\b\b\b\b\b\b\b\b\b\b\b\b\b\b\b\b\b\b\b\b\b\b\b\b\b\b\b\b\b\b\b\b\b\b\b\b\b\b\b\b\b\b\b\b\b\b\b\b\b\b\b\b\b\b\b\b\b\b\b\b\b\b\b\b\b\b\b\b\b\b\b\b\b\b\b\b\b\b\b\b\b\b\b\b\b\b\b\b\b\b\b\b\b\b\b\b\b\b\b\b\b\b\b\b\b\b\b\b\b\b\b\b\b\b\b\b\b\b\b\b\b\b\b\b\b\b\b\b\b\b\b\b\b\b\b\b\b\b\b\b\b\b\b\b\b\b\b\b\b\b\b\b\b\b\b\b\b\b\b\b\b\b\b\b\b\b\b\b\b\b\b\b\b\b\b\b\b\b\b\b\b\b\b\b\b\b\b\b\b\b\b\b\b\b\b\b\b\b\b\b\b\b\b\b\b\b\b\b\b\b\b\b\b\b\b\b\b\b\b\b\b\b\b\b\b\b\b\b\b\b\b\b\b\b\b\b\b\b\b\b\b\b\b\b\b\b\b\b\b\b\b\b\b\b\b\b\b\b\b\b\b\b\b\b\b\b\b\b\b\b\b\b\b\b\b\b\b\b\b\b\b\b\b\b\b\b\b\b\b\b\b\b\b\b\b\b\b\b\b\b\b\b\b\b\b\b\b\b\b\b\b\b\b\b\b\b\b\b\b\b\b\b\b\b\b\b\b\b\b\b\b\b\b\b\b\b\b\b\b\b\b\b\b\b\b\b\b\b\b\b\b\b\b\b\b\b\b\b\b\b\b\b\b\b\b\b\b\b\b\b\b\b\b\b\b\b\b\b\b\b\b\b\b\b\b\b\b\b\b\b\b\b\b\b\b\b\b\b\b\b\b\b\b\b\b\b\b\b\b\b\b\b\b\b\b\b\b\b\b\b\b\b\b\b\b\b\b\b\b\b\b\b\b\b\b\b\b\b\b\b\b\b\b\b\b\b\b\b\b\b\b\b\b\b\b\b\b\b\b\b\b\b\b\b\b\b\b\b\b\b\b\b\b\b\b\b\b\b\b\b\b\b\b\b\b\b\b\b\b\b\b\b\b\b\b\b\b\b\b\b\b\b\b\b\b\b\b\b\b\b\b\b\b\b\b\b\b\b\b\b\b\b\b\b\b\b\b\b\b\b\b\b\b\b\b\b\b\b\b\b\b\b\b\b\b\b\b\b\b\b\b\b\b\b\b\b\b\b\b\b\b\b\b\b\b\b\b\b\b\b\b\b\b\b\b\b\b\b\b\b\b\b\b\b\b\b\b\b\b\b\b\b\b\b\b\b\b\b\b\b\b\b\b\b\b\b\b\b\b\b\b\b\b\b\b\b\b\b\b\b\b\b\b\b\b\b\b\b\b\b\b\b\b\b\b\b\b\b\b\b\b\b\b\b\b\b\b\b\b\b\b\b\b\b\b\b\b\b\b\b\b\b\b\b\b\b\b\b\b\b\b\b\b\b\b\b\b\b\b\b\b\b\b\b\b\b\b\b\b\b\b\b\b\b\b\b\b\b\b\b\b\b\b\b\b\b\b\b\b\b\b\b\b\b\b\b\b\b\b\b\b\b\b\b\b\b\b\b\b\b\b\b\b\b\b\b\b\b\b\b\b\b\b\b\b\b\b\b\b\b\b\b\b\b\b\b\b\b\b\b\b\b\b\b\b\b\b\b\b\b\b\b\b\b\b\b\b\b\b\b\b\b\b\b\b\b\b\b\b\b\b\b\b\b\b\b\b\b\b\b\b\b\b\b\b\b\b\b\b\b\b\b\b\b\b\b\b\b\b\b\b\b\b\b\b\b\b\b\b\b\b\b\b\b\b\b\b\b\b\b\b\b\b\b\b\b\b\b\b\b\b\b\b\b\b\b\b\b\b\b\b\b\b\b\b\b\b\b\b\b\b\b\b\b\b\b\b\b\b\b\b\b\b\b\b\b\b\b\b\b\b\b\b\b\b\b\b\b\b\b\b\b\b\b\b\b\b\b\b\b\b\b\b\b\b\b\b\b\b\b\b\b\b\b\b\b\b\b\b\b\b\b\b\b\b\b\b\b\b\b\b\b\b\b\b\b\b\b\b\b\b\b\b\b\b\b\b\b\b\b\b\b\b\b\b\b\b\b\b\b\b\b\b\b\b\b\b\b\b\b\b\b\b\b\b\b\b\b\b\b\b\b\b\b\b\b\b\b\b\b\b\b\b\b\b\b\b\b\b\b\b\b\b\b\b\b\b\b\b\b\b\b\b\b\b\b\b\b\b\b\b\b\b\b\b\b\b\b\b\b\b\b\b\b\b\b\b\b\b\b\b\b\b\b\b\b\b\b\b\b\b\b\b\b\b\b\b\b\b\b\b\b\b\b\b\b\b\b\b\b\b\b\b\b\b\b\b\b\b\b\b\b\b\b\b\b\b\b\b\b\b\b\b\b\b\b\b\b\b\b\b\b\b\b\b\b\b\b\b\b\b\b\b\b\b\b\b\b\b\b\b\b\b\b\b\b\b\b\b\b\b\b\b\b\b\b\b\b\b\b\b\b\b\b\b\b\b\b\b\b\b\b\b\b\b\b\b\b\b\b\b\b\b\b\b\b\b\b\b\b\b\b\b\b\b\b\b\b\b\b\b\b\b\b\b\b\b\b\b\b\b\b\b\b\b\b\b\b\b\b\b\b\b\b\b\b\b\b\b\b\b\b\b\b\b\b\b\b\b\b\b\b\b\b\b\b\b\b\b\b\b\b\b\b\b\b\b\b\b\b\b\b\b\b\b\b\b\b\b\b\b\b\b\b\b\b\b\b\b\b\b\b\b\b\b\b\b\b\b\b\b\b\b\b\b\b\b\b\b\b\b\b\b\b\b\b\b\b\b\b\b\b\b\b\b\b\b\b\b\b\b\b\b\b\b\b\b\b\b\b\b\b\b\b\b\b\b\b\b\b\b\b\b\b\b\b\b\b\b\b\b\b\b\b\b\b\b\b\b\b\b\b\b\b\b\b\b\b\b\b\b\b\b\b\b\b\b\b\b\b\b\b\b\b\b\b\b\b\b\b\b\b\b\b\b\b\b\b\b\b\b\b\b\b\b\b\b\b\b\b\b\b\b\b\b\b\b\b\b\b\b\b\b\b\b\b\b\b\b\b\b\b\b\b\b\b\b\b\b\b\b\b\b\b\b\b\b\b\b\b\b\b\b\b\b\b\b\b\b\b\b\b\b\b\b\b\b\b\b\b\b\b\b\b\b\b\b\b\b\b\b\b\b\b\b\b\b\b\b\b\b\b\b\b\b\b\b\b\b\b\b\b\b\b\b\b\b\b\b\b\b\b\b\b\b\b\b\b\b\b\b\b\b\b\b\b\b\b\b\b\b\b\b\b\b\b\b\b\b\b\b\b\b\b\b\b\b\b\b\b\b\b\b\b\b\b\b\b\b\b\b\b\b\b\b\b\b\b\b\b\b\b\b\b\b\b\b\b\b\b\b\b\b\b\b\b\b\b\b\b\b\b\b\b\b\b\b\b\b\b\b\b\b\b\b\b\b\b\b\b\b\b\b\b\b\b\b\b\b\b\b\b\b\b\b\b\b\b\b\b\b\b\b\b\b\b\b\b\b\b\b\b\b\b\b\b\b\b\b\b\b\b\b\b\b\b\b\b\b\b\b\b\b\b\b\b\b\b\b\b\b\b\b\b\b\b\b\b\b\b\b\b\b\b\b\b\b\b\b\b\b\b\b\b\b\b\b\b\b\b\b\b\b\b\b\b\b\b\b\b\b\b\b\b\b\b\b\b\b\b\b\b\b\b\b\b\b\b\b\b\b\b\b\b\b\b\b\b\b\b\b\b\b\b\b\b\b\b\b\b\b\b\b\b\b\b\b\b\b\b\b\b\b\b\b\b\b\b\b\b\b\b\b\b\b\b\b\b\b\b\b\b\b\b\b\b\b\b\b\b\b\b\b\b\b\b\b\b\b\b\b\b\b\b\b\b\b\b\b\b\b\b\b\b\b\b\b\b\b\b\b\b\b\b\b\b\b\b\b\b\b\b\b\b\b\b\b\b\b\b\b\b\b\b\b\b\b\b\b\b\b\b\b\b\b\b\b\b\b\b\b\b\b\b\b\b\b\b\b\b\b\b\b\b\b\b\b\b\b\b\b\b\b\b\b\b\b\b\b\b\b\b\b\b\b\b\b\b\b\b\b\b\b\b\b\b\b\b\b\b\b\b\b\b\b\b\b\b\b\b\b\b\b\b\b\b\b\b\b\b\b\b\b\b\b\b\b\b\b\b\b\b\b\b\b\b\b\b\b\b\b\b\b\b\b\b\b\b\b\b\b\b\b\b\b\b\b\b\b\b\b\b\b\b\b\b\b\b\b\b\b\b\b\b\b\b\b\b\b\b\b\b\b\b\b\b\b\b\b\b\b\b\b\b\b\b\b\b\b\b\b\b\b\b\b\b\b\b\b\b\b\b\b\b\b\b\b\b\b\b\b\b\b\b\b\b\b\b\b\b\b\b\b\b\b\b\b\b\b\b\b\b\b\b\b\b\b\b\b\b\b\b\b\b\b\b\b\b\b\b\b\b\b\b\b\b\b\b\b\b\b\b\b\b\b\b\b\b\b\b\b\b\b\b\b\b\b\b\b\b\b\b\b\b\b\b\b\b\b\b\b\b\b\b\b\b\b\b\b\b\b\b\b\b\b\b\b\b\b\b\b\b\b\b\b\b\b\b\b\b\b\b\b\b\b\b\b\b\b\b\b\b\b\b\b\b\b\b\b\b\b\b\b\b\b\b\b\b\b\b\b\b\b\b\b\b\b\b\b\b\b\b\b\b\b\b\b\b\b\b\b\b\b\b\b\b\b\b\b\b\b\b\b\b\b\b\b\b\b\b\b\b\b\b\b\b\b\b\b\b\b\b\b\b\b\b\b\b\b\b\b\b\b\b\b\b\b\b\b\b\b\b\b\b\b\b\b\b\b\b\b\b\b\b\b\b\b\b\b\b\b\b\b\b\b\b\b\b\b\b\b\b\b\b\b\b\b\b\b\b\b\b\b\b\b\b\b\b\b\b\b\b\b\b\b\b\b\b\b\b\b\b\b\b\b\b\b\b\b\b\b\b\b\b\b\b\b\b\b\b\b\b\b\b\b\b\b\b\b\b\b\b\b\b\b\b\b\b\b\b\b\b\b\b\b\b\b\b\b\b\b\b\b\b\b\b\b\b\b\b\b\b\b\b\b\b\b\b\b\b\b\b\b\b\b\b\b\b\b\b\b\b\b\b\b\b\b\b\b\b\b\b\b\b\b\b\b\b\b\b\b\b\b\b\b\b\b\b\b\b\b\b\b\b\b\b\b\b\b\b\b\b\b\b\b\b\b\b\b\b\b\b\b\b\b\b\b\b\b\b\b\b\b\b\b\b\b\b\b\b\b\b\b\b\b\b\b\b\b\b\b\b\b\b\b\b\b\b\b\b\b\b\b\b\b\b\b\b\b\b\b\b\b\b\b\b\b\b\b\b\b\b\b\b\b\b\b\b\b\b\b\b\b\b\b\b\b\b\b\b\b\b\b\b\b\b\b\b\b\b\b\b\b\b\b\b\b\b\b\b\b\b\b\b\b\b\b\b\b\b\b\b\b\b\b\b\b\b\b\b\b\b\b\b\b\b\b\b\b\b\b\b\b\b\b\b\b\b\b\b\b\b\b\b\b\b\b\b\b\b\b\b\b\b\b\b\b\b\b\b\b\b\b\b\b\b\b\b\b\b\b\b\b\b\b\b\b\b\b\b\b\b\b\b\b\b\b\b\b\b\b\b\b\b\b\b\b\b\b\b\b\b\b\b\b\b\b\b\b\b\b\b\b\b\b\b\b\b\b\b\b\b\b\b\b\b\b\b\b\b\b\b\b\b\b\b\b\b\b\b\b\b\b\b\b\b\b\b\b\b\b\b\b\b\b\b\b\b\b\b\b\b\b\b\b\b\b\b\b\b\b\b\b\b\b\b\b\b\b\b\b\b\b\b\b\b\b\b\b\b\b\b\b\b\b\b\b\b\b\b\b\b\b\b\b\b\b\b\b\b\b\b\b\b\b\b\b\b\b\b\b\b\b\b\b\b\b\b\b\b\b\b\b\b\b\b\b\b\b\b\b\b\b\b\b\b\b\b\b\b\b\b\b\b\b\b\b\b\b\b\b\b\b\b\b\b\b\b\b\b\b\b\b\b\b\b\b\b\b\b\b\b\b\b\b\b\b\b\b\b\b\b\b\b\b\b\b\b\b\b\b\b\b\b\b\b\b\b\b\b\b\b\b\b\b\b\b\b\b\b\b\b\b\b\b\b\b\b\b\b\b\b\b\b\b\b\b\b\b\b\b\b\b\b\b\b\b\b\b\b\b\b\b\b\b\b\b\b\b\b\b\b\b\b\b\b\b\b\b\b\b\b\b\b\b\b\b\b\b\b\b\b\b\b\b\b\b\b\b\b\b\b\b\b\b\b\b\b\b\b\b\b\b\b\b\b\b\b\b\b\b\b\b\b\b\b\b\b\b\b\b\b\b\b\b\b\b\b\b\b\b\b\b\b\b\b\b\b\b\b\b\b\b\b\b\b\b\b\b\b\b\b\b\b\b\b\b\b\b\b\b\b\b\b\b\b\b\b\b\b\b\b\b\b\b\b\b\b\b\b\b\b\b\b\b\b\b\b\b\b\b\b\b\b\b\b\b\b\b\b\b\b\b\b\b\b\b\b\b\b\b\b\b\b\b\b\b\b\b\b\b\b\b\b\b\b\b\b\b\b\b\b\b\b\b\b\b\b\b\b\b\b\b\b\b\b\b\b\b\b\b\b\b\b\b\b\b\b\b\b\b\b\b\b\b\b\b\b\b\b\b\b\b\b\b\b\b\b\b\b\b\b\b\b\b\b\b\b\b\b\b\b\b\b\b\b\b\b\b\b\b\b\b\b\b\b\b\b\b\b\b\b\b\b\b\b\b\b\b\b\b\b\b\b\b\b\b\b\b\b\b\b\b\b\b\b\b\b\b\b\b\b\b\b\b\b\b\b\b\b\b\b\b\b\b\b\b\b\b\b\b\b\b\b\b\b\b\b\b\b\b\b\b\b\b\b\b\b\b\b\b\b\b\b\b\b\b\b\b\b\b\b\b\b\b\b\b\b\b\b\b\b\b\b\b\b\b\b\b\b\b\b\b\b\b\b\b\b\b\b\b\b\b\b\b\b\b\b\b\b\b\b\b\b\b\b\b\b\b\b\b\b\b\b\b\b\b\b\b\b\b\b\b\b\b\b\b\b\b\b\b\b\b\b\b\b\b\b\b\b\b\b\b\b\b\b\b\b\b\b\b\b\b\b\b\b\b\b\b\b\b\b\b\b\b\b\b\b\b\b\b\b\b\b\b\b\b\b\b\b\b\b\b\b\b\b\b\b\b\b\b\b\b\b\b\b\b\b\b\b\b\b\b\b\b\b\b\b\b\b\b\b\b\b\b\b\b\b\b\b\b\b\b\b\b\b\b\b\b\b\b\b\b\b\b\b\b\b\b\b\b\b\b\b\b\b\b\b\b\b\b\b\b\b\b\b\b\b\b\b\b\b\b\b\b\b\b\b\b\b\b\b\b\b\b\b\b\b\b\b\b\b\b\b\b\b\b\b\b\b\b\b\b\b\b\b\b\b\b\b\b\b\b\b\b\b\b\b\b\b\b\b\b\b\b\b\b\b\b\b\b\b\b\b\b\b\b\b\b\b\b\b\b\b\b\b\b\b\b\b\b\b\b\b\b\b\b\b\b\b\b\b\b\b\b\b\b\b\b\b\b\b\b\b\b\b\b\b\b\b\b\b\b\b\b\b\b\b\b\b\b\b\b\b\b\b\b\b\b\b\b\b\b\b\b\b\b\b\b\b\b\b\b\b\b\b\b\b\b\b\b\b\b\b\b\b\b\b\b\b\b\b\b\b\b\b\b\b\b\b\b\b\b\b\b\b\b\b\b\b\b\b\b\b\b\b\b\b\b\b\b\b\b\b\b\b\b\b\b\b\b\b\b\b\b\b\b\b\b\b\b\b\b\b\b\b\b\b\b\b\b\b\b\b\b\b\b\b\b\b\b\b\b\b\b\b\b\b\b\b\b\b\b\b\b\b\b\b\b\b\b\b\b\b\b\b\b\b\b\b\b\b\b\b\b\b\b\b\b\b\b\b\b\b\b\b\b\b\b\b\b\b\b\b\b\b\b\b\b\b\b\b\b\b\b\b\b\b\b\b\b\b\b\b\b\b\b\b\b\b\b\b\b\b\b\b\b\b\b\b\b\b\b\b\b\b\b\b\b\b\b\b\b\b\b\b\b\b\b\b\b\b\b\b\b\b\b\b\b\b\b\b\b\b\b\b\b\b\b\b\b\b\b\b\b\b\b\b\b\b\b\b\b\b\b\b\b\b\b\b\b\b\b\b\b\b\b\b\b\b\b\b\b\b\b\b\b\b\b\b\b\b\b\b\b\b\b\b\b\b\b\b\b\b\b\b\b\b\b\b\b\b\b\b\b\b\b\b\b\b\b\b\b\b\b\b\b\b\b\b\b\b\b\b\b\b\b\b\b\b\b\b\b\b\b\b\b\b\b\b\b\b\b\b\b\b\b\b\b\b\b\b\b\b\b\b\b\b\b\b\b\b\b\b\b\b\b\b\b\b\b\b\b\b\b\b\b\b\b\b\b\b\b\b\b\b\b\b\b\b\b\b\b\b\b\b\b\b\b\b\b\b\b\b\b\b\b\b\b\b\b\b\b\b\b\b\b\b\b\b\b\b\b\b\b\b\b\b\b\b\b\b\b\b\b\b\b\b\b\b\b\b\b\b\b\b\b\b\b\b\b\b\b\b\b\b\b\b\b\b\b\b\b\b\b\b\b\b\b\b\b\b\b\b\b\b\b\b\b\b\b\b\b\b\b\b\b\b\b\b\b\b\b\b\b\b\b\b\b\b\b\b\b\b\b\b\b\b\b\b\b\b\b\b\b\b\b\b\b\b\b\b\b\b\b\b\b\b\b\b\b\b\b\b\b\b\b\b\b\b\b\b\b\b\b\b\b\b\b\b\b\b\b\b\b\b\b\b\b\b\b\b\b\b\b\b\b\b\b\b\b\b\b\b\b\b\b\b\b\b\b\b\b\b\b\b\b\b\b\b\b\b\b\b\b\b\b\b\b\b\b\b\b\b\b\b\b\b\b\b\b\b\b\b\b\b\b\b\b\b\b\b\b\b\b\b\b\b\b\b\b\b\b\b\b\b\b\b\b\b\b\b\b\b\b\b\b\b\b\b\b\b\b\b\b\b\b\b\b\b\b\b\b\b\b\b\b\b\b\b\b\b\b\b\b\b\b\b\b\b\b\b\b\b\b\b\b\b\b\b\b\b\b\b\b\b\b\b\b\b\b\b\b\b\b\b\b\b\b\b\b\b\b\b\b\b\b\b\b\b\b\b\b\b\b\b\b\b\b\b\b\b\b\b\b\b\b\b\b\b\b\b\b\b\b\b\b\b\b\b\b\b\b\b\b\b\b\b\b\b\b\b\b\b\b\b\b\b\b\b\b\b\b\b\b\b\b\b\b\b\b\b\b\b\b\b\b\b\b\b\b\b\b\b\b\b\b\b\b\b\b\b\b\b\b\b\b\b\b\b\b\b\b\b\b\b\b\b\b\b\b\b\b\b\b\b\b\b\b\b\b\b\b\b\b\b\b\b\b\b\b\b\b\b\b\b\b\b\b\b\b\b\b\b\b\b\b\b\b\b\b\b\b\b\b\b\b\b\b\b\b\b\b\b\b\b\b\b\b\b\b\b\b\b\b\b\b\b\b\b\b\b\b\b\b\b\b\b\b\b\b\b\b\b\b\b\b\b\b\b\b\b\b\b\b\b\b\b\b\b\b\b\b\b\b\b\b\b\b\b\b\b\b\b\b\b\b\b\b\b\b\b\b\b\b\b\b\b\b\b\b\b\b\b\b\b\b\b\b\b\b\b\b\b\b\b\b\b\b\b\b\b\b\b\b\b\b\b\b\b\b\b\b\b\b\b\b\b\b\b\b\b\b\b\b\b\b\b\b\b\b\b\b\b\b\b\b\b\b\b\b\b\b\b\b\b\b\b\b\b\b\b\b\b\b\b\b\b\b\b\b\b\b\b\b\b\b\b\b\b\b\b\b\b\b\b\b\b\b\b\b\b\b\b\b\b\b\b\b\b\b\b\b\b\b\b\b\b\b\b\b\b\b\b\b\b\b\b\b\b\b\b\b - ETA: 3s - loss: 0.4139 - acc: 0.8261\b\b\b\b\b\b\b\b\b\b\b\b\b\b\b\b\b\b\b\b\b\b\b\b\b\b\b\b\b\b\b\b\b\b\b\b\b\b\b\b\b\b\b\b\b\b\b\b\b\b\b\b\b\b\b\b\b\b\b\b\b\b\b\b\b\b\b\b\b\b\b\b\b\b\b\b\b\b\b\b\b\b\b\b\b\b\b\b\b\b\b\b\b\b\b\b\b\b\b\b\b\b\b\b\b\b\b\b\b\b\b\b\b\b\b\b\b\b\b\b\b\b\b\b\b\b\b\b\b\b\b\b\b\b\b\b\b\b\b\b\b\b\b\b\b\b\b\b\b\b\b\b\b\b\b\b\b\b\b\b\b\b\b\b\b\b\b\b\b\b\b\b\b\b\b\b\b\b\b\b\b\b\b\b\b\b\b\b\b\b\b\b\b\b\b\b\b\b\b\b\b\b\b\b\b\b\b\b\b\b\b\b\b\b\b\b\b\b\b\b\b\b\b\b\b\b\b\b\b\b\b\b\b\b\b\b\b\b\b\b\b\b\b\b\b\b\b\b\b\b\b\b\b\b\b\b\b\b\b\b\b\b\b\b\b\b\b\b\b\b\b\b\b\b\b\b\b\b\b\b\b\b\b\b\b\b\b\b\b\b\b\b\b\b\b\b\b\b\b\b\b\b\b\b\b\b\b\b\b\b\b\b\b\b\b\b\b\b\b\b\b\b\b\b\b\b\b\b\b\b\b\b\b\b\b\b\b\b\b\b\b\b\b\b\b\b\b\b\b\b\b\b\b\b\b\b\b\b\b\b\b\b\b\b\b\b\b\b\b\b\b\b\b\b\b\b\b\b\b\b\b\b\b\b\b\b\b\b\b\b\b\b\b\b\b\b\b\b\b\b\b\b\b\b\b\b\b\b\b\b\b\b\b\b\b\b\b\b\b\b\b\b\b\b\b\b\b\b\b\b\b\b\b\b\b\b\b\b\b\b\b\b\b\b\b\b\b\b\b\b\b\b\b\b\b\b\b\b\b\b\b\b\b\b\b\b\b\b\b\b\b\b\b\b\b\b\b\b\b\b\b\b\b\b\b\b\b\b\b\b\b\b\b\b\b\b\b\b\b\b\b\b\b\b\b\b\b\b\b\b\b\b\b\b\b\b\b\b\b\b\b\b\b\b\b\b\b\b\b\b\b\b\b\b\b\b\b\b\b\b\b\b\b\b\b\b\b\b\b\b\b\b\b\b\b\b\b\b\b\b\b\b\b\b\b\b\b\b\b\b\b\b\b\b\b\b\b\b\b\b\b\b\b\b\b\b\b\b\b\b\b\b\b\b\b\b\b\b\b\b\b\b\b\b\b\b\b\b\b\b\b\b\b\b\b\b\b\b\b\b\b\b\b\b\b\b\b\b\b\b\b\b\b\b\b\b\b\b\b\b\b\b\b\b\b\b\b\b\b\b\b\b\b\b\b\b\b\b\b\b\b\b\b\b\b\b\b\b\b\b\b\b\b\b\b\b\b\b\b\b\b\b\b\b\b\b\b\b\b\b\b\b\b\b\b\b\b\b\b\b\b\b\b\b\b\b\b\b\b\b\b\b\b\b\b\b\b\b\b\b\b\b\b\b\b\b\b\b\b\b\b\b\b\b\b\b\b\b\b\b\b\b\b\b\b\b\b\b\b\b\b\b\b\b\b\b\b\b\b\b\b\b\b\b\b\b\b\b\b\b\b\b\b\b\b\b\b\b\b\b\b\b\b\b\b\b\b\b\b\b\b\b\b\b\b\b\b\b\b\b\b\b\b\b\b\b\b\b\b\b\b\b\b\b\b\b\b\b\b\b\b\b\b\b\b\b\b\b\b\b\b\b\b\b\b\b\b\b\b\b\b\b\b\b\b\b\b\b\b\b\b\b\b\b\b\b\b\b\b\b\b\b\b\b\b\b\b\b\b\b\b\b\b\b\b\b\b\b\b\b\b\b\b\b\b\b\b\b\b\b\b\b\b\b\b\b\b\b\b\b\b\b\b\b\b\b\b\b\b\b\b\b\b\b\b\b\b\b\b\b\b\b\b\b\b\b\b\b\b\b\b\b\b\b\b\b\b\b\b\b\b\b\b\b\b\b\b\b\b\b\b\b\b\b\b\b\b\b\b\b\b\b\b\b\b\b\b\b\b\b\b\b\b\b\b\b\b\b\b\b\b\b\b\b\b\b\b\b\b\b\b\b\b\b\b\b\b\b\b\b\b\b\b\b\b\b\b\b\b\b\b\b\b\b\b\b\b\b\b\b\b\b\b\b\b\b\b\b\b\b\b\b\b\b\b\b\b\b\b\b\b\b\b\b\b\b\b\b\b\b\b\b\b\b\b\b\b\b\b\b\b\b\b\b\b\b\b\b\b\b\b\b\b\b\b\b\b\b\b\b\b\b\b\b\b\b\b\b\b\b\b\b\b\b\b\b\b\b\b\b\b\b\b\b\b\b\b\b\b\b\b\b\b\b\b\b\b\b\b\b\b\b\b\b\b\b\b\b\b\b\b\b\b\b\b\b\b\b\b\b\b\b\b\b\b\b\b\b\b\b\b\b\b\b\b\b\b\b\b\b\b\b\b\b\b\b\b\b\b\b\b\b\b\b\b\b\b\b\b\b\b\b\b\b\b\b\b\b\b\b\b\b\b\b\b\b\b\b\b\b\b\b\b\b\b\b\b\b\b\b\b\b\b\b\b\b\b\b\b\b\b\b\b\b\b\b\b\b\b\b\b\b\b\b\b\b\b\b\b\b\b\b\b\b\b\b\b\b\b\b\b\b\b\b\b\b\b\b\b\b\b\b\b\b\b\b\b\b\b\b\b\b\b\b\b\b\b\b\b\b\b\b\b\b\b\b\b\b\b\b\b\b\b\b\b\b\b\b\b\b\b\b\b\b\b\b\b\b\b\b\b\b\b\b\b\b\b\b\b\b\b\b\b\b\b\b\b\b\b\b\b\b\b\b\b\b\b\b\b\b\b\b\b\b\b\b\b\b\b\b\b\b\b\b\b\b\b\b\b\b\b\b\b\b\b\b\b\b\b\b\b\b\b\b\b\b\b\b\b\b\b\b\b\b\b\b\b\b\b\b\b\b\b\b\b\b\b\b\b\b\b\b\b\b\b\b\b\b\b\b\b\b\b\b\b\b\b\b\b\b\b\b\b\b\b\b\b\b\b\b\b\b\b\b\b\b\b\b\b\b\b\b\b\b\b\b\b\b\b\b\b\b\b\b\b\b\b\b\b\b\b\b\b\b\b\b\b\b\b\b\b\b\b\b\b\b\b\b\b\b\b\b\b\b\b\b\b\b\b\b\b\b\b\b\b\b\b\b\b\b\b\b\b\b\b\b\b\b\b\b\b\b\b\b\b\b\b\b\b\b\b\b\b\b\b\b\b\b\b\b\b\b\b\b\b\b\b\b\b\b\b\b\b\b\b\b\b\b\b\b\b\b\b\b\b\b\b\b\b\b\b\b\b\b\b\b\b\b\b\b\b\b\b\b\b\b\b\b\b\b\b\b\b\b\b\b\b\b\b\b\b\b\b\b\b\b\b\b\b\b\b\b\b\b\b\b\b\b\b\b\b\b\b\b\b\b\b\b\b\b\b\b\b\b\b\b\b\b\b\b\b\b\b\b\b\b\b\b\b\b\b\b\b\b\b\b\b\b\b\b\b\b\b\b\b\b\b\b\b\b\b\b\b\b\b\b\b\b\b\b\b\b\b\b\b\b\b\b\b\b\b\b\b\b\b\b\b\b\b\b\b\b\b\b\b\b\b\b\b\b\b\b\b\b\b\b\b\b\b\b\b\b\b\b\b\b\b\b\b\b\b\b\b\b\b\b\b\b\b\b\b\b\b\b\b\b\b\b\b\b\b\b\b\b\b\b\b\b\b\b\b\b\b\b\b\b\b\b\b\b\b\b\b\b\b\b\b\b\b\b\b\b\b\b\b\b\b\b\b\b\b\b\b\b\b\b\b\b\b\b\b\b\b\b\b\b\b\b\b\b\b\b\b\b\b\b\b\b\b\b\b\b\b\b\b\b\b\b\b\b\b\b\b\b\b\b\b\b\b\b\b\b\b\b\b\b\b\b\b\b\b\b\b\b\b\b\b\b\b\b\b\b\b\b\b\b\b\b\b\b\b\b\b\b\b\b\b\b\b\b\b\b\b\b\b\b\b\b\b\b\b\b\b\b\b\b\b\b\b\b\b\b\b\b\b\b\b\b\b\b\b\b\b\b\b\b\b\b\b\b\b\b\b\b\b\b\b\b\b\b\b\b\b\b\b\b\b\b\b\b\b\b\b\b\b\b\b\b\b\b\b\b\b\b\b\b\b\b\b\b\b\b\b\b\b\b\b\b\b\b\b\b\b\b\b\b\b\b\b\b\b\b\b\b\b\b\b\b\b\b\b\b\b\b\b\b\b\b\b\b\b\b\b\b\b\b\b\b\b\b\b\b\b\b\b\b\b\b\b\b\b\b\b\b\b\b\b\b\b\b\b\b\b\b\b\b\b\b\b\b\b\b\b\b\b\b\b\b\b\b\b\b\b\b\b\b\b\b\b\b\b\b\b\b\b\b\b\b\b\b\b\b\b\b\b\b\b\b\b\b\b\b\b\b\b\b\b\b\b\b\b\b\b\b\b\b\b\b\b\b\b\b\b\b\b\b\b\b\b\b\b\b\b\b\b\b\b\b\b\b\b\b\b\b\b\b\b\b\b\b\b\b\b\b\b\b\b\b\b\b\b\b\b\b\b\b\b\b\b\b\b\b\b\b\b\b\b\b\b\b\b\b\b\b\b\b\b\b\b\b\b\b\b\b\b\b\b\b\b\b\b\b\b\b\b\b\b\b\b\b\b\b\b\b\b\b\b\b\b\b\b\b\b\b\b\b\b\b\b\b\b\b\b\b\b\b\b\b\b\b\b\b\b\b\b\b\b\b\b\b\b\b\b\b\b\b\b\b\b\b\b\b\b\b\b\b\b\b\b\b\b\b\b\b\b\b\b\b\b\b\b\b\b\b\b\b\b\b\b\b\b\b\b\b\b\b\b\b\b\b\b\b\b\b\b\b\b\b\b\b\b\b\b\b\b\b\b\b\b\b\b\b\b\b\b\b\b\b\b\b\b\b\b\b\b\b\b\b\b\b\b\b\b\b\b\b\b\b\b\b\b\b\b\b\b\b\b\b\b\b\b\b\b\b\b\b\b\b\b\b\b\b\b\b\b\b\b\b\b\b\b\b\b\b\b\b\b\b\b\b\b\b\b\b\b\b\b\b\b\b\b\b\b\b\b\b\b\b\b\b\b\b\b\b\b\b\b\b\b\b\b\b\b\b\b\b\b\b\b\b\b\b\b\b\b\b\b\b\b\b\b\b\b\b\b\b\b\b\b\b\b\b\b\b\b\b\b\b\b\b\b\b\b\b\b\b\b\b\b\b\b\b\b\b\b\b\b\b\b\b\b\b\b\b\b\b\b\b\b\b\b\b\b\b\b\b\b\b\b\b\b\b\b\b\b\b\b\b\b\b\b\b\b\b\b\b\b\b\b\b\b\b\b\b\b\b\b\b\b\b\b\b\b\b\b\b\b\b\b\b\b\b\b\b\b\b\b\b\b\b\b\b\b\b\b\b\b\b\b\b\b\b\b\b\b\b\b\b\b\b\b\b\b\b\b\b\b\b\b\b\b\b\b\b\b\b\b\b\b\b\b\b\b\b\b\b\b\b\b\b\b\b\b\b\b\b\b\b\b\b\b\b\b\b\b\b\b\b\b\b\b\b\b\b\b\b\b\b\b\b\b\b\b\b\b\b\b\b\b\b\b\b\b\b\b\b\b\b\b\b\b\b\b\b\b\b\b\b\b\b\b\b\b\b\b\b\b\b\b\b\b\b\b\b\b\b\b\b\b\b\b\b\b\b\b\b\b\b\b\b\b\b\b\b\b\b\b\b\b\b\b\b\b\b\b\b\b\b\b\b\b\b\b\b\b\b\b\b\b\b\b\b\b\b\b\b\b\b\b\b\b\b\b\b\b\b\b\b\b\b\b\b\b\b\b\b\b\b\b\b\b\b\b\b\b\b\b\b\b\b\b\b\b\b\b\b\b\b\b\b\b\b\b\b\b\b\b\b\b\b\b\b\b\b\b\b\b\b\b\b\b\b\b\b\b\b\b\b\b\b\b\b\b\b\b\b\b\b\b\b\b\b\b\b\b\b\b\b\b\b\b\b\b\b\b\b\b\b\b\b\b\b\b\b\b\b\b\b\b\b\b\b\b\b\b\b\b\b\b\b\b\b\b\b\b\b\b\b\b\b\b\b\b\b\b\b\b\b\b\b\b\b\b\b\b\b\b\b\b\b\b\b\b\b\b\b\b\b\b\b\b\b\b\b\b\b\b\b\b\b\b\b\b\b\b\b\b\b\b\b\b\b\b\b\b\b\b\b\b\b\b\b\b\b\b\b\b\b\b\b\b\b\b\b\b\b\b\b\b\b\b\b\b\b\b\b\b\b\b\b\b\b\b\b\b\b\b\b\b\b\b\b\b\b\b\b\b\b\b\b\b\b\b\b\b\b\b\b\b\b\b\b\b\b\b\b\b\b\b\b\b\b\b\b\b\b\b\b\b\b\b\b\b\b\b\b\b\b\b\b\b\b\b\b\b\b\b\b\b\b\b\b\b\b\b\b\b\b\b\b\b\b\b\b\b\b\b\b\b\b\b\b\b\b\b\b\b\b\b\b\b\b\b\b\b\b\b\b\b\b\b\b\b\b\b\b\b\b\b\b\b\b\b\b\b\b\b\b\b\b\b\b\b\b\b\b\b\b\b\b\b\b\b\b\b\b\b\b\b\b\b\b\b\b\b\b\b\b\b\b\b\b\b\b\b\b\b\b\b\b\b\b\b\b\b\b\b\b\b\b\b\b\b\b\b\b\b\b\b\b\b\b\b\b\b\b\b\b\b\b\b\b\b\b\b\b\b\b\b\b\b\b\b\b\b\b\b\b\b\b\b\b\b\b\b\b\b\b\b\b\b\b\b\b\b\b\b\b\b\b\b\b\b\b\b\b\b\b\b\b\b\b\b\b\b\b\b\b\b\b\b\b\b\b\b\b\b\b\b\b\b\b\b\b\b\b\b\b\b\b\b\b\b\b\b\b\b\b\b\b\b\b\b\b\b\b\b\b\b\b\b\b\b\b\b\b\b\b\b\b\b\b\b\b\b\b\b\b\b\b\b\b\b\b\b\b\b\b\b\b\b\b\b\b\b\b\b\b\b\b\b\b\b\b\b\b\b\b\b\b\b\b\b\b\b\b\b\b\b\b\b\b\b\b\b\b\b\b\b\b\b\b\b\b\b\b\b\b\b\b\b\b\b\b\b\b\b\b\b\b\b\b\b\b\b\b\b\b\b\b\b\b\b\b\b\b\b\b\b\b\b\b\b\b\b\b\b\b\b\b\b\b\b\b\b\b\b\b\b\b\b\b\b\b\b\b\b\b\b\b\b\b\b\b\b\b\b\b\b\b\b\b\b\b\b\b\b\b\b\b\b\b\b\b\b\b\b\b\b\b\b\b\b\b\b\b\b\b\b\b\b\b\b\b\b\b\b\b\b\b\b\b\b\b\b\b\b\b\b\b\b\b\b\b\b\b\b\b\b\b\b\b\b\b\b\b\b\b\b\b\b\b\b\b\b\b\b\b\b\b\b\b\b\b\b\b\b\b\b\b\b\b\b\b\b\b\b\b\b\b\b\b\b\b\b\b\b\b\b\b\b\b\b\b\b\b\b\b\b\b\b\b\b\b\b\b\b\b\b\b\b\b\b\b\b\b\b\b\b\b\b\b\b\b\b\b\b\b\b\b\b\b\b\b\b\b\b\b\b\b\b\b\b\b\b\b\b\b\b\b\b\b\b\b\b\b\b\b\b\b\b\b\b\b\b\b\b\b\b\b\b\b\b\b\b\b\b\b\b\b\b\b\b\b\b\b\b\b\b\b\b\b\b\b\b\b\b\b\b\b\b\b\b\b\b\b\b\b\b\b\b\b\b\b\b\b\b\b\b\b\b\b\b\b\b\b\b\b\b\b\b\b\b\b\b\b\b\b\b\b\b\b\b\b\b\b\b\b\b\b\b\b\b\b\b\b\b\b\b\b\b\b\b\b\b\b\b\b\b\b\b\b\b\b\b\b\b\b\b\b\b\b\b\b\b\b\b\b\b\b\b\b\b\b\b\b\b\b\b\b\b\b\b\b\b\b\b\b\b\b\b\b\b\b\b\b\b\b\b\b\b\b\b\b\b\b\b\b\b\b\b\b\b\b\b\b\b\b\b\b\b\b\b\b\b\b\b\b\b\b\b\b\b\b\b\b\b\b\b\b\b\b\b\b\b\b\b\b\b\b\b\b\b\b\b\b\b\b\b\b\b\b\b\b\b\b\b\b\b\b\b\b\b\b\b\b\b\b\b\b\b\b\b\b\b\b\b\b\b\b\b\b\b\b\b\b\b\b\b\b\b\b\b\b\b\b\b\b\b\b\b\b\b\b\b\b\b\b\b\b\b\b\b\b\b\b\b\b\b\b\b\b\b\b\b\b\b\b\b\b\b\b\b\b\b\b\b\b\b\b\b\b\b\b\b\b\b\b\b\b\b\b\b\b\b\b\b\b\b\b\b\b\b\b\b\b\b\b\b\b\b\b\b\b\b\b\b\b\b\b\b\b\b\b\b\b\b\b\b\b\b\b\b\b\b\b\b\b\b\b\b\b\b\b\b\b\b\b\b\b\b\b\b\b\b\b\b\b\b\b\b\b\b\b\b\b\b\b\b\b\b\b\b\b\b\b\b\b\b\b\b\b\b\b\b\b\b\b\b\b\b\b\b\b\b\b\b\b\b\b\b\b\b\b\b\b\b\b\b\b\b\b\b\b\b\b\b\b\b\b\b\b\b\b\b\b\b\b\b\b\b\b\b\b\b\b\b\b\b\b\b\b\b\b\b\b\b\b\b\b\b\b\b\b\b\b\b\b\b\b\b\b\b\b\b\b\b\b\b\b\b\b\b\b\b\b\b\b\b\b\b\b\b\b\b\b\b\b\b\b\b\b\b\b\b\b\b\b\b\b\b\b\b\b\b\b\b\b\b\b\b\b\b\b\b\b\b\b\b\b\b\b\b\b\b\b\b\b\b\b\b\b\b\b\b\b\b\b\b\b\b\b\b\b\b\b\b\b\b\b\b\b\b\b\b\b\b\b\b\b\b\b\b\b\b\b\b\b\b\b\b\b\b\b\b\b\b\b\b\b\b\b\b\b\b\b\b\b\b\b\b\b\b\b\b\b\b\b\b\b\b\b\b\b\b\b\b\b\b\b\b\b\b\b\b\b\b\b\b\b\b\b\b\b\b\b\b\b\b\b\b\b\b\b\b\b\b\b\b\b\b\b\b\b\b\b\b\b\b\b\b\b\b\b\b\b\b\b\b\b\b\b\b\b\b\b\b\b\b\b\b\b\b\b\b\b\b\b\b\b\b\b\b\b\b\b\b\b\b\b\b\b\b\b\b\b\b\b\b\b\b\b\b\b\b\b\b\b\b\b\b\b\b\b\b\b\b\b\b\b\b\b\b\b\b\b\b\b\b\b\b\b\b\b\b\b\b\b\b\b\b\b\b\b\b\b\b\b\b\b\b\b\b\b\b\b\b\b\b\b\b\b\b\b\b\b\b\b\b\b\b\b\b\b\b\b\b\b\b\b\b\b\b\b\b\b\b\b\b\b\b\b\b\b\b\b\b\b\b\b\b\b\b\b\b\b\b\b\b\b\b\b\b\b\b\b\b\b\b\b\b\b\b\b\b\b\b\b\b\b\b\b\b\b\b\b\b\b\b\b\b\b\b\b\b\b\b\b\b\b\b\b\b\b\b\b\b\b\b\b\b\b\b\b\b\b\b\b\b\b\b\b\b\b\b\b\b\b\b\b\b\b\b\b\b\b\b\b\b\b\b\b\b\b\b\b\b\b\b\b\b\b\b\b\b\b\b\b\b\b\b\b\b\b\b\b\b\b\b\b\b\b\b\b\b\b\b\b\b\b\b\b\b\b\b\b\b\b\b\b\b\b\b\b\b\b\b\b\b\b\b\b\b\b\b\b\b\b\b\b\b\b\b\b\b\b\b\b\b\b\b\b\b\b\b\b\b\b\b\b\b\b\b\b\b\b\b\b\b\b\b\b\b\b\b\b\b\b\b\b\b\b\b\b\b\b\b\b\b\b\b\b\b\b\b\b\b\b\b\b\b\b\b\b\b\b\b\b\b\b\b\b\b\b\b\b\b\b\b\b\b\b\b\b\b\b\b\b\b\b\b\b\b\b\b\b\b\b\b\b\b\b\b\b\b\b\b\b\b\b\b\b\b\b\b\b\b\b\b\b\b\b\b\b\b\b\b\b\b\b\b\b\b\b\b\b\b\b\b\b\b\b\b\b\b\b\b\b\b\b\b\b\b\b\b\b\b\b\b\b\b\b\b\b\b\b\b\b\b\b\b\b\b\b\b\b\b\b\b\b\b\b\b\b\b\b\b\b\b\b\b\n"
     ]
    }
   ],
   "source": [
    "cnn_hist = cnn.fit(x_train, y_train,\n",
    "                   batch_size=64,\n",
    "                   epochs=2,\n",
    "                   validation_data=(x_test, y_test))"
   ]
  },
  {
   "cell_type": "markdown",
   "metadata": {
    "slideshow": {
     "slide_type": "slide"
    }
   },
   "source": [
    "# Visualizing the Results"
   ]
  },
  {
   "cell_type": "markdown",
   "metadata": {
    "slideshow": {
     "slide_type": "slide"
    }
   },
   "source": [
    "## T-SNE Plot\n",
    "\n",
    "A technique for dimensionality reduction.\n",
    "\n",
    "(I had some technical difficulties... so here is another example )\n",
    "\n",
    "![tsne plot](https://d3ansictanv2wj.cloudfront.net/images/digits_tsne-5d3f7058.png)\n"
   ]
  },
  {
   "cell_type": "code",
   "execution_count": null,
   "metadata": {
    "collapsed": false,
    "slideshow": {
     "slide_type": "subslide"
    }
   },
   "outputs": [],
   "source": [
    "import matplotlib.pyplot as plt\n",
    "from sklearn.manifold import TSNE\n",
    "from keras.models import Model\n",
    "\n",
    "%matplotlib inline\n",
    "\n",
    "# New model that chops off the dense/output layers from our CNN.\n",
    "encoding = Model(inputs=cnn.input,\n",
    "                 outputs=cnn.get_layer('flat_max_pool').output)\n",
    "\n",
    "# Subsample the data\n",
    "idxs = np.random.choice(x_train.shape[0], 3000, replace=False)\n",
    "\n",
    "# Compute review encoding\n",
    "encodings = encoding.predict(x_train[idxs,:])\n",
    "\n",
    "# Create TSNE plot\n",
    "tsne = TSNE(n_components=2, init='pca', random_state=0, n_iter=4000)\n",
    "x_tsne = tsne.fit_transform(encodings)\n",
    "\n",
    "h = plt.scatter(x_tsne[:,0], x_tsne[:,1], \n",
    "                c=y_train[idxs],\n",
    "                #c=cnn.predict(x_test[idxs,:]),\n",
    "                alpha=0.4,\n",
    "                cmap=plt.cm.viridis)\n",
    "#g.get_figure().savefig('test_tsne.png')\n",
    "plt.title('TSNE Plot: File-Note Encodings w/ Predictions')\n",
    "plt.colorbar()"
   ]
  },
  {
   "cell_type": "markdown",
   "metadata": {
    "slideshow": {
     "slide_type": "slide"
    }
   },
   "source": [
    "## Convolutional Filter Activations\n",
    "\n",
    "If we print the text of our reviews colored according to the value of the activation for our convolutional layer at each token, we can get a sense for what each filter is looking for."
   ]
  },
  {
   "cell_type": "code",
   "execution_count": null,
   "metadata": {
    "collapsed": true,
    "slideshow": {
     "slide_type": "skip"
    }
   },
   "outputs": [],
   "source": [
    "# Create mapping of indices to words\n",
    "word_index = imdb.get_word_index()\n",
    "index_word = {a:b for b,a in word_index.items()}\n",
    "index_word[0] = '-'"
   ]
  },
  {
   "cell_type": "code",
   "execution_count": 52,
   "metadata": {
    "collapsed": true,
    "slideshow": {
     "slide_type": "skip"
    }
   },
   "outputs": [],
   "source": [
    "# Make a new model that just gets the activations from the convolution layer\n",
    "convolution = Model(inputs=cnn.input,\n",
    "                    outputs=cnn.get_layer('conv_layer').output)\n",
    "\n",
    "convolutions = convolution.predict(x_test)"
   ]
  },
  {
   "cell_type": "code",
   "execution_count": 123,
   "metadata": {
    "collapsed": true,
    "slideshow": {
     "slide_type": "skip"
    }
   },
   "outputs": [],
   "source": [
    "import matplotlib as mpl\n",
    "import matplotlib.colors as cl\n",
    "from IPython.display import display, HTML\n",
    "\n",
    "def text_and_probabilities_to_html(text, activations, cmap):\n",
    "    words = text.split(' ')\n",
    "    return ''.join([span_template(w, p, cmap) for w, p in zip(words, activations)])\n",
    "        \n",
    "def span_template(token, pred, cmap):\n",
    "    span = ('<span style=\"background:' +\n",
    "            cl.rgb2hex(cmap(pred)) + \n",
    "            '; color:' + \n",
    "            cl.rgb2hex(plt.cm.gray(pred)) + \n",
    "            '\"> ' +\n",
    "            token + \n",
    "            ' </span>')\n",
    "    return span\n",
    "\n",
    "def visualize_classifier(text, activations):\n",
    "    cmap = plt.cm.Blues\n",
    "    #norm = mpl.colors.Normalize(vmin=np.min(activations), vmax=np.max(activations))\n",
    "    html_text = text_and_probabilities_to_html(text, activations, cmap)\n",
    "    print(html_text)\n",
    "    display(HTML(html_text))"
   ]
  },
  {
   "cell_type": "code",
   "execution_count": 101,
   "metadata": {
    "collapsed": true,
    "slideshow": {
     "slide_type": "skip"
    }
   },
   "outputs": [],
   "source": [
    "convolutions = convolution.predict(x_test)"
   ]
  },
  {
   "cell_type": "code",
   "execution_count": 127,
   "metadata": {
    "collapsed": false,
    "slideshow": {
     "slide_type": "skip"
    }
   },
   "outputs": [
    {
     "name": "stdout",
     "output_type": "stream",
     "text": [
      "<span style=\"background:#f7fbff; color:#000000\"> - </span><span style=\"background:#f7fbff; color:#000000\"> - </span><span style=\"background:#f7fbff; color:#000000\"> - </span><span style=\"background:#f7fbff; color:#000000\"> - </span><span style=\"background:#f7fbff; color:#000000\"> - </span><span style=\"background:#f7fbff; color:#000000\"> - </span><span style=\"background:#f7fbff; color:#000000\"> - </span><span style=\"background:#f7fbff; color:#000000\"> - </span><span style=\"background:#f7fbff; color:#000000\"> - </span><span style=\"background:#f7fbff; color:#000000\"> - </span><span style=\"background:#f7fbff; color:#000000\"> - </span><span style=\"background:#f7fbff; color:#000000\"> - </span><span style=\"background:#f7fbff; color:#000000\"> - </span><span style=\"background:#f7fbff; color:#000000\"> - </span><span style=\"background:#f7fbff; color:#000000\"> - </span><span style=\"background:#f7fbff; color:#000000\"> - </span><span style=\"background:#f7fbff; color:#000000\"> - </span><span style=\"background:#f7fbff; color:#000000\"> - </span><span style=\"background:#f7fbff; color:#000000\"> - </span><span style=\"background:#f7fbff; color:#000000\"> - </span><span style=\"background:#f7fbff; color:#000000\"> - </span><span style=\"background:#f7fbff; color:#000000\"> - </span><span style=\"background:#f7fbff; color:#000000\"> - </span><span style=\"background:#f7fbff; color:#000000\"> - </span><span style=\"background:#f7fbff; color:#000000\"> - </span><span style=\"background:#f7fbff; color:#000000\"> - </span><span style=\"background:#f7fbff; color:#000000\"> - </span><span style=\"background:#f7fbff; color:#000000\"> - </span><span style=\"background:#f7fbff; color:#000000\"> - </span><span style=\"background:#f7fbff; color:#000000\"> - </span><span style=\"background:#f7fbff; color:#000000\"> - </span><span style=\"background:#f7fbff; color:#000000\"> - </span><span style=\"background:#f7fbff; color:#000000\"> - </span><span style=\"background:#f7fbff; color:#000000\"> - </span><span style=\"background:#f7fbff; color:#000000\"> - </span><span style=\"background:#f7fbff; color:#000000\"> - </span><span style=\"background:#f7fbff; color:#000000\"> - </span><span style=\"background:#f7fbff; color:#000000\"> - </span><span style=\"background:#f7fbff; color:#000000\"> - </span><span style=\"background:#f7fbff; color:#000000\"> - </span><span style=\"background:#f7fbff; color:#000000\"> - </span><span style=\"background:#f7fbff; color:#000000\"> - </span><span style=\"background:#f7fbff; color:#000000\"> - </span><span style=\"background:#f7fbff; color:#000000\"> - </span><span style=\"background:#f7fbff; color:#000000\"> - </span><span style=\"background:#f7fbff; color:#000000\"> - </span><span style=\"background:#f7fbff; color:#000000\"> - </span><span style=\"background:#f7fbff; color:#000000\"> - </span><span style=\"background:#f7fbff; color:#000000\"> - </span><span style=\"background:#f7fbff; color:#000000\"> - </span><span style=\"background:#f7fbff; color:#000000\"> - </span><span style=\"background:#f7fbff; color:#000000\"> - </span><span style=\"background:#f7fbff; color:#000000\"> - </span><span style=\"background:#f7fbff; color:#000000\"> - </span><span style=\"background:#f7fbff; color:#000000\"> - </span><span style=\"background:#f7fbff; color:#000000\"> - </span><span style=\"background:#f7fbff; color:#000000\"> - </span><span style=\"background:#f7fbff; color:#000000\"> - </span><span style=\"background:#f7fbff; color:#000000\"> - </span><span style=\"background:#f7fbff; color:#000000\"> - </span><span style=\"background:#f7fbff; color:#000000\"> - </span><span style=\"background:#f7fbff; color:#000000\"> - </span><span style=\"background:#f7fbff; color:#000000\"> - </span><span style=\"background:#f7fbff; color:#000000\"> - </span><span style=\"background:#f7fbff; color:#000000\"> - </span><span style=\"background:#f7fbff; color:#000000\"> - </span><span style=\"background:#f7fbff; color:#000000\"> - </span><span style=\"background:#f7fbff; color:#000000\"> - </span><span style=\"background:#f7fbff; color:#000000\"> - </span><span style=\"background:#f7fbff; color:#000000\"> - </span><span style=\"background:#f7fbff; color:#000000\"> - </span><span style=\"background:#f7fbff; color:#000000\"> - </span><span style=\"background:#f7fbff; color:#000000\"> - </span><span style=\"background:#f7fbff; color:#000000\"> - </span><span style=\"background:#f7fbff; color:#000000\"> - </span><span style=\"background:#f7fbff; color:#000000\"> - </span><span style=\"background:#f7fbff; color:#000000\"> - </span><span style=\"background:#f7fbff; color:#000000\"> - </span><span style=\"background:#f7fbff; color:#000000\"> - </span><span style=\"background:#f7fbff; color:#000000\"> - </span><span style=\"background:#f7fbff; color:#000000\"> - </span><span style=\"background:#f7fbff; color:#000000\"> - </span><span style=\"background:#f7fbff; color:#000000\"> - </span><span style=\"background:#f7fbff; color:#000000\"> - </span><span style=\"background:#f7fbff; color:#000000\"> - </span><span style=\"background:#f7fbff; color:#000000\"> this </span><span style=\"background:#f7fbff; color:#000000\"> is </span><span style=\"background:#f7fbff; color:#000000\"> definitely </span><span style=\"background:#f7fbff; color:#000000\"> - </span><span style=\"background:#f7fbff; color:#000000\"> most </span><span style=\"background:#f7fbff; color:#000000\"> and </span><span style=\"background:#f7fbff; color:#000000\"> thought </span><span style=\"background:#f7fbff; color:#000000\"> provoking </span><span style=\"background:#f7fbff; color:#000000\"> piece </span><span style=\"background:#f7fbff; color:#000000\"> not </span><span style=\"background:#f7fbff; color:#000000\"> to </span><span style=\"background:#f7fbff; color:#000000\"> say </span><span style=\"background:#f7fbff; color:#000000\"> that </span><span style=\"background:#e7f1fa; color:#141414\"> memento </span><span style=\"background:#f7fbff; color:#000000\"> or </span><span style=\"background:#f7fbff; color:#000000\"> insomnia </span><span style=\"background:#f7fbff; color:#000000\"> are </span><span style=\"background:#f7fbff; color:#000000\"> bad </span><span style=\"background:#f7fbff; color:#000000\"> but </span><span style=\"background:#f7fbff; color:#000000\"> they </span><span style=\"background:#f7fbff; color:#000000\"> were </span><span style=\"background:#f7fbff; color:#000000\"> definitely </span><span style=\"background:#f7fbff; color:#000000\"> up </span><span style=\"background:#f7fbff; color:#000000\"> to </span><span style=\"background:#f7fbff; color:#000000\"> more </span><span style=\"background:#f7fbff; color:#000000\"> hollywood </span><span style=\"background:#f7fbff; color:#000000\"> standards </span><span style=\"background:#f7fbff; color:#000000\"> while </span><span style=\"background:#f7fbff; color:#000000\"> following </span><span style=\"background:#f7fbff; color:#000000\"> is </span><span style=\"background:#f7fbff; color:#000000\"> more </span><span style=\"background:#f7fbff; color:#000000\"> of </span><span style=\"background:#f7fbff; color:#000000\"> an </span><span style=\"background:#f7fbff; color:#000000\"> indie </span><span style=\"background:#f7fbff; color:#000000\"> flick </span><span style=\"background:#f7fbff; color:#000000\"> the </span><span style=\"background:#f7fbff; color:#000000\"> story </span><span style=\"background:#f7fbff; color:#000000\"> is </span><span style=\"background:#f7fbff; color:#000000\"> very </span><span style=\"background:#f7fbff; color:#000000\"> brilliant </span><span style=\"background:#f7fbff; color:#000000\"> and </span><span style=\"background:#f7fbff; color:#000000\"> very </span><span style=\"background:#f7fbff; color:#000000\"> well </span><span style=\"background:#f7fbff; color:#000000\"> developed </span><span style=\"background:#f7fbff; color:#000000\"> overall </span><span style=\"background:#f7fbff; color:#000000\"> watch </span><span style=\"background:#f7fbff; color:#000000\"> this </span><span style=\"background:#f7fbff; color:#000000\"> if </span><span style=\"background:#f7fbff; color:#000000\"> your </span><span style=\"background:#f7fbff; color:#000000\"> a </span><span style=\"background:#f7fbff; color:#000000\"> fan </span><span style=\"background:#f7fbff; color:#000000\"> of </span><span style=\"background:#f7fbff; color:#000000\"> any </span><span style=\"background:#f7fbff; color:#000000\"> of </span><span style=\"background:#f7fbff; color:#000000\"> - </span><span style=\"background:#f7fbff; color:#000000\"> work </span><span style=\"background:#f7fbff; color:#000000\"> i'm </span><span style=\"background:#f7fbff; color:#000000\"> sure </span><span style=\"background:#f7fbff; color:#000000\"> you'll </span><span style=\"background:#f7fbff; color:#000000\"> be </span><span style=\"background:#f7fbff; color:#000000\"> able </span><span style=\"background:#f7fbff; color:#000000\"> to </span><span style=\"background:#f7fbff; color:#000000\"> appreciate </span><span style=\"background:#f7fbff; color:#000000\"> it </span><span style=\"background:#f7fbff; color:#000000\"> more </span>\n"
     ]
    },
    {
     "data": {
      "text/html": [
       "<span style=\"background:#f7fbff; color:#000000\"> - </span><span style=\"background:#f7fbff; color:#000000\"> - </span><span style=\"background:#f7fbff; color:#000000\"> - </span><span style=\"background:#f7fbff; color:#000000\"> - </span><span style=\"background:#f7fbff; color:#000000\"> - </span><span style=\"background:#f7fbff; color:#000000\"> - </span><span style=\"background:#f7fbff; color:#000000\"> - </span><span style=\"background:#f7fbff; color:#000000\"> - </span><span style=\"background:#f7fbff; color:#000000\"> - </span><span style=\"background:#f7fbff; color:#000000\"> - </span><span style=\"background:#f7fbff; color:#000000\"> - </span><span style=\"background:#f7fbff; color:#000000\"> - </span><span style=\"background:#f7fbff; color:#000000\"> - </span><span style=\"background:#f7fbff; color:#000000\"> - </span><span style=\"background:#f7fbff; color:#000000\"> - </span><span style=\"background:#f7fbff; color:#000000\"> - </span><span style=\"background:#f7fbff; color:#000000\"> - </span><span style=\"background:#f7fbff; color:#000000\"> - </span><span style=\"background:#f7fbff; color:#000000\"> - </span><span style=\"background:#f7fbff; color:#000000\"> - </span><span style=\"background:#f7fbff; color:#000000\"> - </span><span style=\"background:#f7fbff; color:#000000\"> - </span><span style=\"background:#f7fbff; color:#000000\"> - </span><span style=\"background:#f7fbff; color:#000000\"> - </span><span style=\"background:#f7fbff; color:#000000\"> - </span><span style=\"background:#f7fbff; color:#000000\"> - </span><span style=\"background:#f7fbff; color:#000000\"> - </span><span style=\"background:#f7fbff; color:#000000\"> - </span><span style=\"background:#f7fbff; color:#000000\"> - </span><span style=\"background:#f7fbff; color:#000000\"> - </span><span style=\"background:#f7fbff; color:#000000\"> - </span><span style=\"background:#f7fbff; color:#000000\"> - </span><span style=\"background:#f7fbff; color:#000000\"> - </span><span style=\"background:#f7fbff; color:#000000\"> - </span><span style=\"background:#f7fbff; color:#000000\"> - </span><span style=\"background:#f7fbff; color:#000000\"> - </span><span style=\"background:#f7fbff; color:#000000\"> - </span><span style=\"background:#f7fbff; color:#000000\"> - </span><span style=\"background:#f7fbff; color:#000000\"> - </span><span style=\"background:#f7fbff; color:#000000\"> - </span><span style=\"background:#f7fbff; color:#000000\"> - </span><span style=\"background:#f7fbff; color:#000000\"> - </span><span style=\"background:#f7fbff; color:#000000\"> - </span><span style=\"background:#f7fbff; color:#000000\"> - </span><span style=\"background:#f7fbff; color:#000000\"> - </span><span style=\"background:#f7fbff; color:#000000\"> - </span><span style=\"background:#f7fbff; color:#000000\"> - </span><span style=\"background:#f7fbff; color:#000000\"> - </span><span style=\"background:#f7fbff; color:#000000\"> - </span><span style=\"background:#f7fbff; color:#000000\"> - </span><span style=\"background:#f7fbff; color:#000000\"> - </span><span style=\"background:#f7fbff; color:#000000\"> - </span><span style=\"background:#f7fbff; color:#000000\"> - </span><span style=\"background:#f7fbff; color:#000000\"> - </span><span style=\"background:#f7fbff; color:#000000\"> - </span><span style=\"background:#f7fbff; color:#000000\"> - </span><span style=\"background:#f7fbff; color:#000000\"> - </span><span style=\"background:#f7fbff; color:#000000\"> - </span><span style=\"background:#f7fbff; color:#000000\"> - </span><span style=\"background:#f7fbff; color:#000000\"> - </span><span style=\"background:#f7fbff; color:#000000\"> - </span><span style=\"background:#f7fbff; color:#000000\"> - </span><span style=\"background:#f7fbff; color:#000000\"> - </span><span style=\"background:#f7fbff; color:#000000\"> - </span><span style=\"background:#f7fbff; color:#000000\"> - </span><span style=\"background:#f7fbff; color:#000000\"> - </span><span style=\"background:#f7fbff; color:#000000\"> - </span><span style=\"background:#f7fbff; color:#000000\"> - </span><span style=\"background:#f7fbff; color:#000000\"> - </span><span style=\"background:#f7fbff; color:#000000\"> - </span><span style=\"background:#f7fbff; color:#000000\"> - </span><span style=\"background:#f7fbff; color:#000000\"> - </span><span style=\"background:#f7fbff; color:#000000\"> - </span><span style=\"background:#f7fbff; color:#000000\"> - </span><span style=\"background:#f7fbff; color:#000000\"> - </span><span style=\"background:#f7fbff; color:#000000\"> - </span><span style=\"background:#f7fbff; color:#000000\"> - </span><span style=\"background:#f7fbff; color:#000000\"> - </span><span style=\"background:#f7fbff; color:#000000\"> - </span><span style=\"background:#f7fbff; color:#000000\"> - </span><span style=\"background:#f7fbff; color:#000000\"> - </span><span style=\"background:#f7fbff; color:#000000\"> - </span><span style=\"background:#f7fbff; color:#000000\"> - </span><span style=\"background:#f7fbff; color:#000000\"> - </span><span style=\"background:#f7fbff; color:#000000\"> - </span><span style=\"background:#f7fbff; color:#000000\"> this </span><span style=\"background:#f7fbff; color:#000000\"> is </span><span style=\"background:#f7fbff; color:#000000\"> definitely </span><span style=\"background:#f7fbff; color:#000000\"> - </span><span style=\"background:#f7fbff; color:#000000\"> most </span><span style=\"background:#f7fbff; color:#000000\"> and </span><span style=\"background:#f7fbff; color:#000000\"> thought </span><span style=\"background:#f7fbff; color:#000000\"> provoking </span><span style=\"background:#f7fbff; color:#000000\"> piece </span><span style=\"background:#f7fbff; color:#000000\"> not </span><span style=\"background:#f7fbff; color:#000000\"> to </span><span style=\"background:#f7fbff; color:#000000\"> say </span><span style=\"background:#f7fbff; color:#000000\"> that </span><span style=\"background:#e7f1fa; color:#141414\"> memento </span><span style=\"background:#f7fbff; color:#000000\"> or </span><span style=\"background:#f7fbff; color:#000000\"> insomnia </span><span style=\"background:#f7fbff; color:#000000\"> are </span><span style=\"background:#f7fbff; color:#000000\"> bad </span><span style=\"background:#f7fbff; color:#000000\"> but </span><span style=\"background:#f7fbff; color:#000000\"> they </span><span style=\"background:#f7fbff; color:#000000\"> were </span><span style=\"background:#f7fbff; color:#000000\"> definitely </span><span style=\"background:#f7fbff; color:#000000\"> up </span><span style=\"background:#f7fbff; color:#000000\"> to </span><span style=\"background:#f7fbff; color:#000000\"> more </span><span style=\"background:#f7fbff; color:#000000\"> hollywood </span><span style=\"background:#f7fbff; color:#000000\"> standards </span><span style=\"background:#f7fbff; color:#000000\"> while </span><span style=\"background:#f7fbff; color:#000000\"> following </span><span style=\"background:#f7fbff; color:#000000\"> is </span><span style=\"background:#f7fbff; color:#000000\"> more </span><span style=\"background:#f7fbff; color:#000000\"> of </span><span style=\"background:#f7fbff; color:#000000\"> an </span><span style=\"background:#f7fbff; color:#000000\"> indie </span><span style=\"background:#f7fbff; color:#000000\"> flick </span><span style=\"background:#f7fbff; color:#000000\"> the </span><span style=\"background:#f7fbff; color:#000000\"> story </span><span style=\"background:#f7fbff; color:#000000\"> is </span><span style=\"background:#f7fbff; color:#000000\"> very </span><span style=\"background:#f7fbff; color:#000000\"> brilliant </span><span style=\"background:#f7fbff; color:#000000\"> and </span><span style=\"background:#f7fbff; color:#000000\"> very </span><span style=\"background:#f7fbff; color:#000000\"> well </span><span style=\"background:#f7fbff; color:#000000\"> developed </span><span style=\"background:#f7fbff; color:#000000\"> overall </span><span style=\"background:#f7fbff; color:#000000\"> watch </span><span style=\"background:#f7fbff; color:#000000\"> this </span><span style=\"background:#f7fbff; color:#000000\"> if </span><span style=\"background:#f7fbff; color:#000000\"> your </span><span style=\"background:#f7fbff; color:#000000\"> a </span><span style=\"background:#f7fbff; color:#000000\"> fan </span><span style=\"background:#f7fbff; color:#000000\"> of </span><span style=\"background:#f7fbff; color:#000000\"> any </span><span style=\"background:#f7fbff; color:#000000\"> of </span><span style=\"background:#f7fbff; color:#000000\"> - </span><span style=\"background:#f7fbff; color:#000000\"> work </span><span style=\"background:#f7fbff; color:#000000\"> i'm </span><span style=\"background:#f7fbff; color:#000000\"> sure </span><span style=\"background:#f7fbff; color:#000000\"> you'll </span><span style=\"background:#f7fbff; color:#000000\"> be </span><span style=\"background:#f7fbff; color:#000000\"> able </span><span style=\"background:#f7fbff; color:#000000\"> to </span><span style=\"background:#f7fbff; color:#000000\"> appreciate </span><span style=\"background:#f7fbff; color:#000000\"> it </span><span style=\"background:#f7fbff; color:#000000\"> more </span>"
      ],
      "text/plain": [
       "<IPython.core.display.HTML object>"
      ]
     },
     "metadata": {},
     "output_type": "display_data"
    }
   ],
   "source": [
    "n = 6186\n",
    "filter_id = 0\n",
    "sample_text = ' '.join([index_word[max(0, i-3)] for i in x_test[n,:]])\n",
    "\n",
    "activations=convolutions[n,:,filter_id]\n",
    "activations = np.hstack([activations, np.zeros(4)])\n",
    "\n",
    "visualize_classifier(sample_text, activations)"
   ]
  },
  {
   "cell_type": "markdown",
   "metadata": {
    "slideshow": {
     "slide_type": "subslide"
    }
   },
   "source": [
    "## A Negative Review\n",
    "\n",
    "#### A Negative Filter\n",
    "<span style=\"background:#f7fbff; color:#000000\"> - </span><span style=\"background:#f7fbff; color:#000000\"> - </span><span style=\"background:#f7fbff; color:#000000\"> - </span><span style=\"background:#f7fbff; color:#000000\"> - </span><span style=\"background:#f7fbff; color:#000000\"> - </span><span style=\"background:#f7fbff; color:#000000\"> - </span><span style=\"background:#f7fbff; color:#000000\"> spoiler </span><span style=\"background:#c7dbef; color:#3f3f3f\"> with </span><span style=\"background:#82bbdb; color:#717171\"> plot </span><span style=\"background:#f7fbff; color:#000000\"> explanation </span><span style=\"background:#f7fbff; color:#000000\"> a </span><span style=\"background:#eaf3fb; color:#101010\"> poor </span><span style=\"background:#f7fbff; color:#000000\"> family </span><span style=\"background:#f7fbff; color:#000000\"> is </span><span style=\"background:#f7fbff; color:#000000\"> being </span><span style=\"background:#f7fbff; color:#000000\"> thrown </span><span style=\"background:#f7fbff; color:#000000\"> in </span><span style=\"background:#f7fbff; color:#000000\"> the </span><span style=\"background:#f7fbff; color:#000000\"> middle </span><span style=\"background:#f7fbff; color:#000000\"> of </span><span style=\"background:#f7fbff; color:#000000\"> war </span><span style=\"background:#f7fbff; color:#000000\"> between </span><span style=\"background:#f7fbff; color:#000000\"> the </span><span style=\"background:#f7fbff; color:#000000\"> evil </span><span style=\"background:#f7fbff; color:#000000\"> guy </span><span style=\"background:#f7fbff; color:#000000\"> that </span><span style=\"background:#d0e1f2; color:#333333\"> pops </span><span style=\"background:#f7fbff; color:#000000\"> out </span><span style=\"background:#f7fbff; color:#000000\"> from </span><span style=\"background:#f7fbff; color:#000000\"> nowhere </span><span style=\"background:#f7fbff; color:#000000\"> and </span><span style=\"background:#f7fbff; color:#000000\"> no </span><span style=\"background:#f7fbff; color:#000000\"> questions </span><span style=\"background:#f7fbff; color:#000000\"> asked </span><span style=\"background:#f7fbff; color:#000000\"> that </span><span style=\"background:#f7fbff; color:#000000\"> went </span><span style=\"background:#f7fbff; color:#000000\"> wacko </span><span style=\"background:#f7fbff; color:#000000\"> and </span><span style=\"background:#f7fbff; color:#000000\"> casper </span><span style=\"background:#f7fbff; color:#000000\"> the </span><span style=\"background:#f7fbff; color:#000000\"> friendly </span><span style=\"background:#f7fbff; color:#000000\"> ghost </span><span style=\"background:#f7fbff; color:#000000\"> trying </span><span style=\"background:#f7fbff; color:#000000\"> to </span><span style=\"background:#f7fbff; color:#000000\"> avenge </span><span style=\"background:#f7fbff; color:#000000\"> his </span><span style=\"background:#f7fbff; color:#000000\"> death </span><span style=\"background:#f7fbff; color:#000000\"> with </span><span style=\"background:#f7fbff; color:#000000\"> every </span><span style=\"background:#f7fbff; color:#000000\"> frame </span><span style=\"background:#f7fbff; color:#000000\"> movie </span><span style=\"background:#f7fbff; color:#000000\"> gets </span><span style=\"background:#f7fbff; color:#000000\"> more </span><span style=\"background:#f7fbff; color:#000000\"> and </span><span style=\"background:#a6cee4; color:#595959\"> more </span><span style=\"background:#b4d3e9; color:#4e4e4e\"> predictable </span><span style=\"background:#f7fbff; color:#000000\"> a </span><span style=\"background:#e4eff9; color:#181818\"> big </span><span style=\"background:#4e9acb; color:#969696\"> disappointment </span><span style=\"background:#d0e1f2; color:#333333\"> ending </span><span style=\"background:#f7fbff; color:#000000\"> seams </span><span style=\"background:#cbdef1; color:#393939\"> completely </span><span style=\"background:#f7fbff; color:#000000\"> dumb </span><span style=\"background:#f7fbff; color:#000000\"> it </span><span style=\"background:#f7fbff; color:#000000\"> has </span><span style=\"background:#f7fbff; color:#000000\"> nothing </span><span style=\"background:#f7fbff; color:#000000\"> to </span><span style=\"background:#f7fbff; color:#000000\"> - </span><span style=\"background:#f7fbff; color:#000000\"> with </span><span style=\"background:#f7fbff; color:#000000\"> the </span><span style=\"background:#f7fbff; color:#000000\"> movie </span><span style=\"background:#f7fbff; color:#000000\"> itself </span><span style=\"background:#f7fbff; color:#000000\"> i </span><span style=\"background:#f7fbff; color:#000000\"> think </span><span style=\"background:#f7fbff; color:#000000\"> someone </span><span style=\"background:#f7fbff; color:#000000\"> run </span><span style=\"background:#f7fbff; color:#000000\"> out </span><span style=\"background:#f7fbff; color:#000000\"> of </span><span style=\"background:#f7fbff; color:#000000\"> ideas </span><span style=\"background:#f7fbff; color:#000000\"> or </span><span style=\"background:#f7fbff; color:#000000\"> just </span><span style=\"background:#f7fbff; color:#000000\"> get </span><span style=\"background:#f7fbff; color:#000000\"> to </span><span style=\"background:#f7fbff; color:#000000\"> the </span><span style=\"background:#f7fbff; color:#000000\"> point </span><span style=\"background:#f7fbff; color:#000000\"> that </span><span style=\"background:#f7fbff; color:#000000\"> movie </span><span style=\"background:#f7fbff; color:#000000\"> is </span><span style=\"background:#f7fbff; color:#000000\"> s </span><span style=\"background:#f7fbff; color:#000000\"> t </span><span style=\"background:#f7fbff; color:#000000\"> this </span><span style=\"background:#f7fbff; color:#000000\"> way </span><span style=\"background:#f7fbff; color:#000000\"> or </span><span style=\"background:#f7fbff; color:#000000\"> other </span><span style=\"background:#f7fbff; color:#000000\"> so </span><span style=\"background:#f7fbff; color:#000000\"> it </span><span style=\"background:#f7fbff; color:#000000\"> may </span><span style=\"background:#f7fbff; color:#000000\"> as </span><span style=\"background:#c1d9ed; color:#444444\"> well </span><span style=\"background:#1c6bb0; color:#c5c5c5\"> have </span><span style=\"background:#549fcd; color:#919191\"> a </span><span style=\"background:#cde0f1; color:#363636\"> stupid </span><span style=\"background:#e6f0f9; color:#161616\"> ending </span><span style=\"background:#c3daee; color:#424242\"> waste </span><span style=\"background:#f7fbff; color:#000000\"> of </span><span style=\"background:#f7fbff; color:#000000\"> time </span><span style=\"background:#f7fbff; color:#000000\"> resources </span><span style=\"background:#f7fbff; color:#000000\"> and </span><span style=\"background:#f7fbff; color:#000000\"> money </span><span style=\"background:#8dc1dd; color:#6a6a6a\"> actor </span><span style=\"background:#75b4d8; color:#797979\"> play </span><span style=\"background:#f7fbff; color:#000000\"> is </span><span style=\"background:#f7fbff; color:#000000\"> very </span><span style=\"background:#f7fbff; color:#000000\"> poor </span><span style=\"background:#f7fbff; color:#000000\"> if </span><span style=\"background:#f7fbff; color:#000000\"> you </span><span style=\"background:#f7fbff; color:#000000\"> think </span><span style=\"background:#f7fbff; color:#000000\"> about </span><span style=\"background:#f7fbff; color:#000000\"> the </span><span style=\"background:#f7fbff; color:#000000\"> dialogs </span><span style=\"background:#f7fbff; color:#000000\"> you </span><span style=\"background:#f7fbff; color:#000000\"> may </span><span style=\"background:#f7fbff; color:#000000\"> find </span><span style=\"background:#f7fbff; color:#000000\"> out </span><span style=\"background:#f7fbff; color:#000000\"> that </span><span style=\"background:#f7fbff; color:#000000\"> family </span><span style=\"background:#f7fbff; color:#000000\"> conflict </span><span style=\"background:#eaf2fb; color:#111111\"> is </span><span style=\"background:#d0e2f2; color:#323232\"> artificially </span><span style=\"background:#f7fbff; color:#000000\"> enforced </span><span style=\"background:#f7fbff; color:#000000\"> by </span><span style=\"background:#cde0f1; color:#363636\"> poor </span><span style=\"background:#f7fbff; color:#000000\"> communication </span><span style=\"background:#f7fbff; color:#000000\"> between </span><span style=\"background:#f7fbff; color:#000000\"> characters </span><span style=\"background:#f7fbff; color:#000000\"> some </span><span style=\"background:#f7fbff; color:#000000\"> scenes </span><span style=\"background:#f5f9fe; color:#030303\"> - </span><span style=\"background:#eaf3fb; color:#101010\"> random </span><span style=\"background:#add0e6; color:#545454\"> in </span><span style=\"background:#083776; color:#f8f8f8\"> summary </span><span style=\"background:#08306b; color:#ffffff\"> boring </span><span style=\"background:#08306b; color:#ffffff\"> predictable </span><span style=\"background:#4594c7; color:#9d9d9d\"> poor </span><span style=\"background:#9fcae1; color:#5f5f5f\"> pathetic </span><span style=\"background:#a6cee4; color:#595959\"> waste </span><span style=\"background:#f7fbff; color:#000000\"> of </span><span style=\"background:#f7fbff; color:#000000\"> time </span><span style=\"background:#f7fbff; color:#000000\"> and </span><span style=\"background:#f7fbff; color:#000000\"> money </span>"
   ]
  },
  {
   "cell_type": "markdown",
   "metadata": {
    "slideshow": {
     "slide_type": "subslide"
    }
   },
   "source": [
    "## A Negative Review\n",
    "\n",
    "#### Another Filter (What is this one looking for?)\n",
    "<span style=\"background:#f5fafe; color:#020202\"> - </span><span style=\"background:#e9f2fa; color:#121212\"> - </span><span style=\"background:#e3eef8; color:#1a1a1a\"> - </span><span style=\"background:#f7fbff; color:#000000\"> - </span><span style=\"background:#f7fbff; color:#000000\"> - </span><span style=\"background:#f7fbff; color:#000000\"> - </span><span style=\"background:#f7fbff; color:#000000\"> spoiler </span><span style=\"background:#f7fbff; color:#000000\"> with </span><span style=\"background:#f7fbff; color:#000000\"> plot </span><span style=\"background:#f7fbff; color:#000000\"> explanation </span><span style=\"background:#f7fbff; color:#000000\"> a </span><span style=\"background:#f7fbff; color:#000000\"> poor </span><span style=\"background:#f7fbff; color:#000000\"> family </span><span style=\"background:#f7fbff; color:#000000\"> is </span><span style=\"background:#f7fbff; color:#000000\"> being </span><span style=\"background:#f7fbff; color:#000000\"> thrown </span><span style=\"background:#f7fbff; color:#000000\"> in </span><span style=\"background:#f7fbff; color:#000000\"> the </span><span style=\"background:#f7fbff; color:#000000\"> middle </span><span style=\"background:#f7fbff; color:#000000\"> of </span><span style=\"background:#f7fbff; color:#000000\"> war </span><span style=\"background:#f7fbff; color:#000000\"> between </span><span style=\"background:#f7fbff; color:#000000\"> the </span><span style=\"background:#f7fbff; color:#000000\"> evil </span><span style=\"background:#f7fbff; color:#000000\"> guy </span><span style=\"background:#f7fbff; color:#000000\"> that </span><span style=\"background:#f7fbff; color:#000000\"> pops </span><span style=\"background:#f7fbff; color:#000000\"> out </span><span style=\"background:#f7fbff; color:#000000\"> from </span><span style=\"background:#f7fbff; color:#000000\"> nowhere </span><span style=\"background:#f7fbff; color:#000000\"> and </span><span style=\"background:#f7fbff; color:#000000\"> no </span><span style=\"background:#f7fbff; color:#000000\"> questions </span><span style=\"background:#f7fbff; color:#000000\"> asked </span><span style=\"background:#f7fbff; color:#000000\"> that </span><span style=\"background:#f7fbff; color:#000000\"> went </span><span style=\"background:#f7fbff; color:#000000\"> wacko </span><span style=\"background:#f4f9fe; color:#040404\"> and </span><span style=\"background:#f7fbff; color:#000000\"> casper </span><span style=\"background:#f7fbff; color:#000000\"> the </span><span style=\"background:#f7fbff; color:#000000\"> friendly </span><span style=\"background:#f7fbff; color:#000000\"> ghost </span><span style=\"background:#f7fbff; color:#000000\"> trying </span><span style=\"background:#f7fbff; color:#000000\"> to </span><span style=\"background:#f7fbff; color:#000000\"> avenge </span><span style=\"background:#f7fbff; color:#000000\"> his </span><span style=\"background:#f7fbff; color:#000000\"> death </span><span style=\"background:#f7fbff; color:#000000\"> with </span><span style=\"background:#f5f9fe; color:#030303\"> every </span><span style=\"background:#f7fbff; color:#000000\"> frame </span><span style=\"background:#f7fbff; color:#000000\"> movie </span><span style=\"background:#f7fbff; color:#000000\"> gets </span><span style=\"background:#f7fbff; color:#000000\"> more </span><span style=\"background:#f7fbff; color:#000000\"> and </span><span style=\"background:#f7fbff; color:#000000\"> more </span><span style=\"background:#f7fbff; color:#000000\"> predictable </span><span style=\"background:#f7fbff; color:#000000\"> a </span><span style=\"background:#f7fbff; color:#000000\"> big </span><span style=\"background:#f7fbff; color:#000000\"> disappointment </span><span style=\"background:#f7fbff; color:#000000\"> ending </span><span style=\"background:#f7fbff; color:#000000\"> seams </span><span style=\"background:#f7fbff; color:#000000\"> completely </span><span style=\"background:#f7fbff; color:#000000\"> dumb </span><span style=\"background:#f7fbff; color:#000000\"> it </span><span style=\"background:#f7fbff; color:#000000\"> has </span><span style=\"background:#f7fbff; color:#000000\"> nothing </span><span style=\"background:#f7fbff; color:#000000\"> to </span><span style=\"background:#f7fbff; color:#000000\"> - </span><span style=\"background:#f7fbff; color:#000000\"> with </span><span style=\"background:#f7fbff; color:#000000\"> the </span><span style=\"background:#f7fbff; color:#000000\"> movie </span><span style=\"background:#f7fbff; color:#000000\"> itself </span><span style=\"background:#f7fbff; color:#000000\"> i </span><span style=\"background:#f7fbff; color:#000000\"> think </span><span style=\"background:#f7fbff; color:#000000\"> someone </span><span style=\"background:#f7fbff; color:#000000\"> run </span><span style=\"background:#f7fbff; color:#000000\"> out </span><span style=\"background:#f7fbff; color:#000000\"> of </span><span style=\"background:#f7fbff; color:#000000\"> ideas </span><span style=\"background:#f7fbff; color:#000000\"> or </span><span style=\"background:#f7fbff; color:#000000\"> just </span><span style=\"background:#f7fbff; color:#000000\"> get </span><span style=\"background:#f7fbff; color:#000000\"> to </span><span style=\"background:#f7fbff; color:#000000\"> the </span><span style=\"background:#f7fbff; color:#000000\"> point </span><span style=\"background:#f7fbff; color:#000000\"> that </span><span style=\"background:#f7fbff; color:#000000\"> movie </span><span style=\"background:#f7fbff; color:#000000\"> is </span><span style=\"background:#f7fbff; color:#000000\"> s </span><span style=\"background:#f7fbff; color:#000000\"> t </span><span style=\"background:#f7fbff; color:#000000\"> this </span><span style=\"background:#f7fbff; color:#000000\"> way </span><span style=\"background:#f7fbff; color:#000000\"> or </span><span style=\"background:#f7fbff; color:#000000\"> other </span><span style=\"background:#cee0f2; color:#353535\"> so </span><span style=\"background:#f7fbff; color:#000000\"> it </span><span style=\"background:#f7fbff; color:#000000\"> may </span><span style=\"background:#f7fbff; color:#000000\"> as </span><span style=\"background:#eef5fc; color:#0c0c0c\"> well </span><span style=\"background:#f7fbff; color:#000000\"> have </span><span style=\"background:#f7fbff; color:#000000\"> a </span><span style=\"background:#f7fbff; color:#000000\"> stupid </span><span style=\"background:#f7fbff; color:#000000\"> ending </span><span style=\"background:#f7fbff; color:#000000\"> waste </span><span style=\"background:#f7fbff; color:#000000\"> of </span><span style=\"background:#f7fbff; color:#000000\"> time </span><span style=\"background:#f7fbff; color:#000000\"> resources </span><span style=\"background:#f7fbff; color:#000000\"> and </span><span style=\"background:#f7fbff; color:#000000\"> money </span><span style=\"background:#e2edf8; color:#1b1b1b\"> actor </span><span style=\"background:#f7fbff; color:#000000\"> play </span><span style=\"background:#f7fbff; color:#000000\"> is </span><span style=\"background:#f7fbff; color:#000000\"> very </span><span style=\"background:#f7fbff; color:#000000\"> poor </span><span style=\"background:#f7fbff; color:#000000\"> if </span><span style=\"background:#f7fbff; color:#000000\"> you </span><span style=\"background:#f7fbff; color:#000000\"> think </span><span style=\"background:#f7fbff; color:#000000\"> about </span><span style=\"background:#f7fbff; color:#000000\"> the </span><span style=\"background:#f7fbff; color:#000000\"> dialogs </span><span style=\"background:#f7fbff; color:#000000\"> you </span><span style=\"background:#f7fbff; color:#000000\"> may </span><span style=\"background:#f7fbff; color:#000000\"> find </span><span style=\"background:#f7fbff; color:#000000\"> out </span><span style=\"background:#f7fbff; color:#000000\"> that </span><span style=\"background:#f1f7fd; color:#080808\"> family </span><span style=\"background:#f2f8fd; color:#060606\"> conflict </span><span style=\"background:#f7fbff; color:#000000\"> is </span><span style=\"background:#f7fbff; color:#000000\"> artificially </span><span style=\"background:#f7fbff; color:#000000\"> enforced </span><span style=\"background:#f7fbff; color:#000000\"> by </span><span style=\"background:#f7fbff; color:#000000\"> poor </span><span style=\"background:#f7fbff; color:#000000\"> communication </span><span style=\"background:#f7fbff; color:#000000\"> between </span><span style=\"background:#f7fbff; color:#000000\"> characters </span><span style=\"background:#f7fbff; color:#000000\"> some </span><span style=\"background:#f7fbff; color:#000000\"> scenes </span><span style=\"background:#f7fbff; color:#000000\"> - </span><span style=\"background:#f7fbff; color:#000000\"> random </span><span style=\"background:#f7fbff; color:#000000\"> in </span><span style=\"background:#f7fbff; color:#000000\"> summary </span><span style=\"background:#f7fbff; color:#000000\"> boring </span><span style=\"background:#f7fbff; color:#000000\"> predictable </span><span style=\"background:#f7fbff; color:#000000\"> poor </span><span style=\"background:#f7fbff; color:#000000\"> pathetic </span><span style=\"background:#f7fbff; color:#000000\"> waste </span><span style=\"background:#f7fbff; color:#000000\"> of </span><span style=\"background:#f7fbff; color:#000000\"> time </span><span style=\"background:#f7fbff; color:#000000\"> and </span><span style=\"background:#f7fbff; color:#000000\"> money </span>\n"
   ]
  },
  {
   "cell_type": "markdown",
   "metadata": {
    "slideshow": {
     "slide_type": "subslide"
    }
   },
   "source": [
    "## A Positive Review\n",
    "\n",
    "#### The same negative filter from before\n",
    "<span style=\"background:#f7fbff; color:#000000\"> - </span><span style=\"background:#f7fbff; color:#000000\"> - </span><span style=\"background:#f7fbff; color:#000000\"> - </span><span style=\"background:#f7fbff; color:#000000\"> - </span><span style=\"background:#f7fbff; color:#000000\"> - </span><span style=\"background:#f7fbff; color:#000000\"> - </span><span style=\"background:#f7fbff; color:#000000\"> - </span><span style=\"background:#f7fbff; color:#000000\"> - </span><span style=\"background:#f7fbff; color:#000000\"> - </span><span style=\"background:#f7fbff; color:#000000\"> - </span><span style=\"background:#f7fbff; color:#000000\"> - </span><span style=\"background:#f7fbff; color:#000000\"> - </span><span style=\"background:#f7fbff; color:#000000\"> - </span><span style=\"background:#f7fbff; color:#000000\"> - </span><span style=\"background:#f7fbff; color:#000000\"> - </span><span style=\"background:#f7fbff; color:#000000\"> - </span><span style=\"background:#f7fbff; color:#000000\"> - </span><span style=\"background:#f7fbff; color:#000000\"> - </span><span style=\"background:#f7fbff; color:#000000\"> - </span><span style=\"background:#f7fbff; color:#000000\"> - </span><span style=\"background:#f7fbff; color:#000000\"> - </span><span style=\"background:#f7fbff; color:#000000\"> - </span><span style=\"background:#f7fbff; color:#000000\"> - </span><span style=\"background:#f7fbff; color:#000000\"> - </span><span style=\"background:#f7fbff; color:#000000\"> - </span><span style=\"background:#f7fbff; color:#000000\"> - </span><span style=\"background:#f7fbff; color:#000000\"> - </span><span style=\"background:#f7fbff; color:#000000\"> - </span><span style=\"background:#f7fbff; color:#000000\"> - </span><span style=\"background:#f7fbff; color:#000000\"> - </span><span style=\"background:#f7fbff; color:#000000\"> - </span><span style=\"background:#f7fbff; color:#000000\"> - </span><span style=\"background:#f7fbff; color:#000000\"> - </span><span style=\"background:#f7fbff; color:#000000\"> - </span><span style=\"background:#f7fbff; color:#000000\"> - </span><span style=\"background:#f7fbff; color:#000000\"> - </span><span style=\"background:#f7fbff; color:#000000\"> - </span><span style=\"background:#f7fbff; color:#000000\"> - </span><span style=\"background:#f7fbff; color:#000000\"> - </span><span style=\"background:#f7fbff; color:#000000\"> - </span><span style=\"background:#f7fbff; color:#000000\"> - </span><span style=\"background:#f7fbff; color:#000000\"> - </span><span style=\"background:#f7fbff; color:#000000\"> - </span><span style=\"background:#f7fbff; color:#000000\"> - </span><span style=\"background:#f7fbff; color:#000000\"> - </span><span style=\"background:#f7fbff; color:#000000\"> - </span><span style=\"background:#f7fbff; color:#000000\"> - </span><span style=\"background:#f7fbff; color:#000000\"> - </span><span style=\"background:#f7fbff; color:#000000\"> - </span><span style=\"background:#f7fbff; color:#000000\"> - </span><span style=\"background:#f7fbff; color:#000000\"> - </span><span style=\"background:#f7fbff; color:#000000\"> - </span><span style=\"background:#f7fbff; color:#000000\"> - </span><span style=\"background:#f7fbff; color:#000000\"> - </span><span style=\"background:#f7fbff; color:#000000\"> - </span><span style=\"background:#f7fbff; color:#000000\"> - </span><span style=\"background:#f7fbff; color:#000000\"> - </span><span style=\"background:#f7fbff; color:#000000\"> - </span><span style=\"background:#f7fbff; color:#000000\"> - </span><span style=\"background:#f7fbff; color:#000000\"> - </span><span style=\"background:#f7fbff; color:#000000\"> - </span><span style=\"background:#f7fbff; color:#000000\"> - </span><span style=\"background:#f7fbff; color:#000000\"> - </span><span style=\"background:#f7fbff; color:#000000\"> - </span><span style=\"background:#f7fbff; color:#000000\"> - </span><span style=\"background:#f7fbff; color:#000000\"> - </span><span style=\"background:#f7fbff; color:#000000\"> - </span><span style=\"background:#f7fbff; color:#000000\"> - </span><span style=\"background:#f7fbff; color:#000000\"> - </span><span style=\"background:#f7fbff; color:#000000\"> - </span><span style=\"background:#f7fbff; color:#000000\"> - </span><span style=\"background:#f7fbff; color:#000000\"> - </span><span style=\"background:#f7fbff; color:#000000\"> - </span><span style=\"background:#f7fbff; color:#000000\"> - </span><span style=\"background:#f7fbff; color:#000000\"> - </span><span style=\"background:#f7fbff; color:#000000\"> - </span><span style=\"background:#f7fbff; color:#000000\"> - </span><span style=\"background:#f7fbff; color:#000000\"> - </span><span style=\"background:#f7fbff; color:#000000\"> - </span><span style=\"background:#f7fbff; color:#000000\"> - </span><span style=\"background:#f7fbff; color:#000000\"> - </span><span style=\"background:#f7fbff; color:#000000\"> - </span><span style=\"background:#f7fbff; color:#000000\"> - </span><span style=\"background:#f7fbff; color:#000000\"> - </span><span style=\"background:#f7fbff; color:#000000\"> - </span><span style=\"background:#f7fbff; color:#000000\"> this </span><span style=\"background:#f7fbff; color:#000000\"> is </span><span style=\"background:#f7fbff; color:#000000\"> definitely </span><span style=\"background:#f7fbff; color:#000000\"> - </span><span style=\"background:#f7fbff; color:#000000\"> most </span><span style=\"background:#f7fbff; color:#000000\"> and </span><span style=\"background:#f7fbff; color:#000000\"> thought </span><span style=\"background:#f7fbff; color:#000000\"> provoking </span><span style=\"background:#f7fbff; color:#000000\"> piece </span><span style=\"background:#f7fbff; color:#000000\"> not </span><span style=\"background:#f7fbff; color:#000000\"> to </span><span style=\"background:#f7fbff; color:#000000\"> say </span><span style=\"background:#f7fbff; color:#000000\"> that </span><span style=\"background:#e7f1fa; color:#141414\"> memento </span><span style=\"background:#f7fbff; color:#000000\"> or </span><span style=\"background:#f7fbff; color:#000000\"> insomnia </span><span style=\"background:#f7fbff; color:#000000\"> are </span><span style=\"background:#f7fbff; color:#000000\"> bad </span><span style=\"background:#f7fbff; color:#000000\"> but </span><span style=\"background:#f7fbff; color:#000000\"> they </span><span style=\"background:#f7fbff; color:#000000\"> were </span><span style=\"background:#f7fbff; color:#000000\"> definitely </span><span style=\"background:#f7fbff; color:#000000\"> up </span><span style=\"background:#f7fbff; color:#000000\"> to </span><span style=\"background:#f7fbff; color:#000000\"> more </span><span style=\"background:#f7fbff; color:#000000\"> hollywood </span><span style=\"background:#f7fbff; color:#000000\"> standards </span><span style=\"background:#f7fbff; color:#000000\"> while </span><span style=\"background:#f7fbff; color:#000000\"> following </span><span style=\"background:#f7fbff; color:#000000\"> is </span><span style=\"background:#f7fbff; color:#000000\"> more </span><span style=\"background:#f7fbff; color:#000000\"> of </span><span style=\"background:#f7fbff; color:#000000\"> an </span><span style=\"background:#f7fbff; color:#000000\"> indie </span><span style=\"background:#f7fbff; color:#000000\"> flick </span><span style=\"background:#f7fbff; color:#000000\"> the </span><span style=\"background:#f7fbff; color:#000000\"> story </span><span style=\"background:#f7fbff; color:#000000\"> is </span><span style=\"background:#f7fbff; color:#000000\"> very </span><span style=\"background:#f7fbff; color:#000000\"> brilliant </span><span style=\"background:#f7fbff; color:#000000\"> and </span><span style=\"background:#f7fbff; color:#000000\"> very </span><span style=\"background:#f7fbff; color:#000000\"> well </span><span style=\"background:#f7fbff; color:#000000\"> developed </span><span style=\"background:#f7fbff; color:#000000\"> overall </span><span style=\"background:#f7fbff; color:#000000\"> watch </span><span style=\"background:#f7fbff; color:#000000\"> this </span><span style=\"background:#f7fbff; color:#000000\"> if </span><span style=\"background:#f7fbff; color:#000000\"> your </span><span style=\"background:#f7fbff; color:#000000\"> a </span><span style=\"background:#f7fbff; color:#000000\"> fan </span><span style=\"background:#f7fbff; color:#000000\"> of </span><span style=\"background:#f7fbff; color:#000000\"> any </span><span style=\"background:#f7fbff; color:#000000\"> of </span><span style=\"background:#f7fbff; color:#000000\"> - </span><span style=\"background:#f7fbff; color:#000000\"> work </span><span style=\"background:#f7fbff; color:#000000\"> i'm </span><span style=\"background:#f7fbff; color:#000000\"> sure </span><span style=\"background:#f7fbff; color:#000000\"> you'll </span><span style=\"background:#f7fbff; color:#000000\"> be </span><span style=\"background:#f7fbff; color:#000000\"> able </span><span style=\"background:#f7fbff; color:#000000\"> to </span><span style=\"background:#f7fbff; color:#000000\"> appreciate </span><span style=\"background:#f7fbff; color:#000000\"> it </span><span style=\"background:#f7fbff; color:#000000\"> more </span>\n"
   ]
  },
  {
   "cell_type": "markdown",
   "metadata": {
    "slideshow": {
     "slide_type": "subslide"
    }
   },
   "source": [
    "## A Positive Review\n",
    "\n",
    "#### The same other filter... it appears to be looking for more positive phrases\n",
    "<span style=\"background:#f5fafe; color:#020202\"> - </span><span style=\"background:#f5fafe; color:#020202\"> - </span><span style=\"background:#f5fafe; color:#020202\"> - </span><span style=\"background:#f5fafe; color:#020202\"> - </span><span style=\"background:#f5fafe; color:#020202\"> - </span><span style=\"background:#f5fafe; color:#020202\"> - </span><span style=\"background:#f5fafe; color:#020202\"> - </span><span style=\"background:#f5fafe; color:#020202\"> - </span><span style=\"background:#f5fafe; color:#020202\"> - </span><span style=\"background:#f5fafe; color:#020202\"> - </span><span style=\"background:#f5fafe; color:#020202\"> - </span><span style=\"background:#f5fafe; color:#020202\"> - </span><span style=\"background:#f5fafe; color:#020202\"> - </span><span style=\"background:#f5fafe; color:#020202\"> - </span><span style=\"background:#f5fafe; color:#020202\"> - </span><span style=\"background:#f5fafe; color:#020202\"> - </span><span style=\"background:#f5fafe; color:#020202\"> - </span><span style=\"background:#f5fafe; color:#020202\"> - </span><span style=\"background:#f5fafe; color:#020202\"> - </span><span style=\"background:#f5fafe; color:#020202\"> - </span><span style=\"background:#f5fafe; color:#020202\"> - </span><span style=\"background:#f5fafe; color:#020202\"> - </span><span style=\"background:#f5fafe; color:#020202\"> - </span><span style=\"background:#f5fafe; color:#020202\"> - </span><span style=\"background:#f5fafe; color:#020202\"> - </span><span style=\"background:#f5fafe; color:#020202\"> - </span><span style=\"background:#f5fafe; color:#020202\"> - </span><span style=\"background:#f5fafe; color:#020202\"> - </span><span style=\"background:#f5fafe; color:#020202\"> - </span><span style=\"background:#f5fafe; color:#020202\"> - </span><span style=\"background:#f5fafe; color:#020202\"> - </span><span style=\"background:#f5fafe; color:#020202\"> - </span><span style=\"background:#f5fafe; color:#020202\"> - </span><span style=\"background:#f5fafe; color:#020202\"> - </span><span style=\"background:#f5fafe; color:#020202\"> - </span><span style=\"background:#f5fafe; color:#020202\"> - </span><span style=\"background:#f5fafe; color:#020202\"> - </span><span style=\"background:#f5fafe; color:#020202\"> - </span><span style=\"background:#f5fafe; color:#020202\"> - </span><span style=\"background:#f5fafe; color:#020202\"> - </span><span style=\"background:#f5fafe; color:#020202\"> - </span><span style=\"background:#f5fafe; color:#020202\"> - </span><span style=\"background:#f5fafe; color:#020202\"> - </span><span style=\"background:#f5fafe; color:#020202\"> - </span><span style=\"background:#f5fafe; color:#020202\"> - </span><span style=\"background:#f5fafe; color:#020202\"> - </span><span style=\"background:#f5fafe; color:#020202\"> - </span><span style=\"background:#f5fafe; color:#020202\"> - </span><span style=\"background:#f5fafe; color:#020202\"> - </span><span style=\"background:#f5fafe; color:#020202\"> - </span><span style=\"background:#f5fafe; color:#020202\"> - </span><span style=\"background:#f5fafe; color:#020202\"> - </span><span style=\"background:#f5fafe; color:#020202\"> - </span><span style=\"background:#f5fafe; color:#020202\"> - </span><span style=\"background:#f5fafe; color:#020202\"> - </span><span style=\"background:#f5fafe; color:#020202\"> - </span><span style=\"background:#f5fafe; color:#020202\"> - </span><span style=\"background:#f5fafe; color:#020202\"> - </span><span style=\"background:#f5fafe; color:#020202\"> - </span><span style=\"background:#f5fafe; color:#020202\"> - </span><span style=\"background:#f5fafe; color:#020202\"> - </span><span style=\"background:#f5fafe; color:#020202\"> - </span><span style=\"background:#f5fafe; color:#020202\"> - </span><span style=\"background:#f5fafe; color:#020202\"> - </span><span style=\"background:#f5fafe; color:#020202\"> - </span><span style=\"background:#f5fafe; color:#020202\"> - </span><span style=\"background:#f5fafe; color:#020202\"> - </span><span style=\"background:#f5fafe; color:#020202\"> - </span><span style=\"background:#f5fafe; color:#020202\"> - </span><span style=\"background:#f5fafe; color:#020202\"> - </span><span style=\"background:#f5fafe; color:#020202\"> - </span><span style=\"background:#f5fafe; color:#020202\"> - </span><span style=\"background:#f5fafe; color:#020202\"> - </span><span style=\"background:#f5fafe; color:#020202\"> - </span><span style=\"background:#f5fafe; color:#020202\"> - </span><span style=\"background:#f5fafe; color:#020202\"> - </span><span style=\"background:#f5fafe; color:#020202\"> - </span><span style=\"background:#f5fafe; color:#020202\"> - </span><span style=\"background:#f5fafe; color:#020202\"> - </span><span style=\"background:#f5fafe; color:#020202\"> - </span><span style=\"background:#e9f2fa; color:#121212\"> - </span><span style=\"background:#e6f0f9; color:#161616\"> - </span><span style=\"background:#edf4fc; color:#0d0d0d\"> - </span><span style=\"background:#d9e7f5; color:#272727\"> - </span><span style=\"background:#d6e5f4; color:#2b2b2b\"> - </span><span style=\"background:#f6faff; color:#010101\"> this </span><span style=\"background:#eef5fc; color:#0c0c0c\"> is </span><span style=\"background:#e7f1fa; color:#141414\"> definitely </span><span style=\"background:#f7fbff; color:#000000\"> - </span><span style=\"background:#f7fbff; color:#000000\"> most </span><span style=\"background:#f7fbff; color:#000000\"> and </span><span style=\"background:#f7fbff; color:#000000\"> thought </span><span style=\"background:#f7fbff; color:#000000\"> provoking </span><span style=\"background:#f7fbff; color:#000000\"> piece </span><span style=\"background:#f7fbff; color:#000000\"> not </span><span style=\"background:#f7fbff; color:#000000\"> to </span><span style=\"background:#f7fbff; color:#000000\"> say </span><span style=\"background:#f7fbff; color:#000000\"> that </span><span style=\"background:#f7fbff; color:#000000\"> memento </span><span style=\"background:#f7fbff; color:#000000\"> or </span><span style=\"background:#f7fbff; color:#000000\"> insomnia </span><span style=\"background:#f7fbff; color:#000000\"> are </span><span style=\"background:#f7fbff; color:#000000\"> bad </span><span style=\"background:#f7fbff; color:#000000\"> but </span><span style=\"background:#f7fbff; color:#000000\"> they </span><span style=\"background:#f7fbff; color:#000000\"> were </span><span style=\"background:#f7fbff; color:#000000\"> definitely </span><span style=\"background:#f7fbff; color:#000000\"> up </span><span style=\"background:#f7fbff; color:#000000\"> to </span><span style=\"background:#f7fbff; color:#000000\"> more </span><span style=\"background:#f7fbff; color:#000000\"> hollywood </span><span style=\"background:#f7fbff; color:#000000\"> standards </span><span style=\"background:#f7fbff; color:#000000\"> while </span><span style=\"background:#f7fbff; color:#000000\"> following </span><span style=\"background:#f7fbff; color:#000000\"> is </span><span style=\"background:#f7fbff; color:#000000\"> more </span><span style=\"background:#f7fbff; color:#000000\"> of </span><span style=\"background:#f7fbff; color:#000000\"> an </span><span style=\"background:#f7fbff; color:#000000\"> indie </span><span style=\"background:#f7fbff; color:#000000\"> flick </span><span style=\"background:#7db8da; color:#747474\"> the </span><span style=\"background:#ccdff1; color:#383838\"> story </span><span style=\"background:#ddeaf7; color:#212121\"> is </span><span style=\"background:#2b7bba; color:#b6b6b6\"> very </span><span style=\"background:#cee0f2; color:#353535\"> brilliant </span><span style=\"background:#e2edf8; color:#1b1b1b\"> and </span><span style=\"background:#c3daee; color:#424242\"> very </span><span style=\"background:#e6f0f9; color:#161616\"> well </span><span style=\"background:#f7fbff; color:#000000\"> developed </span><span style=\"background:#f7fbff; color:#000000\"> overall </span><span style=\"background:#f7fbff; color:#000000\"> watch </span><span style=\"background:#f7fbff; color:#000000\"> this </span><span style=\"background:#f7fbff; color:#000000\"> if </span><span style=\"background:#f7fbff; color:#000000\"> your </span><span style=\"background:#f7fbff; color:#000000\"> a </span><span style=\"background:#f7fbff; color:#000000\"> fan </span><span style=\"background:#f7fbff; color:#000000\"> of </span><span style=\"background:#f7fbff; color:#000000\"> any </span><span style=\"background:#f7fbff; color:#000000\"> of </span><span style=\"background:#f7fbff; color:#000000\"> - </span><span style=\"background:#f7fbff; color:#000000\"> work </span><span style=\"background:#f7fbff; color:#000000\"> i'm </span><span style=\"background:#f7fbff; color:#000000\"> sure </span><span style=\"background:#f7fbff; color:#000000\"> you'll </span><span style=\"background:#f7fbff; color:#000000\"> be </span><span style=\"background:#f7fbff; color:#000000\"> able </span><span style=\"background:#f7fbff; color:#000000\"> to </span><span style=\"background:#f7fbff; color:#000000\"> appreciate </span><span style=\"background:#f7fbff; color:#000000\"> it </span><span style=\"background:#f7fbff; color:#000000\"> more </span>"
   ]
  },
  {
   "cell_type": "markdown",
   "metadata": {
    "slideshow": {
     "slide_type": "slide"
    }
   },
   "source": [
    "## Most Active Text\n",
    "\n",
    "How about if we find the snippet of text that _most_ excites each filter?\n",
    "\n",
    "1. Compute the activations from the convolution layer.\n",
    "2. Find the reviews in which the top-$m$ activations occur.\n",
    "3. In each of the top-$m$ reviews, find the position of the maximal activation.\n",
    "4. Extract the $k$-gram from the review starting at that position."
   ]
  },
  {
   "cell_type": "code",
   "execution_count": 128,
   "metadata": {
    "collapsed": false,
    "slideshow": {
     "slide_type": "skip"
    }
   },
   "outputs": [
    {
     "name": "stdout",
     "output_type": "stream",
     "text": [
      "\n",
      "Most active windows for filter 0\n",
      "(1.6) horrible terrible sadly pathetic excuse\n",
      "(1.7) worst rob - worst worst\n",
      "(1.7) just horrible horrible horrible waste\n",
      "(1.7) gets worst and worst what's\n",
      "(1.7) plot worst acting worst special\n",
      "(1.8) awful awful awful awful awful\n",
      "(1.8) awful awful awful awful awful\n",
      "(1.9) this is the worst waste\n",
      "(1.9) waste hole the worst script\n",
      "(2.1) boring predictable poor pathetic waste\n",
      "\n",
      "Most active windows for filter 1\n",
      "(0.65) and works very very well\n",
      "(0.66) it works very very well\n",
      "(0.66) is touching and very well\n",
      "(0.68) overall it's a very well\n",
      "(0.68) journey and a very well\n",
      "(0.68) beautiful is also very well\n",
      "(0.69) time is captured very well\n",
      "(0.7) notch very tense very well\n",
      "(0.7) music is also very well\n",
      "(0.71) very brilliant and very well\n",
      "\n",
      "Most active windows for filter 2\n",
      "(0.69) equally superb eastwood is great\n",
      "(0.69) is flawless pitch is perfect\n",
      "(0.71) very inspiring and uplifting highly\n",
      "(0.71) captures beautiful picture perfect images\n",
      "(0.71) music is simply superb perfectly\n",
      "(0.73) its raw and wonderfully delightful\n",
      "(0.74) magical unique and enchanting perfect\n",
      "(0.75) it still is very refreshing\n",
      "(0.82) is terrific still unique today\n",
      "(0.82) beautifully captured a rare treat\n",
      "\n",
      "Most active windows for filter 3\n",
      "(0.89) station great fun 8 10\n",
      "(0.9) a great job 9 10\n",
      "(0.95) acting 8 10 atmosphere 10\n",
      "(0.99) really excellent film 9 10\n",
      "(0.99) overall fun movie 7 10\n",
      "(0.99) br highly recommended 10 10\n",
      "(1.0) - wonderfully funny awe inspiring\n",
      "(1.0) intelligence highly recommended 9 10\n",
      "(1.2) br highly recommended 7 10\n",
      "(1.2) br highly recommended 7 10\n",
      "\n",
      "Most active windows for filter 4\n",
      "(0.9) touching and tragic drama recommended\n",
      "(0.9) delightful heart warming touching drama\n",
      "(0.91) 7 10 direction 9 10\n",
      "(0.92) great as well 7 10\n",
      "(0.94) 7 10 it's definitely worth\n",
      "(0.96) 7 10 entertainment 10 10\n",
      "(0.96) compelling psychological drama 7 10\n",
      "(0.96) inspiring and uplifting highly recommended\n",
      "(0.97) excellent entertainment rating 8 10\n",
      "(0.99) 8 10 atmosphere 10 10\n",
      "\n",
      "Most active windows for filter 5\n",
      "(1.5) awful awful awful drab unimaginative\n",
      "(1.6) terrible cgi awful script stupid\n",
      "(1.6) worst plot worst acting worst\n",
      "(1.6) worse than waste 85 minutes\n",
      "(1.6) horrible acting horrible script horrible\n",
      "(1.6) horrible acting horrible script horrible\n",
      "(1.7) just horrible horrible horrible waste\n",
      "(1.8) poor pathetic waste of time\n",
      "(1.9) awful awful awful awful awful\n",
      "(1.9) awful awful awful awful awful\n",
      "\n",
      "Most active windows for filter 6\n",
      "(1.5) total and utter waste of\n",
      "(1.6) save this boring waste of\n",
      "(1.6) bad obnoxious sickening awful movie\n",
      "(1.6) pointless exercise don't waste your\n",
      "(1.6) boring pretentious dumb pointless disconnected\n",
      "(1.8) awful acting is awful script\n",
      "(1.8) predictable poor pathetic waste of\n",
      "(1.9) horrible horrible horrible waste of\n",
      "(2.1) awful awful awful awful awful\n",
      "(2.1) awful awful awful awful awful\n",
      "\n",
      "Most active windows for filter 7\n",
      "(0.8) is also highly recommended for\n",
      "(0.82) - - wonderfully funny awe\n",
      "(0.82) this is perfect 10 10\n",
      "(0.83) is a wonderfully funny man\n",
      "(0.84) rates a 7 8 10\n",
      "(0.85) is a wonderfully unpredictable 70\n",
      "(0.85) a truly terrific touching film\n",
      "(0.86) it's a highly recommended viewing\n",
      "(0.87) also give excellent comedic performances\n",
      "(0.9) it's amazing wonderful film wonderfully\n",
      "\n",
      "Most active windows for filter 8\n",
      "(1.0) highly recommended 9 of 10\n",
      "(1.1) highly recommended and well worth\n",
      "(1.1) 9 10 realism 10 10\n",
      "(1.1) inspiring and uplifting highly recommended\n",
      "(1.1) 7 10 direction 9 10\n",
      "(1.1) great as well 7 10\n",
      "(1.1) wonderfully br br highly recommended\n",
      "(1.1) excellent entertainment rating 8 10\n",
      "(1.2) 8 10 atmosphere 10 10\n",
      "(1.2) 7 10 entertainment 10 10\n",
      "\n",
      "Most active windows for filter 9\n",
      "(0.79) also incredible it is refreshing\n",
      "(0.8) and it is very rare\n",
      "(0.8) always highly enjoyable a gem\n",
      "(0.8) is beautifully captured a rare\n",
      "(0.81) this film is very refreshing\n",
      "(0.81) fantastic episode a true gem\n",
      "(0.82) heart it's also a refreshing\n",
      "(0.82) the music is also wonderfully\n",
      "(0.86) it's amazing wonderful film wonderfully\n",
      "(0.92) it still is very refreshing\n",
      "\n",
      "Most active windows for filter 10\n",
      "(1.1) these roles recommended 8 10\n",
      "(1.1) very much recommended 8 10\n",
      "(1.2) the summer recommended 8 10\n",
      "(1.2) the film recommended 8 10\n",
      "(1.2) extras strongly recommended 9 10\n",
      "(1.3) of schumacher's best highly recommended\n",
      "(1.3) intelligence highly recommended 9 10\n",
      "(1.3) br highly recommended 10 10\n",
      "(1.4) br highly recommended 7 10\n",
      "(1.4) br highly recommended 7 10\n",
      "\n",
      "Most active windows for filter 11\n",
      "(1.0) this film is highly recommended\n",
      "(1.0) the human spirit highly recommended\n",
      "(1.0) worth a viewing highly recommended\n",
      "(1.0) inspiring and uplifting highly recommended\n",
      "(1.0) still enjoy it definitely recommended\n",
      "(1.0) it is available highly recommended\n",
      "(1.1) this game is highly recommended\n",
      "(1.1) 2005 it's a highly recommended\n",
      "(1.1) this one is highly recommended\n",
      "(1.1) site is also highly recommended\n",
      "\n",
      "Most active windows for filter 12\n",
      "(0.85) still enjoy it definitely recommended\n",
      "(0.87) overall good time highly recommended\n",
      "(0.88) paced and exciting highly recommended\n",
      "(0.9) worth a viewing highly recommended\n",
      "(0.9) truly moving film highly recommended\n",
      "(0.92) 2005 it's a highly recommended\n",
      "(0.92) wonderfully br br highly recommended\n",
      "(0.94) site is also highly recommended\n",
      "(0.95) this one is highly recommended\n",
      "(1.0) inspiring and uplifting highly recommended\n",
      "\n",
      "Most active windows for filter 13\n",
      "(1.5) horrible acting horrible script horrible\n",
      "(1.5) horrible acting horrible script horrible\n",
      "(1.5) horrible horrible horrible waste of\n",
      "(1.5) pointless exercise don't waste your\n",
      "(1.5) awful directing awful script bad\n",
      "(1.5) waste of time waste of\n",
      "(1.5) awful script is awful dialog\n",
      "(1.6) awful awful awful drab unimaginative\n",
      "(1.9) awful awful awful awful awful\n",
      "(1.9) awful awful awful awful awful\n",
      "\n",
      "Most active windows for filter 14\n",
      "(1.4) stupid stupid stupid stupid stupid\n",
      "(1.4) the worst plot worst directed\n",
      "(1.4) - worst movie poor acting\n",
      "(1.5) gets worst and worst what's\n",
      "(1.5) - awful awful awful drab\n",
      "(1.5) predictable poor pathetic waste of\n",
      "(1.6) plot worst acting worst special\n",
      "(1.7) just horrible horrible horrible waste\n",
      "(1.8) awful awful awful awful awful\n",
      "(1.8) awful awful awful awful awful\n"
     ]
    }
   ],
   "source": [
    "# for each convolutional filter, get the top 10 test examples\n",
    "for idx in range(15):\n",
    "    most_active_row_indices = np.argsort(convolutions[:,:,idx].max(axis=1))[-10:]\n",
    "    most_active_window_indices = convolutions[most_active_row_indices,:,idx].argmax(axis=1)\n",
    "    print('\\nMost active windows for filter {}'.format(idx))\n",
    "    for r, w in zip(most_active_row_indices, most_active_window_indices):\n",
    "        window = ' '.join([index_word[max(0,v-3)] for v in x_test[r, w:(w+5)]])\n",
    "        print('({:.2}) {}'.format(convolutions[r,w,idx],window))"
   ]
  },
  {
   "cell_type": "markdown",
   "metadata": {
    "slideshow": {
     "slide_type": "subslide"
    }
   },
   "source": [
    "### Most active windows for filter 0\n",
    "\n",
    "* (1.6) horrible terrible sadly pathetic excuse\n",
    "* (1.7) worst rob - worst worst\n",
    "* (1.7) just horrible horrible horrible waste\n",
    "* (1.7) gets worst and worst what's\n",
    "* (1.7) plot worst acting worst special\n",
    "* (1.8) awful awful awful awful awful\n",
    "* (1.8) awful awful awful awful awful\n",
    "* (1.9) this is the worst waste\n",
    "* (1.9) waste hole the worst script\n",
    "* (2.1) boring predictable poor pathetic waste"
   ]
  },
  {
   "cell_type": "markdown",
   "metadata": {
    "slideshow": {
     "slide_type": "subslide"
    }
   },
   "source": [
    "### Most active windows for filter 12\n",
    "\n",
    "* (0.85) still enjoy it definitely recommended\n",
    "* (0.87) overall good time highly recommended\n",
    "* (0.88) paced and exciting highly recommended\n",
    "* (0.9) worth a viewing highly recommended\n",
    "* (0.9) truly moving film highly recommended\n",
    "* (0.92) 2005 it's a highly recommended\n",
    "* (0.92) wonderfully br br highly recommended\n",
    "* (0.94) site is also highly recommended\n",
    "* (0.95) this one is highly recommended\n",
    "* (1.0) inspiring and uplifting highly recommended"
   ]
  },
  {
   "cell_type": "markdown",
   "metadata": {
    "slideshow": {
     "slide_type": "subslide"
    }
   },
   "source": [
    "### Most active windows for filter 5\n",
    "\n",
    "* (1.5) awful awful awful drab unimaginative\n",
    "* (1.6) terrible cgi awful script stupid\n",
    "* (1.6) worst plot worst acting worst\n",
    "* (1.6) worse than waste 85 minutes\n",
    "* (1.6) horrible acting horrible script horrible\n",
    "* (1.6) horrible acting horrible script horrible\n",
    "* (1.7) just horrible horrible horrible waste\n",
    "* (1.8) poor pathetic waste of time\n",
    "* (1.9) awful awful awful awful awful\n",
    "* (1.9) awful awful awful awful awful"
   ]
  },
  {
   "cell_type": "markdown",
   "metadata": {
    "slideshow": {
     "slide_type": "fragment"
    }
   },
   "source": [
    "... wait a minute. Are different filters just learning the same things?"
   ]
  }
 ],
 "metadata": {
  "anaconda-cloud": {},
  "celltoolbar": "Slideshow",
  "kernelspec": {
   "display_name": "Python [default]",
   "language": "python",
   "name": "python3"
  },
  "language_info": {
   "codemirror_mode": {
    "name": "ipython",
    "version": 3
   },
   "file_extension": ".py",
   "mimetype": "text/x-python",
   "name": "python",
   "nbconvert_exporter": "python",
   "pygments_lexer": "ipython3",
   "version": "3.5.2"
  }
 },
 "nbformat": 4,
 "nbformat_minor": 2
}
